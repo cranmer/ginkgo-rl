{
 "cells": [
  {
   "cell_type": "markdown",
   "metadata": {},
   "source": [
    "# Ginkgo clustering environment"
   ]
  },
  {
   "cell_type": "markdown",
   "metadata": {},
   "source": [
    "## Setup"
   ]
  },
  {
   "cell_type": "code",
   "execution_count": 1,
   "metadata": {},
   "outputs": [],
   "source": [
    "%matplotlib inline\n",
    "\n",
    "import sys\n",
    "import numpy as np\n",
    "from matplotlib import pyplot as plt\n",
    "import gym\n",
    "import logging\n",
    "\n",
    "sys.path.append(\"../\")\n",
    "from ginkgo_rl import GinkgoLikelihoodEnv\n"
   ]
  },
  {
   "cell_type": "code",
   "execution_count": 2,
   "metadata": {},
   "outputs": [],
   "source": [
    "# Logging setup\n",
    "logging.basicConfig(\n",
    "    format='%(asctime)-5.5s %(name)-20.20s %(levelname)-7.7s %(message)s',\n",
    "    datefmt='%H:%M',\n",
    "    level=logging.DEBUG\n",
    ")\n",
    "\n",
    "# Ginkgo likes to output a lot of logging info, we don't really want that\n",
    "for key in logging.Logger.manager.loggerDict:\n",
    "    if \"ginkgo_rl\" not in key:\n",
    "        logging.getLogger(key).setLevel(logging.WARNING)\n"
   ]
  },
  {
   "cell_type": "markdown",
   "metadata": {},
   "source": [
    "## Let's play a round of clustering manually"
   ]
  },
  {
   "cell_type": "code",
   "execution_count": 49,
   "metadata": {},
   "outputs": [
    {
     "name": "stderr",
     "output_type": "stream",
     "text": [
      "11:04 ginkgo_rl.envs.ginkg DEBUG   Initializing environment\n",
      "11:04 ginkgo_rl.envs.ginkg DEBUG   Sampling new jet with 23 leaves\n",
      "11:04 ginkgo_rl.envs.ginkg DEBUG   Resetting environment\n",
      "11:04 ginkgo_rl.envs.ginkg DEBUG   Sampling new jet with 20 leaves\n",
      "11:04 ginkgo_rl.envs.ginkg INFO    20 particles:\n",
      "11:04 ginkgo_rl.envs.ginkg INFO      p[ 0] = (  9.0,   4.5,   2.4,   6.7)\n",
      "11:04 ginkgo_rl.envs.ginkg INFO      p[ 1] = ( 23.7,  15.4,  12.7,  12.2)\n",
      "11:04 ginkgo_rl.envs.ginkg INFO      p[ 2] = ( 10.6,   4.6,   5.7,   7.1)\n",
      "11:04 ginkgo_rl.envs.ginkg INFO      p[ 3] = ( 23.6,  13.3,  16.2,  10.7)\n",
      "11:04 ginkgo_rl.envs.ginkg INFO      p[ 4] = ( 17.4,  11.0,   9.6,   9.5)\n",
      "11:04 ginkgo_rl.envs.ginkg INFO      p[ 5] = ( 65.4,  39.1,  39.7,  34.2)\n",
      "11:04 ginkgo_rl.envs.ginkg INFO      p[ 6] = ( 12.2,   7.7,   7.8,   5.4)\n",
      "11:04 ginkgo_rl.envs.ginkg INFO      p[ 7] = (  3.9,   2.6,   2.5,  -0.4)\n",
      "11:04 ginkgo_rl.envs.ginkg INFO      p[ 8] = (  4.8,   1.8,   2.7,   2.7)\n",
      "11:04 ginkgo_rl.envs.ginkg INFO      p[ 9] = (  8.9,   5.5,   1.5,   6.0)\n",
      "11:04 ginkgo_rl.envs.ginkg INFO      p[10] = (  3.3,   1.2,   1.8,   2.5)\n",
      "11:04 ginkgo_rl.envs.ginkg INFO      p[11] = ( 14.9,   9.5,   9.4,   6.3)\n",
      "11:04 ginkgo_rl.envs.ginkg INFO      p[12] = ( 18.8,  10.4,  11.5,  10.3)\n",
      "11:04 ginkgo_rl.envs.ginkg INFO      p[13] = ( 10.1,   5.2,   5.8,   6.0)\n",
      "11:04 ginkgo_rl.envs.ginkg INFO      p[14] = ( 45.6,  26.9,  24.6,  27.1)\n",
      "11:04 ginkgo_rl.envs.ginkg INFO      p[15] = (102.7,  56.0,  57.2,  64.3)\n",
      "11:04 ginkgo_rl.envs.ginkg INFO      p[16] = (  1.3,   0.7,   0.8,   0.8)\n",
      "11:04 ginkgo_rl.envs.ginkg INFO      p[17] = (  8.6,   3.9,   5.2,   5.6)\n",
      "11:04 ginkgo_rl.envs.ginkg INFO      p[18] = (  4.3,   1.9,   2.5,   2.8)\n",
      "11:04 ginkgo_rl.envs.ginkg INFO      p[19] = ( 18.7,   9.6,  11.3,  11.1)\n"
     ]
    }
   ],
   "source": [
    "# Initial setup\n",
    "env = GinkgoLikelihoodEnv()\n",
    "state = env.reset()\n",
    "env.render()"
   ]
  },
  {
   "cell_type": "code",
   "execution_count": 50,
   "metadata": {},
   "outputs": [
    {
     "name": "stderr",
     "output_type": "stream",
     "text": [
      "11:04 ginkgo_rl.envs.ginkg DEBUG   Environment step. Action: (0, 1)\n",
      "11:04 ginkgo_rl.envs.ginkg DEBUG   Computing log likelihood of action (0, 1): -9.758240699768066\n",
      "11:04 ginkgo_rl.envs.ginkg DEBUG   Merging particles 0 and 1. New state has 19 particles.\n",
      "11:04 ginkgo_rl.envs.ginkg INFO    19 particles:\n",
      "11:04 ginkgo_rl.envs.ginkg INFO      p[ 0] = ( 32.7,  20.0,  15.2,  18.9)\n",
      "11:04 ginkgo_rl.envs.ginkg INFO      p[ 1] = ( 10.6,   4.6,   5.7,   7.1)\n",
      "11:04 ginkgo_rl.envs.ginkg INFO      p[ 2] = ( 23.6,  13.3,  16.2,  10.7)\n",
      "11:04 ginkgo_rl.envs.ginkg INFO      p[ 3] = ( 17.4,  11.0,   9.6,   9.5)\n",
      "11:04 ginkgo_rl.envs.ginkg INFO      p[ 4] = ( 65.4,  39.1,  39.7,  34.2)\n",
      "11:04 ginkgo_rl.envs.ginkg INFO      p[ 5] = ( 12.2,   7.7,   7.8,   5.4)\n",
      "11:04 ginkgo_rl.envs.ginkg INFO      p[ 6] = (  3.9,   2.6,   2.5,  -0.4)\n",
      "11:04 ginkgo_rl.envs.ginkg INFO      p[ 7] = (  4.8,   1.8,   2.7,   2.7)\n",
      "11:04 ginkgo_rl.envs.ginkg INFO      p[ 8] = (  8.9,   5.5,   1.5,   6.0)\n",
      "11:04 ginkgo_rl.envs.ginkg INFO      p[ 9] = (  3.3,   1.2,   1.8,   2.5)\n",
      "11:04 ginkgo_rl.envs.ginkg INFO      p[10] = ( 14.9,   9.5,   9.4,   6.3)\n",
      "11:04 ginkgo_rl.envs.ginkg INFO      p[11] = ( 18.8,  10.4,  11.5,  10.3)\n",
      "11:04 ginkgo_rl.envs.ginkg INFO      p[12] = ( 10.1,   5.2,   5.8,   6.0)\n",
      "11:04 ginkgo_rl.envs.ginkg INFO      p[13] = ( 45.6,  26.9,  24.6,  27.1)\n",
      "11:04 ginkgo_rl.envs.ginkg INFO      p[14] = (102.7,  56.0,  57.2,  64.3)\n",
      "11:04 ginkgo_rl.envs.ginkg INFO      p[15] = (  1.3,   0.7,   0.8,   0.8)\n",
      "11:04 ginkgo_rl.envs.ginkg INFO      p[16] = (  8.6,   3.9,   5.2,   5.6)\n",
      "11:04 ginkgo_rl.envs.ginkg INFO      p[17] = (  4.3,   1.9,   2.5,   2.8)\n",
      "11:04 ginkgo_rl.envs.ginkg INFO      p[18] = ( 18.7,   9.6,  11.3,  11.1)\n"
     ]
    },
    {
     "name": "stdout",
     "output_type": "stream",
     "text": [
      "Reward: -9.758240699768066\n",
      "Done: False\n",
      "Info: {'legal': True, 'illegal_action_counter': 0, 'replace_illegal_action': False, 'i': 0, 'j': 1}\n"
     ]
    }
   ],
   "source": [
    "# Merge two particles\n",
    "action = 0, 1\n",
    "\n",
    "state, reward, done, info = env.step(action)\n",
    "env.render()\n",
    "\n",
    "print(f\"Reward: {reward}\")\n",
    "print(f\"Done: {done}\")\n",
    "print(f\"Info: {info}\")\n"
   ]
  },
  {
   "cell_type": "code",
   "execution_count": null,
   "metadata": {},
   "outputs": [],
   "source": []
  }
 ],
 "metadata": {
  "kernelspec": {
   "display_name": "Python (rl)",
   "language": "python",
   "name": "rl"
  },
  "language_info": {
   "codemirror_mode": {
    "name": "ipython",
    "version": 3
   },
   "file_extension": ".py",
   "mimetype": "text/x-python",
   "name": "python",
   "nbconvert_exporter": "python",
   "pygments_lexer": "ipython3",
   "version": "3.7.7"
  }
 },
 "nbformat": 4,
 "nbformat_minor": 4
}
