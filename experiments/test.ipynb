{
 "cells": [
  {
   "cell_type": "markdown",
   "metadata": {},
   "source": [
    "# Ginkgo clustering environment"
   ]
  },
  {
   "cell_type": "markdown",
   "metadata": {},
   "source": [
    "## Setup"
   ]
  },
  {
   "cell_type": "code",
   "execution_count": 35,
   "metadata": {},
   "outputs": [],
   "source": [
    "%matplotlib inline\n",
    "\n",
    "import sys\n",
    "import os\n",
    "import numpy as np\n",
    "from matplotlib import pyplot as plt\n",
    "import gym\n",
    "import logging\n",
    "from stable_baselines.common.policies import MlpPolicy, MlpLnLstmPolicy\n",
    "from stable_baselines.deepq import MlpPolicy as DQNMlpPolicy\n",
    "from stable_baselines import PPO2, ACER, DQN\n",
    "from stable_baselines.bench import Monitor\n",
    "from stable_baselines import results_plotter\n",
    "from stable_baselines.common.env_checker import check_env\n",
    "\n",
    "sys.path.append(\"../\")\n",
    "from ginkgo_rl import GinkgoLikelihoodEnv, GinkgoLikelihood1DWrapper\n"
   ]
  },
  {
   "cell_type": "code",
   "execution_count": 12,
   "metadata": {},
   "outputs": [],
   "source": [
    "# Logging setup\n",
    "logging.basicConfig(\n",
    "    format='%(asctime)-5.5s %(name)-20.20s %(levelname)-7.7s %(message)s',\n",
    "    datefmt='%H:%M',\n",
    "    level=logging.DEBUG\n",
    ")\n",
    "\n",
    "for key in logging.Logger.manager.loggerDict:\n",
    "    if \"ginkgo_rl\" not in key:\n",
    "        logging.getLogger(key).setLevel(logging.ERROR)\n",
    "        \n",
    "def set_output(on=True):\n",
    "    for key in logging.Logger.manager.loggerDict:\n",
    "        if \"ginkgo_rl\" in key:\n",
    "            logging.getLogger(key).setLevel(logging.DEBUG if on else logging.ERROR)\n"
   ]
  },
  {
   "cell_type": "markdown",
   "metadata": {},
   "source": [
    "## Let's play a round of clustering manually"
   ]
  },
  {
   "cell_type": "code",
   "execution_count": 13,
   "metadata": {},
   "outputs": [
    {
     "name": "stderr",
     "output_type": "stream",
     "text": [
      "15:52 ginkgo_rl.envs.ginkg DEBUG   Initializing environment\n",
      "15:52 ginkgo_rl.envs.ginkg DEBUG   Sampling new jet with 13 leaves\n",
      "15:52 ginkgo_rl.envs.ginkg DEBUG   Resetting environment\n",
      "15:52 ginkgo_rl.envs.ginkg DEBUG   Sampling new jet with 9 leaves\n",
      "15:52 ginkgo_rl.envs.ginkg INFO    9 particles:\n",
      "15:52 ginkgo_rl.envs.ginkg INFO      p[ 0] = (  0.4,   0.2,   0.2,   0.2)\n",
      "15:52 ginkgo_rl.envs.ginkg INFO      p[ 1] = (  0.7,   0.3,   0.4,   0.4)\n",
      "15:52 ginkgo_rl.envs.ginkg INFO      p[ 2] = (  0.0,   0.0,   0.0,   0.0)\n",
      "15:52 ginkgo_rl.envs.ginkg INFO      p[ 3] = (  0.4,   0.2,   0.2,   0.2)\n",
      "15:52 ginkgo_rl.envs.ginkg INFO      p[ 4] = (  0.2,   0.1,   0.1,   0.1)\n",
      "15:52 ginkgo_rl.envs.ginkg INFO      p[ 5] = (  1.6,   0.8,   1.1,   0.8)\n",
      "15:52 ginkgo_rl.envs.ginkg INFO      p[ 6] = (  0.4,   0.3,   0.1,   0.2)\n",
      "15:52 ginkgo_rl.envs.ginkg INFO      p[ 7] = (  0.4,   0.3,   0.2,   0.2)\n",
      "15:52 ginkgo_rl.envs.ginkg INFO      p[ 8] = (  0.0,   0.0,   0.0,   0.0)\n"
     ]
    }
   ],
   "source": [
    "set_output(True)\n",
    "env = gym.make(\"GinkgoLikelihood-v0\")\n",
    "state = env.reset()\n",
    "env.render()"
   ]
  },
  {
   "cell_type": "code",
   "execution_count": 14,
   "metadata": {},
   "outputs": [
    {
     "name": "stderr",
     "output_type": "stream",
     "text": [
      "15:52 ginkgo_rl.envs.ginkg DEBUG   Environment step. Action: (0, 1)\n",
      "15:52 ginkgo_rl.envs.ginkg DEBUG   Computing log likelihood of action (0, 1): -9.068304061889648\n",
      "15:52 ginkgo_rl.envs.ginkg DEBUG   Merging particles 0 and 1. New state has 8 particles.\n",
      "15:52 ginkgo_rl.envs.ginkg INFO    8 particles:\n",
      "15:52 ginkgo_rl.envs.ginkg INFO      p[ 0] = (  1.1,   0.5,   0.7,   0.6)\n",
      "15:52 ginkgo_rl.envs.ginkg INFO      p[ 1] = (  0.0,   0.0,   0.0,   0.0)\n",
      "15:52 ginkgo_rl.envs.ginkg INFO      p[ 2] = (  0.4,   0.2,   0.2,   0.2)\n",
      "15:52 ginkgo_rl.envs.ginkg INFO      p[ 3] = (  0.2,   0.1,   0.1,   0.1)\n",
      "15:52 ginkgo_rl.envs.ginkg INFO      p[ 4] = (  1.6,   0.8,   1.1,   0.8)\n",
      "15:52 ginkgo_rl.envs.ginkg INFO      p[ 5] = (  0.4,   0.3,   0.1,   0.2)\n",
      "15:52 ginkgo_rl.envs.ginkg INFO      p[ 6] = (  0.4,   0.3,   0.2,   0.2)\n",
      "15:52 ginkgo_rl.envs.ginkg INFO      p[ 7] = (  0.0,   0.0,   0.0,   0.0)\n"
     ]
    },
    {
     "name": "stdout",
     "output_type": "stream",
     "text": [
      "Reward: -9.068304061889648\n",
      "Done: False\n",
      "Info: {'legal': True, 'illegal_action_counter': 0, 'replace_illegal_action': False, 'i': 0, 'j': 1}\n"
     ]
    }
   ],
   "source": [
    "# Merge two particles\n",
    "action = 0, 1\n",
    "\n",
    "state, reward, done, info = env.step(action)\n",
    "env.render()\n",
    "\n",
    "print(f\"Reward: {reward}\")\n",
    "print(f\"Done: {done}\")\n",
    "print(f\"Info: {info}\")\n",
    "\n",
    "# Repeat this cell as often as you feel like\n"
   ]
  },
  {
   "cell_type": "code",
   "execution_count": 15,
   "metadata": {},
   "outputs": [],
   "source": [
    "env.close()"
   ]
  },
  {
   "cell_type": "markdown",
   "metadata": {},
   "source": [
    "## Env checker"
   ]
  },
  {
   "cell_type": "code",
   "execution_count": 16,
   "metadata": {},
   "outputs": [],
   "source": [
    "set_output(False)\n",
    "env = gym.make(\"GinkgoLikelihood-v0\")\n",
    "check_env(env)\n",
    "env.close()"
   ]
  },
  {
   "cell_type": "markdown",
   "metadata": {},
   "source": [
    "## Reward distribution for random actions"
   ]
  },
  {
   "cell_type": "code",
   "execution_count": 17,
   "metadata": {},
   "outputs": [
    {
     "name": "stdout",
     "output_type": "stream",
     "text": [
      "------------------------------\n"
     ]
    },
    {
     "name": "stderr",
     "output_type": "stream",
     "text": [
      "/Users/johannbrehmer/work/projects/shower_rl/ToyJetsShower/showerSim/invMass_ginkgo.py:289: RuntimeWarning: invalid value encountered in sqrt\n",
      "  logger.debug(f\"pR inv mass from p^2 in lab  frame: {np.sqrt(pR_mu[0] ** 2 - np.linalg.norm(pR_mu[1::]) ** 2)}\")\n"
     ]
    },
    {
     "name": "stdout",
     "output_type": "stream",
     "text": [
      "------------------------------\n"
     ]
    }
   ],
   "source": [
    "n_steps = 10000\n",
    "\n",
    "set_output(False)\n",
    "env = gym.make(\"GinkgoLikelihood-v0\")\n",
    "state = env.reset()\n",
    "rewards, legal = [], []\n",
    "\n",
    "for _ in range(n_steps):\n",
    "    action = env.action_space.sample()\n",
    "    legal.append(env.check_legality(action))\n",
    "    _, reward, _, _ = env.step(action)\n",
    "    rewards.append(reward)\n"
   ]
  },
  {
   "cell_type": "code",
   "execution_count": 18,
   "metadata": {},
   "outputs": [
    {
     "data": {
      "image/png": "[encoded data removed]",
      "text/plain": [
       "<Figure size 360x360 with 1 Axes>"
      ]
     },
     "metadata": {
      "needs_background": "light"
     },
     "output_type": "display_data"
    }
   ],
   "source": [
    "range_ = (-25.1, -3)\n",
    "\n",
    "rewards = np.asarray(rewards)\n",
    "legal = np.asarray(legal)\n",
    "\n",
    "fig = plt.figure(figsize=(5,5))\n",
    "plt.hist(rewards, range=range_, bins=50, histtype=\"step\")\n",
    "plt.hist(rewards[legal], range=range_, bins=50, histtype=\"step\")\n",
    "plt.tight_layout()\n",
    "plt.yscale(\"log\")\n",
    "plt.show()\n"
   ]
  },
  {
   "cell_type": "markdown",
   "metadata": {},
   "source": [
    "## Let's let some RL agents loose!"
   ]
  },
  {
   "cell_type": "code",
   "execution_count": 50,
   "metadata": {},
   "outputs": [],
   "source": [
    "log_dirs = []\n",
    "models = {}\n",
    "wrap1ds = {}\n",
    "\n",
    "def train(algorithm, algo_class, policy_class, wrap1d=False, n_steps=100000):\n",
    "    log_dir = f\"./logs/{algorithm}/\"\n",
    "    log_dirs.append(log_dir)\n",
    "\n",
    "    set_output(False)\n",
    "    env = gym.make(\"GinkgoLikelihood1D-v0\" if wrap1d else \"GinkgoLikelihood-v0\")\n",
    "    os.makedirs(log_dir, exist_ok=True)\n",
    "    env = Monitor(env, log_dir)\n",
    "\n",
    "    model = algo_class(policy_class, env, verbose=0)\n",
    "    model.learn(total_timesteps=n_steps)\n",
    "    \n",
    "    models[algorithm] = model\n",
    "    wrap1ds[algorithm] = wrap1d\n",
    "    env.close()\n",
    "\n",
    "\n",
    "def run(algorithm):\n",
    "    model = models[algorithm]\n",
    "    \n",
    "    set_output(True)\n",
    "    env = gym.make(\"GinkgoLikelihood1D-v0\" if wrap1ds[algorithm] else \"GinkgoLikelihood-v0\")\n",
    "    state = env.reset()\n",
    "    done = False\n",
    "    steps = 0\n",
    "\n",
    "    while not done and steps < int(1.e5):\n",
    "        action, _states = model.predict(state)\n",
    "        obs, reward, done, info = env.step(action)\n",
    "        env.render()\n",
    "        steps += 1\n",
    "    \n",
    "    env.close()\n"
   ]
  },
  {
   "cell_type": "markdown",
   "metadata": {},
   "source": [
    "## DQN"
   ]
  },
  {
   "cell_type": "code",
   "execution_count": 51,
   "metadata": {},
   "outputs": [
    {
     "name": "stdout",
     "output_type": "stream",
     "text": [
      "WARNING: Entity <bound method Flatten.call of <tensorflow.python.layers.core.Flatten object at 0x7f894f710790>> could not be transformed and will be executed as-is. Please report this to the AutgoGraph team. When filing the bug, set the verbosity to 10 (on Linux, `export AUTOGRAPH_VERBOSITY=10`) and attach the full output. Cause: converting <bound method Flatten.call of <tensorflow.python.layers.core.Flatten object at 0x7f894f710790>>: AttributeError: module 'gast' has no attribute 'Num'\n",
      "WARNING: Entity <bound method Dense.call of <tensorflow.python.layers.core.Dense object at 0x7f894f710790>> could not be transformed and will be executed as-is. Please report this to the AutgoGraph team. When filing the bug, set the verbosity to 10 (on Linux, `export AUTOGRAPH_VERBOSITY=10`) and attach the full output. Cause: converting <bound method Dense.call of <tensorflow.python.layers.core.Dense object at 0x7f894f710790>>: AssertionError: Bad argument number for Name: 3, expecting 4\n",
      "WARNING: Entity <bound method Dense.call of <tensorflow.python.layers.core.Dense object at 0x7f894f73e050>> could not be transformed and will be executed as-is. Please report this to the AutgoGraph team. When filing the bug, set the verbosity to 10 (on Linux, `export AUTOGRAPH_VERBOSITY=10`) and attach the full output. Cause: converting <bound method Dense.call of <tensorflow.python.layers.core.Dense object at 0x7f894f73e050>>: AssertionError: Bad argument number for Name: 3, expecting 4\n",
      "WARNING: Entity <bound method Dense.call of <tensorflow.python.layers.core.Dense object at 0x7f8941c4be50>> could not be transformed and will be executed as-is. Please report this to the AutgoGraph team. When filing the bug, set the verbosity to 10 (on Linux, `export AUTOGRAPH_VERBOSITY=10`) and attach the full output. Cause: converting <bound method Dense.call of <tensorflow.python.layers.core.Dense object at 0x7f8941c4be50>>: AssertionError: Bad argument number for Name: 3, expecting 4\n",
      "WARNING: Entity <bound method Dense.call of <tensorflow.python.layers.core.Dense object at 0x7f894f75c850>> could not be transformed and will be executed as-is. Please report this to the AutgoGraph team. When filing the bug, set the verbosity to 10 (on Linux, `export AUTOGRAPH_VERBOSITY=10`) and attach the full output. Cause: converting <bound method Dense.call of <tensorflow.python.layers.core.Dense object at 0x7f894f75c850>>: AssertionError: Bad argument number for Name: 3, expecting 4\n",
      "WARNING: Entity <bound method Dense.call of <tensorflow.python.layers.core.Dense object at 0x7f894f75c850>> could not be transformed and will be executed as-is. Please report this to the AutgoGraph team. When filing the bug, set the verbosity to 10 (on Linux, `export AUTOGRAPH_VERBOSITY=10`) and attach the full output. Cause: converting <bound method Dense.call of <tensorflow.python.layers.core.Dense object at 0x7f894f75c850>>: AssertionError: Bad argument number for Name: 3, expecting 4\n",
      "WARNING: Entity <bound method Dense.call of <tensorflow.python.layers.core.Dense object at 0x7f894f711150>> could not be transformed and will be executed as-is. Please report this to the AutgoGraph team. When filing the bug, set the verbosity to 10 (on Linux, `export AUTOGRAPH_VERBOSITY=10`) and attach the full output. Cause: converting <bound method Dense.call of <tensorflow.python.layers.core.Dense object at 0x7f894f711150>>: AssertionError: Bad argument number for Name: 3, expecting 4\n",
      "WARNING: Entity <bound method Flatten.call of <tensorflow.python.layers.core.Flatten object at 0x7f8931a44c10>> could not be transformed and will be executed as-is. Please report this to the AutgoGraph team. When filing the bug, set the verbosity to 10 (on Linux, `export AUTOGRAPH_VERBOSITY=10`) and attach the full output. Cause: converting <bound method Flatten.call of <tensorflow.python.layers.core.Flatten object at 0x7f8931a44c10>>: AttributeError: module 'gast' has no attribute 'Num'\n",
      "WARNING: Entity <bound method Dense.call of <tensorflow.python.layers.core.Dense object at 0x7f8931a48a90>> could not be transformed and will be executed as-is. Please report this to the AutgoGraph team. When filing the bug, set the verbosity to 10 (on Linux, `export AUTOGRAPH_VERBOSITY=10`) and attach the full output. Cause: converting <bound method Dense.call of <tensorflow.python.layers.core.Dense object at 0x7f8931a48a90>>: AssertionError: Bad argument number for Name: 3, expecting 4\n",
      "WARNING: Entity <bound method Dense.call of <tensorflow.python.layers.core.Dense object at 0x7f894f727510>> could not be transformed and will be executed as-is. Please report this to the AutgoGraph team. When filing the bug, set the verbosity to 10 (on Linux, `export AUTOGRAPH_VERBOSITY=10`) and attach the full output. Cause: converting <bound method Dense.call of <tensorflow.python.layers.core.Dense object at 0x7f894f727510>>: AssertionError: Bad argument number for Name: 3, expecting 4\n",
      "WARNING: Entity <bound method Dense.call of <tensorflow.python.layers.core.Dense object at 0x7f894f727f10>> could not be transformed and will be executed as-is. Please report this to the AutgoGraph team. When filing the bug, set the verbosity to 10 (on Linux, `export AUTOGRAPH_VERBOSITY=10`) and attach the full output. Cause: converting <bound method Dense.call of <tensorflow.python.layers.core.Dense object at 0x7f894f727f10>>: AssertionError: Bad argument number for Name: 3, expecting 4\n",
      "WARNING: Entity <bound method Dense.call of <tensorflow.python.layers.core.Dense object at 0x7f894f727fd0>> could not be transformed and will be executed as-is. Please report this to the AutgoGraph team. When filing the bug, set the verbosity to 10 (on Linux, `export AUTOGRAPH_VERBOSITY=10`) and attach the full output. Cause: converting <bound method Dense.call of <tensorflow.python.layers.core.Dense object at 0x7f894f727fd0>>: AssertionError: Bad argument number for Name: 3, expecting 4\n",
      "WARNING: Entity <bound method Dense.call of <tensorflow.python.layers.core.Dense object at 0x7f893219a950>> could not be transformed and will be executed as-is. Please report this to the AutgoGraph team. When filing the bug, set the verbosity to 10 (on Linux, `export AUTOGRAPH_VERBOSITY=10`) and attach the full output. Cause: converting <bound method Dense.call of <tensorflow.python.layers.core.Dense object at 0x7f893219a950>>: AssertionError: Bad argument number for Name: 3, expecting 4\n",
      "WARNING: Entity <bound method Dense.call of <tensorflow.python.layers.core.Dense object at 0x7f8936bfff50>> could not be transformed and will be executed as-is. Please report this to the AutgoGraph team. When filing the bug, set the verbosity to 10 (on Linux, `export AUTOGRAPH_VERBOSITY=10`) and attach the full output. Cause: converting <bound method Dense.call of <tensorflow.python.layers.core.Dense object at 0x7f8936bfff50>>: AssertionError: Bad argument number for Name: 3, expecting 4\n",
      "WARNING: Entity <bound method Flatten.call of <tensorflow.python.layers.core.Flatten object at 0x7f894f727150>> could not be transformed and will be executed as-is. Please report this to the AutgoGraph team. When filing the bug, set the verbosity to 10 (on Linux, `export AUTOGRAPH_VERBOSITY=10`) and attach the full output. Cause: converting <bound method Flatten.call of <tensorflow.python.layers.core.Flatten object at 0x7f894f727150>>: AttributeError: module 'gast' has no attribute 'Num'\n",
      "WARNING: Entity <bound method Dense.call of <tensorflow.python.layers.core.Dense object at 0x7f8941e94c50>> could not be transformed and will be executed as-is. Please report this to the AutgoGraph team. When filing the bug, set the verbosity to 10 (on Linux, `export AUTOGRAPH_VERBOSITY=10`) and attach the full output. Cause: converting <bound method Dense.call of <tensorflow.python.layers.core.Dense object at 0x7f8941e94c50>>: AssertionError: Bad argument number for Name: 3, expecting 4\n",
      "WARNING: Entity <bound method Dense.call of <tensorflow.python.layers.core.Dense object at 0x7f8931abfc50>> could not be transformed and will be executed as-is. Please report this to the AutgoGraph team. When filing the bug, set the verbosity to 10 (on Linux, `export AUTOGRAPH_VERBOSITY=10`) and attach the full output. Cause: converting <bound method Dense.call of <tensorflow.python.layers.core.Dense object at 0x7f8931abfc50>>: AssertionError: Bad argument number for Name: 3, expecting 4\n",
      "WARNING: Entity <bound method Dense.call of <tensorflow.python.layers.core.Dense object at 0x7f8932160450>> could not be transformed and will be executed as-is. Please report this to the AutgoGraph team. When filing the bug, set the verbosity to 10 (on Linux, `export AUTOGRAPH_VERBOSITY=10`) and attach the full output. Cause: converting <bound method Dense.call of <tensorflow.python.layers.core.Dense object at 0x7f8932160450>>: AssertionError: Bad argument number for Name: 3, expecting 4\n",
      "WARNING: Entity <bound method Dense.call of <tensorflow.python.layers.core.Dense object at 0x7f8932171a10>> could not be transformed and will be executed as-is. Please report this to the AutgoGraph team. When filing the bug, set the verbosity to 10 (on Linux, `export AUTOGRAPH_VERBOSITY=10`) and attach the full output. Cause: converting <bound method Dense.call of <tensorflow.python.layers.core.Dense object at 0x7f8932171a10>>: AssertionError: Bad argument number for Name: 3, expecting 4\n",
      "WARNING: Entity <bound method Dense.call of <tensorflow.python.layers.core.Dense object at 0x7f8932171a10>> could not be transformed and will be executed as-is. Please report this to the AutgoGraph team. When filing the bug, set the verbosity to 10 (on Linux, `export AUTOGRAPH_VERBOSITY=10`) and attach the full output. Cause: converting <bound method Dense.call of <tensorflow.python.layers.core.Dense object at 0x7f8932171a10>>: AssertionError: Bad argument number for Name: 3, expecting 4\n",
      "WARNING: Entity <bound method Dense.call of <tensorflow.python.layers.core.Dense object at 0x7f894f70cc50>> could not be transformed and will be executed as-is. Please report this to the AutgoGraph team. When filing the bug, set the verbosity to 10 (on Linux, `export AUTOGRAPH_VERBOSITY=10`) and attach the full output. Cause: converting <bound method Dense.call of <tensorflow.python.layers.core.Dense object at 0x7f894f70cc50>>: AssertionError: Bad argument number for Name: 3, expecting 4\n",
      "WARNING: Entity <bound method Flatten.call of <tensorflow.python.layers.core.Flatten object at 0x7f8932160d50>> could not be transformed and will be executed as-is. Please report this to the AutgoGraph team. When filing the bug, set the verbosity to 10 (on Linux, `export AUTOGRAPH_VERBOSITY=10`) and attach the full output. Cause: converting <bound method Flatten.call of <tensorflow.python.layers.core.Flatten object at 0x7f8932160d50>>: AttributeError: module 'gast' has no attribute 'Num'\n",
      "WARNING: Entity <bound method Dense.call of <tensorflow.python.layers.core.Dense object at 0x7f8941e94a10>> could not be transformed and will be executed as-is. Please report this to the AutgoGraph team. When filing the bug, set the verbosity to 10 (on Linux, `export AUTOGRAPH_VERBOSITY=10`) and attach the full output. Cause: converting <bound method Dense.call of <tensorflow.python.layers.core.Dense object at 0x7f8941e94a10>>: AssertionError: Bad argument number for Name: 3, expecting 4\n",
      "WARNING: Entity <bound method Dense.call of <tensorflow.python.layers.core.Dense object at 0x7f8941e9e290>> could not be transformed and will be executed as-is. Please report this to the AutgoGraph team. When filing the bug, set the verbosity to 10 (on Linux, `export AUTOGRAPH_VERBOSITY=10`) and attach the full output. Cause: converting <bound method Dense.call of <tensorflow.python.layers.core.Dense object at 0x7f8941e9e290>>: AssertionError: Bad argument number for Name: 3, expecting 4\n",
      "WARNING: Entity <bound method Dense.call of <tensorflow.python.layers.core.Dense object at 0x7f8932160d50>> could not be transformed and will be executed as-is. Please report this to the AutgoGraph team. When filing the bug, set the verbosity to 10 (on Linux, `export AUTOGRAPH_VERBOSITY=10`) and attach the full output. Cause: converting <bound method Dense.call of <tensorflow.python.layers.core.Dense object at 0x7f8932160d50>>: AssertionError: Bad argument number for Name: 3, expecting 4\n",
      "WARNING: Entity <bound method Dense.call of <tensorflow.python.layers.core.Dense object at 0x7f8941e94b10>> could not be transformed and will be executed as-is. Please report this to the AutgoGraph team. When filing the bug, set the verbosity to 10 (on Linux, `export AUTOGRAPH_VERBOSITY=10`) and attach the full output. Cause: converting <bound method Dense.call of <tensorflow.python.layers.core.Dense object at 0x7f8941e94b10>>: AssertionError: Bad argument number for Name: 3, expecting 4\n",
      "WARNING: Entity <bound method Dense.call of <tensorflow.python.layers.core.Dense object at 0x7f8941e941d0>> could not be transformed and will be executed as-is. Please report this to the AutgoGraph team. When filing the bug, set the verbosity to 10 (on Linux, `export AUTOGRAPH_VERBOSITY=10`) and attach the full output. Cause: converting <bound method Dense.call of <tensorflow.python.layers.core.Dense object at 0x7f8941e941d0>>: AssertionError: Bad argument number for Name: 3, expecting 4\n",
      "WARNING: Entity <bound method Dense.call of <tensorflow.python.layers.core.Dense object at 0x7f8955530a50>> could not be transformed and will be executed as-is. Please report this to the AutgoGraph team. When filing the bug, set the verbosity to 10 (on Linux, `export AUTOGRAPH_VERBOSITY=10`) and attach the full output. Cause: converting <bound method Dense.call of <tensorflow.python.layers.core.Dense object at 0x7f8955530a50>>: AssertionError: Bad argument number for Name: 3, expecting 4\n",
      "------------------------------\n"
     ]
    },
    {
     "name": "stderr",
     "output_type": "stream",
     "text": [
      "/Users/johannbrehmer/work/projects/shower_rl/ToyJetsShower/showerSim/invMass_ginkgo.py:289: RuntimeWarning: invalid value encountered in sqrt\n",
      "  logger.debug(f\"pR inv mass from p^2 in lab  frame: {np.sqrt(pR_mu[0] ** 2 - np.linalg.norm(pR_mu[1::]) ** 2)}\")\n"
     ]
    },
    {
     "name": "stdout",
     "output_type": "stream",
     "text": [
      "------------------------------\n"
     ]
    },
    {
     "name": "stderr",
     "output_type": "stream",
     "text": [
      "/Users/johannbrehmer/work/projects/shower_rl/ToyJetsShower/showerSim/invMass_ginkgo.py:333: RuntimeWarning: invalid value encountered in sqrt\n",
      "  P = np.sqrt(tp)/2 * np.sqrt( 1 - 2 * (t_child+t_sib)/tp + (t_child - t_sib)**2 / tp**2 )\n",
      "/Users/johannbrehmer/work/projects/shower_rl/ToyJetsShower/showerSim/likelihood_invM.py:46: RuntimeWarning: invalid value encountered in log\n",
      "  return -np.log(1 - np.exp(- lam)) + np.log(1 - np.exp(-lam * t_cut / tP))\n"
     ]
    },
    {
     "name": "stdout",
     "output_type": "stream",
     "text": [
      "------------------------------\n",
      "------------------------------\n",
      "------------------------------\n",
      "------------------------------\n",
      "------------------------------\n",
      "------------------------------\n",
      "------------------------------\n",
      "------------------------------\n",
      "------------------------------\n",
      "------------------------------\n",
      "------------------------------\n",
      "------------------------------\n",
      "------------------------------\n",
      "------------------------------\n",
      "------------------------------\n",
      "------------------------------\n",
      "------------------------------\n",
      "------------------------------\n",
      "------------------------------\n",
      "------------------------------\n",
      "------------------------------\n",
      "------------------------------\n",
      "------------------------------\n",
      "------------------------------\n",
      "------------------------------\n",
      "------------------------------\n",
      "------------------------------\n",
      "------------------------------\n",
      "------------------------------\n",
      "------------------------------\n",
      "------------------------------\n",
      "------------------------------\n",
      "------------------------------\n",
      "------------------------------\n",
      "------------------------------\n",
      "------------------------------\n",
      "------------------------------\n",
      "------------------------------\n",
      "------------------------------\n",
      "------------------------------\n",
      "------------------------------\n",
      "------------------------------\n",
      "------------------------------\n",
      "------------------------------\n",
      "------------------------------\n",
      "------------------------------\n",
      "------------------------------\n"
     ]
    }
   ],
   "source": [
    "model = train(\"dqn\", DQN, DQNMlpPolicy, wrap1d=True)"
   ]
  },
  {
   "cell_type": "code",
   "execution_count": 62,
   "metadata": {},
   "outputs": [
    {
     "name": "stderr",
     "output_type": "stream",
     "text": [
      "17:21 ginkgo_rl.envs.ginkg DEBUG   Initializing environment\n",
      "17:21 ginkgo_rl.envs.ginkg DEBUG   Sampling new jet with 12 leaves\n",
      "17:21 ginkgo_rl.envs.ginkg DEBUG   Resetting environment\n",
      "17:21 ginkgo_rl.envs.ginkg DEBUG   Sampling new jet with 14 leaves\n",
      "17:21 ginkgo_rl.envs.ginkg DEBUG   Environment step. Action: (1, 0)\n",
      "17:21 ginkgo_rl.envs.ginkg DEBUG   Computing log likelihood of action (1, 0): -8.601128578186035\n",
      "17:21 ginkgo_rl.envs.ginkg DEBUG   Merging particles 1 and 0. New state has 13 particles.\n",
      "17:21 ginkgo_rl.envs.ginkg INFO    13 particles:\n",
      "17:21 ginkgo_rl.envs.ginkg INFO      p[ 0] = (  0.5,   0.3,   0.3,   0.2)\n",
      "17:21 ginkgo_rl.envs.ginkg INFO      p[ 1] = (  0.1,   0.1,   0.1,   0.1)\n",
      "17:21 ginkgo_rl.envs.ginkg INFO      p[ 2] = (  0.1,   0.1,   0.1,   0.0)\n",
      "17:21 ginkgo_rl.envs.ginkg INFO      p[ 3] = (  0.3,   0.2,   0.2,   0.1)\n",
      "17:21 ginkgo_rl.envs.ginkg INFO      p[ 4] = (  0.0,   0.0,   0.0,   0.0)\n",
      "17:21 ginkgo_rl.envs.ginkg INFO      p[ 5] = (  0.3,   0.2,   0.1,   0.1)\n",
      "17:21 ginkgo_rl.envs.ginkg INFO      p[ 6] = (  0.3,   0.1,   0.2,   0.1)\n",
      "17:21 ginkgo_rl.envs.ginkg INFO      p[ 7] = (  0.6,   0.3,   0.3,   0.4)\n",
      "17:21 ginkgo_rl.envs.ginkg INFO      p[ 8] = (  0.3,   0.2,   0.2,   0.2)\n",
      "17:21 ginkgo_rl.envs.ginkg INFO      p[ 9] = (  0.1,   0.0,   0.0,   0.1)\n",
      "17:21 ginkgo_rl.envs.ginkg INFO      p[10] = (  0.0,   0.0,   0.0,   0.0)\n",
      "17:21 ginkgo_rl.envs.ginkg INFO      p[11] = (  0.2,   0.1,   0.1,   0.1)\n",
      "17:21 ginkgo_rl.envs.ginkg INFO      p[12] = (  1.3,   0.7,   0.7,   0.9)\n",
      "17:21 ginkgo_rl.envs.ginkg DEBUG   Environment step. Action: (1, 0)\n",
      "17:21 ginkgo_rl.envs.ginkg DEBUG   Computing log likelihood of action (1, 0): -7.542740821838379\n",
      "17:21 ginkgo_rl.envs.ginkg DEBUG   Merging particles 1 and 0. New state has 12 particles.\n",
      "17:21 ginkgo_rl.envs.ginkg INFO    12 particles:\n",
      "17:21 ginkgo_rl.envs.ginkg INFO      p[ 0] = (  0.6,   0.4,   0.4,   0.2)\n",
      "17:21 ginkgo_rl.envs.ginkg INFO      p[ 1] = (  0.1,   0.1,   0.1,   0.0)\n",
      "17:21 ginkgo_rl.envs.ginkg INFO      p[ 2] = (  0.3,   0.2,   0.2,   0.1)\n",
      "17:21 ginkgo_rl.envs.ginkg INFO      p[ 3] = (  0.0,   0.0,   0.0,   0.0)\n",
      "17:21 ginkgo_rl.envs.ginkg INFO      p[ 4] = (  0.3,   0.2,   0.1,   0.1)\n",
      "17:21 ginkgo_rl.envs.ginkg INFO      p[ 5] = (  0.3,   0.1,   0.2,   0.1)\n",
      "17:21 ginkgo_rl.envs.ginkg INFO      p[ 6] = (  0.6,   0.3,   0.3,   0.4)\n",
      "17:21 ginkgo_rl.envs.ginkg INFO      p[ 7] = (  0.3,   0.2,   0.2,   0.2)\n",
      "17:21 ginkgo_rl.envs.ginkg INFO      p[ 8] = (  0.1,   0.0,   0.0,   0.1)\n",
      "17:21 ginkgo_rl.envs.ginkg INFO      p[ 9] = (  0.0,   0.0,   0.0,   0.0)\n",
      "17:21 ginkgo_rl.envs.ginkg INFO      p[10] = (  0.2,   0.1,   0.1,   0.1)\n",
      "17:21 ginkgo_rl.envs.ginkg INFO      p[11] = (  1.3,   0.7,   0.7,   0.9)\n",
      "17:21 ginkgo_rl.envs.ginkg DEBUG   Environment step. Action: (1, 0)\n",
      "17:21 ginkgo_rl.envs.ginkg DEBUG   Computing log likelihood of action (1, 0): -9.677021026611328\n",
      "17:21 ginkgo_rl.envs.ginkg DEBUG   Merging particles 1 and 0. New state has 11 particles.\n",
      "17:21 ginkgo_rl.envs.ginkg INFO    11 particles:\n",
      "17:21 ginkgo_rl.envs.ginkg INFO      p[ 0] = (  0.7,   0.4,   0.4,   0.3)\n",
      "17:21 ginkgo_rl.envs.ginkg INFO      p[ 1] = (  0.3,   0.2,   0.2,   0.1)\n",
      "17:21 ginkgo_rl.envs.ginkg INFO      p[ 2] = (  0.0,   0.0,   0.0,   0.0)\n",
      "17:21 ginkgo_rl.envs.ginkg INFO      p[ 3] = (  0.3,   0.2,   0.1,   0.1)\n",
      "17:21 ginkgo_rl.envs.ginkg INFO      p[ 4] = (  0.3,   0.1,   0.2,   0.1)\n",
      "17:21 ginkgo_rl.envs.ginkg INFO      p[ 5] = (  0.6,   0.3,   0.3,   0.4)\n",
      "17:21 ginkgo_rl.envs.ginkg INFO      p[ 6] = (  0.3,   0.2,   0.2,   0.2)\n",
      "17:21 ginkgo_rl.envs.ginkg INFO      p[ 7] = (  0.1,   0.0,   0.0,   0.1)\n",
      "17:21 ginkgo_rl.envs.ginkg INFO      p[ 8] = (  0.0,   0.0,   0.0,   0.0)\n",
      "17:21 ginkgo_rl.envs.ginkg INFO      p[ 9] = (  0.2,   0.1,   0.1,   0.1)\n",
      "17:21 ginkgo_rl.envs.ginkg INFO      p[10] = (  1.3,   0.7,   0.7,   0.9)\n",
      "17:21 ginkgo_rl.envs.ginkg DEBUG   Environment step. Action: (1, 0)\n",
      "17:21 ginkgo_rl.envs.ginkg DEBUG   Computing log likelihood of action (1, 0): -9.448105812072754\n",
      "17:21 ginkgo_rl.envs.ginkg DEBUG   Merging particles 1 and 0. New state has 10 particles.\n",
      "17:21 ginkgo_rl.envs.ginkg INFO    10 particles:\n",
      "17:21 ginkgo_rl.envs.ginkg INFO      p[ 0] = (  0.9,   0.6,   0.6,   0.4)\n",
      "17:21 ginkgo_rl.envs.ginkg INFO      p[ 1] = (  0.0,   0.0,   0.0,   0.0)\n",
      "17:21 ginkgo_rl.envs.ginkg INFO      p[ 2] = (  0.3,   0.2,   0.1,   0.1)\n",
      "17:21 ginkgo_rl.envs.ginkg INFO      p[ 3] = (  0.3,   0.1,   0.2,   0.1)\n",
      "17:21 ginkgo_rl.envs.ginkg INFO      p[ 4] = (  0.6,   0.3,   0.3,   0.4)\n",
      "17:21 ginkgo_rl.envs.ginkg INFO      p[ 5] = (  0.3,   0.2,   0.2,   0.2)\n",
      "17:21 ginkgo_rl.envs.ginkg INFO      p[ 6] = (  0.1,   0.0,   0.0,   0.1)\n",
      "17:21 ginkgo_rl.envs.ginkg INFO      p[ 7] = (  0.0,   0.0,   0.0,   0.0)\n",
      "17:21 ginkgo_rl.envs.ginkg INFO      p[ 8] = (  0.2,   0.1,   0.1,   0.1)\n",
      "17:21 ginkgo_rl.envs.ginkg INFO      p[ 9] = (  1.3,   0.7,   0.7,   0.9)\n",
      "17:21 ginkgo_rl.envs.ginkg DEBUG   Environment step. Action: (1, 0)\n",
      "17:21 ginkgo_rl.envs.ginkg DEBUG   Computing log likelihood of action (1, 0): -6.776232719421387\n",
      "17:21 ginkgo_rl.envs.ginkg DEBUG   Merging particles 1 and 0. New state has 9 particles.\n",
      "17:21 ginkgo_rl.envs.ginkg INFO    9 particles:\n",
      "17:21 ginkgo_rl.envs.ginkg INFO      p[ 0] = (  1.0,   0.6,   0.6,   0.4)\n",
      "17:21 ginkgo_rl.envs.ginkg INFO      p[ 1] = (  0.3,   0.2,   0.1,   0.1)\n",
      "17:21 ginkgo_rl.envs.ginkg INFO      p[ 2] = (  0.3,   0.1,   0.2,   0.1)\n",
      "17:21 ginkgo_rl.envs.ginkg INFO      p[ 3] = (  0.6,   0.3,   0.3,   0.4)\n",
      "17:21 ginkgo_rl.envs.ginkg INFO      p[ 4] = (  0.3,   0.2,   0.2,   0.2)\n",
      "17:21 ginkgo_rl.envs.ginkg INFO      p[ 5] = (  0.1,   0.0,   0.0,   0.1)\n",
      "17:21 ginkgo_rl.envs.ginkg INFO      p[ 6] = (  0.0,   0.0,   0.0,   0.0)\n",
      "17:21 ginkgo_rl.envs.ginkg INFO      p[ 7] = (  0.2,   0.1,   0.1,   0.1)\n",
      "17:21 ginkgo_rl.envs.ginkg INFO      p[ 8] = (  1.3,   0.7,   0.7,   0.9)\n",
      "17:21 ginkgo_rl.envs.ginkg DEBUG   Environment step. Action: (1, 0)\n",
      "17:21 ginkgo_rl.envs.ginkg DEBUG   Computing log likelihood of action (1, 0): -10.398094177246094\n",
      "17:21 ginkgo_rl.envs.ginkg DEBUG   Merging particles 1 and 0. New state has 8 particles.\n",
      "17:21 ginkgo_rl.envs.ginkg INFO    8 particles:\n",
      "17:21 ginkgo_rl.envs.ginkg INFO      p[ 0] = (  1.2,   0.8,   0.8,   0.5)\n",
      "17:21 ginkgo_rl.envs.ginkg INFO      p[ 1] = (  0.3,   0.1,   0.2,   0.1)\n",
      "17:21 ginkgo_rl.envs.ginkg INFO      p[ 2] = (  0.6,   0.3,   0.3,   0.4)\n",
      "17:21 ginkgo_rl.envs.ginkg INFO      p[ 3] = (  0.3,   0.2,   0.2,   0.2)\n",
      "17:21 ginkgo_rl.envs.ginkg INFO      p[ 4] = (  0.1,   0.0,   0.0,   0.1)\n",
      "17:21 ginkgo_rl.envs.ginkg INFO      p[ 5] = (  0.0,   0.0,   0.0,   0.0)\n",
      "17:21 ginkgo_rl.envs.ginkg INFO      p[ 6] = (  0.2,   0.1,   0.1,   0.1)\n",
      "17:21 ginkgo_rl.envs.ginkg INFO      p[ 7] = (  1.3,   0.7,   0.7,   0.9)\n",
      "17:21 ginkgo_rl.envs.ginkg DEBUG   Environment step. Action: (1, 0)\n",
      "17:21 ginkgo_rl.envs.ginkg DEBUG   Computing log likelihood of action (1, 0): -13.295256614685059\n",
      "17:21 ginkgo_rl.envs.ginkg DEBUG   Merging particles 1 and 0. New state has 7 particles.\n",
      "17:21 ginkgo_rl.envs.ginkg INFO    7 particles:\n",
      "17:21 ginkgo_rl.envs.ginkg INFO      p[ 0] = (  1.5,   0.9,   1.0,   0.6)\n",
      "17:21 ginkgo_rl.envs.ginkg INFO      p[ 1] = (  0.6,   0.3,   0.3,   0.4)\n",
      "17:21 ginkgo_rl.envs.ginkg INFO      p[ 2] = (  0.3,   0.2,   0.2,   0.2)\n",
      "17:21 ginkgo_rl.envs.ginkg INFO      p[ 3] = (  0.1,   0.0,   0.0,   0.1)\n",
      "17:21 ginkgo_rl.envs.ginkg INFO      p[ 4] = (  0.0,   0.0,   0.0,   0.0)\n",
      "17:21 ginkgo_rl.envs.ginkg INFO      p[ 5] = (  0.2,   0.1,   0.1,   0.1)\n",
      "17:21 ginkgo_rl.envs.ginkg INFO      p[ 6] = (  1.3,   0.7,   0.7,   0.9)\n",
      "17:21 ginkgo_rl.envs.ginkg DEBUG   Environment step. Action: (1, 0)\n",
      "17:21 ginkgo_rl.envs.ginkg DEBUG   Computing log likelihood of action (1, 0): -15.271676063537598\n",
      "17:21 ginkgo_rl.envs.ginkg DEBUG   Merging particles 1 and 0. New state has 6 particles.\n",
      "17:21 ginkgo_rl.envs.ginkg INFO    6 particles:\n",
      "17:21 ginkgo_rl.envs.ginkg INFO      p[ 0] = (  2.2,   1.3,   1.3,   1.0)\n",
      "17:21 ginkgo_rl.envs.ginkg INFO      p[ 1] = (  0.3,   0.2,   0.2,   0.2)\n",
      "17:21 ginkgo_rl.envs.ginkg INFO      p[ 2] = (  0.1,   0.0,   0.0,   0.1)\n",
      "17:21 ginkgo_rl.envs.ginkg INFO      p[ 3] = (  0.0,   0.0,   0.0,   0.0)\n",
      "17:21 ginkgo_rl.envs.ginkg INFO      p[ 4] = (  0.2,   0.1,   0.1,   0.1)\n",
      "17:21 ginkgo_rl.envs.ginkg INFO      p[ 5] = (  1.3,   0.7,   0.7,   0.9)\n",
      "17:21 ginkgo_rl.envs.ginkg DEBUG   Environment step. Action: (1, 0)\n",
      "17:21 ginkgo_rl.envs.ginkg DEBUG   Computing log likelihood of action (1, 0): -13.91600513458252\n",
      "17:21 ginkgo_rl.envs.ginkg DEBUG   Merging particles 1 and 0. New state has 5 particles.\n",
      "17:21 ginkgo_rl.envs.ginkg INFO    5 particles:\n",
      "17:21 ginkgo_rl.envs.ginkg INFO      p[ 0] = (  2.5,   1.5,   1.5,   1.2)\n",
      "17:21 ginkgo_rl.envs.ginkg INFO      p[ 1] = (  0.1,   0.0,   0.0,   0.1)\n",
      "17:21 ginkgo_rl.envs.ginkg INFO      p[ 2] = (  0.0,   0.0,   0.0,   0.0)\n",
      "17:21 ginkgo_rl.envs.ginkg INFO      p[ 3] = (  0.2,   0.1,   0.1,   0.1)\n",
      "17:21 ginkgo_rl.envs.ginkg INFO      p[ 4] = (  1.3,   0.7,   0.7,   0.9)\n",
      "17:21 ginkgo_rl.envs.ginkg DEBUG   Environment step. Action: (1, 0)\n",
      "17:21 ginkgo_rl.envs.ginkg DEBUG   Computing log likelihood of action (1, 0): -13.017107963562012\n",
      "17:21 ginkgo_rl.envs.ginkg DEBUG   Merging particles 1 and 0. New state has 4 particles.\n",
      "17:21 ginkgo_rl.envs.ginkg INFO    4 particles:\n",
      "17:21 ginkgo_rl.envs.ginkg INFO      p[ 0] = (  2.6,   1.5,   1.6,   1.3)\n",
      "17:21 ginkgo_rl.envs.ginkg INFO      p[ 1] = (  0.0,   0.0,   0.0,   0.0)\n",
      "17:21 ginkgo_rl.envs.ginkg INFO      p[ 2] = (  0.2,   0.1,   0.1,   0.1)\n",
      "17:21 ginkgo_rl.envs.ginkg INFO      p[ 3] = (  1.3,   0.7,   0.7,   0.9)\n",
      "17:21 ginkgo_rl.envs.ginkg DEBUG   Environment step. Action: (1, 0)\n",
      "17:21 ginkgo_rl.envs.ginkg DEBUG   Computing log likelihood of action (1, 0): -6.905086517333984\n",
      "17:21 ginkgo_rl.envs.ginkg DEBUG   Merging particles 1 and 0. New state has 3 particles.\n",
      "17:21 ginkgo_rl.envs.ginkg INFO    3 particles:\n",
      "17:21 ginkgo_rl.envs.ginkg INFO      p[ 0] = (  2.6,   1.5,   1.6,   1.3)\n",
      "17:21 ginkgo_rl.envs.ginkg INFO      p[ 1] = (  0.2,   0.1,   0.1,   0.1)\n",
      "17:21 ginkgo_rl.envs.ginkg INFO      p[ 2] = (  1.3,   0.7,   0.7,   0.9)\n",
      "17:21 ginkgo_rl.envs.ginkg DEBUG   Environment step. Action: (1, 0)\n",
      "17:21 ginkgo_rl.envs.ginkg DEBUG   Computing log likelihood of action (1, 0): -13.358386039733887\n",
      "17:21 ginkgo_rl.envs.ginkg DEBUG   Merging particles 1 and 0. New state has 2 particles.\n",
      "17:21 ginkgo_rl.envs.ginkg DEBUG   Episode is done.\n",
      "17:21 ginkgo_rl.envs.ginkg DEBUG   Sampling new jet with 13 leaves\n",
      "17:21 ginkgo_rl.envs.ginkg INFO    13 particles:\n",
      "17:21 ginkgo_rl.envs.ginkg INFO      p[ 0] = (  0.4,   0.2,   0.2,   0.3)\n",
      "17:21 ginkgo_rl.envs.ginkg INFO      p[ 1] = (  0.2,   0.1,   0.1,   0.1)\n",
      "17:21 ginkgo_rl.envs.ginkg INFO      p[ 2] = (  0.3,   0.2,   0.2,   0.1)\n",
      "17:21 ginkgo_rl.envs.ginkg INFO      p[ 3] = (  0.2,   0.1,   0.1,   0.1)\n",
      "17:21 ginkgo_rl.envs.ginkg INFO      p[ 4] = (  0.3,   0.1,   0.2,   0.2)\n",
      "17:21 ginkgo_rl.envs.ginkg INFO      p[ 5] = (  0.2,   0.1,   0.1,   0.1)\n",
      "17:21 ginkgo_rl.envs.ginkg INFO      p[ 6] = (  0.1,   0.1,   0.1,   0.1)\n",
      "17:21 ginkgo_rl.envs.ginkg INFO      p[ 7] = (  0.2,   0.1,   0.1,   0.1)\n",
      "17:21 ginkgo_rl.envs.ginkg INFO      p[ 8] = (  0.1,   0.1,   0.1,   0.0)\n",
      "17:21 ginkgo_rl.envs.ginkg INFO      p[ 9] = (  0.1,   0.1,   0.1,   0.1)\n",
      "17:21 ginkgo_rl.envs.ginkg INFO      p[10] = (  0.6,   0.4,   0.3,   0.3)\n",
      "17:21 ginkgo_rl.envs.ginkg INFO      p[11] = (  1.0,   0.6,   0.4,   0.6)\n",
      "17:21 ginkgo_rl.envs.ginkg INFO      p[12] = (  0.3,   0.2,   0.1,   0.2)\n"
     ]
    }
   ],
   "source": [
    "run(\"dqn\")"
   ]
  },
  {
   "cell_type": "markdown",
   "metadata": {},
   "source": [
    "## PPO"
   ]
  },
  {
   "cell_type": "code",
   "execution_count": 53,
   "metadata": {},
   "outputs": [
    {
     "name": "stdout",
     "output_type": "stream",
     "text": [
      "WARNING: Entity <bound method Flatten.call of <tensorflow.python.layers.core.Flatten object at 0x7f893352e950>> could not be transformed and will be executed as-is. Please report this to the AutgoGraph team. When filing the bug, set the verbosity to 10 (on Linux, `export AUTOGRAPH_VERBOSITY=10`) and attach the full output. Cause: converting <bound method Flatten.call of <tensorflow.python.layers.core.Flatten object at 0x7f893352e950>>: AttributeError: module 'gast' has no attribute 'Num'\n",
      "WARNING: Entity <bound method Flatten.call of <tensorflow.python.layers.core.Flatten object at 0x7f89336e6f50>> could not be transformed and will be executed as-is. Please report this to the AutgoGraph team. When filing the bug, set the verbosity to 10 (on Linux, `export AUTOGRAPH_VERBOSITY=10`) and attach the full output. Cause: converting <bound method Flatten.call of <tensorflow.python.layers.core.Flatten object at 0x7f89336e6f50>>: AttributeError: module 'gast' has no attribute 'Num'\n",
      "------------------------------\n"
     ]
    },
    {
     "name": "stderr",
     "output_type": "stream",
     "text": [
      "/Users/johannbrehmer/work/projects/shower_rl/ToyJetsShower/showerSim/invMass_ginkgo.py:289: RuntimeWarning: invalid value encountered in sqrt\n",
      "  logger.debug(f\"pR inv mass from p^2 in lab  frame: {np.sqrt(pR_mu[0] ** 2 - np.linalg.norm(pR_mu[1::]) ** 2)}\")\n"
     ]
    },
    {
     "name": "stdout",
     "output_type": "stream",
     "text": [
      "------------------------------\n",
      "------------------------------\n",
      "------------------------------\n",
      "------------------------------\n",
      "------------------------------\n",
      "------------------------------\n",
      "------------------------------\n",
      "------------------------------\n",
      "------------------------------\n",
      "------------------------------\n",
      "------------------------------\n",
      "------------------------------\n",
      "------------------------------\n",
      "------------------------------\n",
      "------------------------------\n",
      "------------------------------\n",
      "------------------------------\n",
      "------------------------------\n",
      "------------------------------\n",
      "------------------------------\n",
      "------------------------------\n",
      "------------------------------\n"
     ]
    },
    {
     "name": "stderr",
     "output_type": "stream",
     "text": [
      "/Users/johannbrehmer/work/projects/shower_rl/ToyJetsShower/showerSim/invMass_ginkgo.py:333: RuntimeWarning: invalid value encountered in sqrt\n",
      "  P = np.sqrt(tp)/2 * np.sqrt( 1 - 2 * (t_child+t_sib)/tp + (t_child - t_sib)**2 / tp**2 )\n"
     ]
    },
    {
     "name": "stdout",
     "output_type": "stream",
     "text": [
      "------------------------------\n",
      "------------------------------\n",
      "------------------------------\n",
      "------------------------------\n",
      "------------------------------\n",
      "------------------------------\n",
      "------------------------------\n",
      "------------------------------\n",
      "------------------------------\n",
      "------------------------------\n",
      "------------------------------\n",
      "------------------------------\n",
      "------------------------------\n",
      "------------------------------\n",
      "------------------------------\n"
     ]
    }
   ],
   "source": [
    "model = train(\"ppo\", PPO2, MlpPolicy)"
   ]
  },
  {
   "cell_type": "code",
   "execution_count": 61,
   "metadata": {},
   "outputs": [
    {
     "name": "stderr",
     "output_type": "stream",
     "text": [
      "17:21 ginkgo_rl.envs.ginkg DEBUG   Initializing environment\n",
      "17:21 ginkgo_rl.envs.ginkg DEBUG   Sampling new jet with 10 leaves\n",
      "17:21 ginkgo_rl.envs.ginkg DEBUG   Resetting environment\n",
      "17:21 ginkgo_rl.envs.ginkg DEBUG   Sampling new jet with 10 leaves\n",
      "17:21 ginkgo_rl.envs.ginkg DEBUG   Environment step. Action: [1 0]\n",
      "17:21 ginkgo_rl.envs.ginkg DEBUG   Computing log likelihood of action [1 0]: -5.808651924133301\n",
      "17:21 ginkgo_rl.envs.ginkg DEBUG   Merging particles 1 and 0. New state has 9 particles.\n",
      "17:21 ginkgo_rl.envs.ginkg INFO    9 particles:\n",
      "17:21 ginkgo_rl.envs.ginkg INFO      p[ 0] = (  0.9,   0.3,   0.7,   0.5)\n",
      "17:21 ginkgo_rl.envs.ginkg INFO      p[ 1] = (  0.2,   0.1,   0.1,   0.1)\n",
      "17:21 ginkgo_rl.envs.ginkg INFO      p[ 2] = (  0.1,   0.0,   0.1,   0.0)\n",
      "17:21 ginkgo_rl.envs.ginkg INFO      p[ 3] = (  0.0,   0.0,   0.0,   0.0)\n",
      "17:21 ginkgo_rl.envs.ginkg INFO      p[ 4] = (  0.0,   0.0,   0.0,   0.0)\n",
      "17:21 ginkgo_rl.envs.ginkg INFO      p[ 5] = (  0.9,   0.6,   0.5,   0.6)\n",
      "17:21 ginkgo_rl.envs.ginkg INFO      p[ 6] = (  1.7,   1.2,   0.8,   1.0)\n",
      "17:21 ginkgo_rl.envs.ginkg INFO      p[ 7] = (  0.1,   0.0,   0.0,   0.0)\n",
      "17:21 ginkgo_rl.envs.ginkg INFO      p[ 8] = (  0.1,   0.0,   0.0,   0.1)\n",
      "17:21 ginkgo_rl.envs.ginkg DEBUG   Environment step. Action: [1 0]\n",
      "17:21 ginkgo_rl.envs.ginkg DEBUG   Computing log likelihood of action [1 0]: -9.486980438232422\n",
      "17:21 ginkgo_rl.envs.ginkg DEBUG   Merging particles 1 and 0. New state has 8 particles.\n",
      "17:21 ginkgo_rl.envs.ginkg INFO    8 particles:\n",
      "17:21 ginkgo_rl.envs.ginkg INFO      p[ 0] = (  1.1,   0.4,   0.8,   0.6)\n",
      "17:21 ginkgo_rl.envs.ginkg INFO      p[ 1] = (  0.1,   0.0,   0.1,   0.0)\n",
      "17:21 ginkgo_rl.envs.ginkg INFO      p[ 2] = (  0.0,   0.0,   0.0,   0.0)\n",
      "17:21 ginkgo_rl.envs.ginkg INFO      p[ 3] = (  0.0,   0.0,   0.0,   0.0)\n",
      "17:21 ginkgo_rl.envs.ginkg INFO      p[ 4] = (  0.9,   0.6,   0.5,   0.6)\n",
      "17:21 ginkgo_rl.envs.ginkg INFO      p[ 5] = (  1.7,   1.2,   0.8,   1.0)\n",
      "17:21 ginkgo_rl.envs.ginkg INFO      p[ 6] = (  0.1,   0.0,   0.0,   0.0)\n",
      "17:21 ginkgo_rl.envs.ginkg INFO      p[ 7] = (  0.1,   0.0,   0.0,   0.1)\n",
      "17:21 ginkgo_rl.envs.ginkg DEBUG   Environment step. Action: [1 0]\n",
      "17:21 ginkgo_rl.envs.ginkg DEBUG   Computing log likelihood of action [1 0]: -10.420966148376465\n",
      "17:21 ginkgo_rl.envs.ginkg DEBUG   Merging particles 1 and 0. New state has 7 particles.\n",
      "17:21 ginkgo_rl.envs.ginkg INFO    7 particles:\n",
      "17:21 ginkgo_rl.envs.ginkg INFO      p[ 0] = (  1.2,   0.4,   0.9,   0.6)\n",
      "17:21 ginkgo_rl.envs.ginkg INFO      p[ 1] = (  0.0,   0.0,   0.0,   0.0)\n",
      "17:21 ginkgo_rl.envs.ginkg INFO      p[ 2] = (  0.0,   0.0,   0.0,   0.0)\n",
      "17:21 ginkgo_rl.envs.ginkg INFO      p[ 3] = (  0.9,   0.6,   0.5,   0.6)\n",
      "17:21 ginkgo_rl.envs.ginkg INFO      p[ 4] = (  1.7,   1.2,   0.8,   1.0)\n",
      "17:21 ginkgo_rl.envs.ginkg INFO      p[ 5] = (  0.1,   0.0,   0.0,   0.0)\n",
      "17:21 ginkgo_rl.envs.ginkg INFO      p[ 6] = (  0.1,   0.0,   0.0,   0.1)\n",
      "17:21 ginkgo_rl.envs.ginkg DEBUG   Environment step. Action: [1 0]\n",
      "17:21 ginkgo_rl.envs.ginkg DEBUG   Computing log likelihood of action [1 0]: -8.685585021972656\n",
      "17:21 ginkgo_rl.envs.ginkg DEBUG   Merging particles 1 and 0. New state has 6 particles.\n",
      "17:21 ginkgo_rl.envs.ginkg INFO    6 particles:\n",
      "17:21 ginkgo_rl.envs.ginkg INFO      p[ 0] = (  1.2,   0.4,   0.9,   0.7)\n",
      "17:21 ginkgo_rl.envs.ginkg INFO      p[ 1] = (  0.0,   0.0,   0.0,   0.0)\n",
      "17:21 ginkgo_rl.envs.ginkg INFO      p[ 2] = (  0.9,   0.6,   0.5,   0.6)\n",
      "17:21 ginkgo_rl.envs.ginkg INFO      p[ 3] = (  1.7,   1.2,   0.8,   1.0)\n",
      "17:21 ginkgo_rl.envs.ginkg INFO      p[ 4] = (  0.1,   0.0,   0.0,   0.0)\n",
      "17:21 ginkgo_rl.envs.ginkg INFO      p[ 5] = (  0.1,   0.0,   0.0,   0.1)\n",
      "17:21 ginkgo_rl.envs.ginkg DEBUG   Environment step. Action: [1 0]\n",
      "17:21 ginkgo_rl.envs.ginkg DEBUG   Computing log likelihood of action [1 0]: -8.307427406311035\n",
      "17:21 ginkgo_rl.envs.ginkg DEBUG   Merging particles 1 and 0. New state has 5 particles.\n",
      "17:21 ginkgo_rl.envs.ginkg INFO    5 particles:\n",
      "17:21 ginkgo_rl.envs.ginkg INFO      p[ 0] = (  1.3,   0.5,   0.9,   0.7)\n",
      "17:21 ginkgo_rl.envs.ginkg INFO      p[ 1] = (  0.9,   0.6,   0.5,   0.6)\n",
      "17:21 ginkgo_rl.envs.ginkg INFO      p[ 2] = (  1.7,   1.2,   0.8,   1.0)\n",
      "17:21 ginkgo_rl.envs.ginkg INFO      p[ 3] = (  0.1,   0.0,   0.0,   0.0)\n",
      "17:21 ginkgo_rl.envs.ginkg INFO      p[ 4] = (  0.1,   0.0,   0.0,   0.1)\n",
      "17:21 ginkgo_rl.envs.ginkg DEBUG   Environment step. Action: [1 0]\n",
      "17:21 ginkgo_rl.envs.ginkg DEBUG   Computing log likelihood of action [1 0]: -15.899995803833008\n",
      "17:21 ginkgo_rl.envs.ginkg DEBUG   Merging particles 1 and 0. New state has 4 particles.\n",
      "17:21 ginkgo_rl.envs.ginkg INFO    4 particles:\n",
      "17:21 ginkgo_rl.envs.ginkg INFO      p[ 0] = (  2.2,   1.1,   1.4,   1.2)\n",
      "17:21 ginkgo_rl.envs.ginkg INFO      p[ 1] = (  1.7,   1.2,   0.8,   1.0)\n",
      "17:21 ginkgo_rl.envs.ginkg INFO      p[ 2] = (  0.1,   0.0,   0.0,   0.0)\n",
      "17:21 ginkgo_rl.envs.ginkg INFO      p[ 3] = (  0.1,   0.0,   0.0,   0.1)\n",
      "17:21 ginkgo_rl.envs.ginkg DEBUG   Environment step. Action: [1 0]\n",
      "17:21 ginkgo_rl.envs.ginkg DEBUG   Computing log likelihood of action [1 0]: -17.401086807250977\n",
      "17:21 ginkgo_rl.envs.ginkg DEBUG   Merging particles 1 and 0. New state has 3 particles.\n",
      "17:21 ginkgo_rl.envs.ginkg INFO    3 particles:\n",
      "17:21 ginkgo_rl.envs.ginkg INFO      p[ 0] = (  3.9,   2.2,   2.2,   2.2)\n",
      "17:21 ginkgo_rl.envs.ginkg INFO      p[ 1] = (  0.1,   0.0,   0.0,   0.0)\n",
      "17:21 ginkgo_rl.envs.ginkg INFO      p[ 2] = (  0.1,   0.0,   0.0,   0.1)\n",
      "17:21 ginkgo_rl.envs.ginkg DEBUG   Environment step. Action: [1 0]\n",
      "17:21 ginkgo_rl.envs.ginkg DEBUG   Computing log likelihood of action [1 0]: -10.94217586517334\n",
      "17:21 ginkgo_rl.envs.ginkg DEBUG   Merging particles 1 and 0. New state has 2 particles.\n",
      "17:21 ginkgo_rl.envs.ginkg DEBUG   Episode is done.\n",
      "17:21 ginkgo_rl.envs.ginkg DEBUG   Sampling new jet with 15 leaves\n",
      "17:21 ginkgo_rl.envs.ginkg INFO    15 particles:\n",
      "17:21 ginkgo_rl.envs.ginkg INFO      p[ 0] = (  0.1,   0.0,   0.0,   0.1)\n",
      "17:21 ginkgo_rl.envs.ginkg INFO      p[ 1] = (  0.3,   0.2,   0.2,   0.1)\n",
      "17:21 ginkgo_rl.envs.ginkg INFO      p[ 2] = (  0.1,   0.1,   0.1,   0.0)\n",
      "17:21 ginkgo_rl.envs.ginkg INFO      p[ 3] = (  0.1,   0.1,   0.0,   0.0)\n",
      "17:21 ginkgo_rl.envs.ginkg INFO      p[ 4] = (  0.1,   0.0,   0.0,   0.0)\n",
      "17:21 ginkgo_rl.envs.ginkg INFO      p[ 5] = (  0.2,   0.1,   0.1,   0.1)\n",
      "17:21 ginkgo_rl.envs.ginkg INFO      p[ 6] = (  0.2,   0.1,   0.1,   0.1)\n",
      "17:21 ginkgo_rl.envs.ginkg INFO      p[ 7] = (  0.9,   0.5,   0.5,   0.6)\n",
      "17:21 ginkgo_rl.envs.ginkg INFO      p[ 8] = (  0.2,   0.1,   0.1,   0.1)\n",
      "17:21 ginkgo_rl.envs.ginkg INFO      p[ 9] = (  0.2,   0.1,   0.1,   0.1)\n",
      "17:21 ginkgo_rl.envs.ginkg INFO      p[10] = (  0.7,   0.4,   0.4,   0.5)\n",
      "17:21 ginkgo_rl.envs.ginkg INFO      p[11] = (  0.2,   0.1,   0.1,   0.1)\n",
      "17:21 ginkgo_rl.envs.ginkg INFO      p[12] = (  0.2,   0.1,   0.1,   0.1)\n",
      "17:21 ginkgo_rl.envs.ginkg INFO      p[13] = (  0.4,   0.2,   0.2,   0.2)\n",
      "17:21 ginkgo_rl.envs.ginkg INFO      p[14] = (  0.0,   0.0,   0.0,   0.0)\n"
     ]
    }
   ],
   "source": [
    "run(\"ppo\")"
   ]
  },
  {
   "cell_type": "markdown",
   "metadata": {},
   "source": [
    "## Results"
   ]
  },
  {
   "cell_type": "code",
   "execution_count": 60,
   "metadata": {},
   "outputs": [
    {
     "data": {
      "image/png": "[encoded data removed]",
      "text/plain": [
       "<Figure size 576x144 with 1 Axes>"
      ]
     },
     "metadata": {
      "needs_background": "light"
     },
     "output_type": "display_data"
    }
   ],
   "source": [
    "results_plotter.plot_results(log_dirs, 1e5, results_plotter.X_TIMESTEPS, \"Ginkgo\")\n"
   ]
  },
  {
   "cell_type": "code",
   "execution_count": null,
   "metadata": {},
   "outputs": [],
   "source": []
  }
 ],
 "metadata": {
  "kernelspec": {
   "display_name": "Python (rl)",
   "language": "python",
   "name": "rl"
  },
  "language_info": {
   "codemirror_mode": {
    "name": "ipython",
    "version": 3
   },
   "file_extension": ".py",
   "mimetype": "text/x-python",
   "name": "python",
   "nbconvert_exporter": "python",
   "pygments_lexer": "ipython3",
   "version": "3.7.7"
  }
 },
 "nbformat": 4,
 "nbformat_minor": 4
}
