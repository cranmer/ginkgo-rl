{
 "cells": [
  {
   "cell_type": "markdown",
   "metadata": {},
   "source": [
    "# Ginkgo clustering environment"
   ]
  },
  {
   "cell_type": "markdown",
   "metadata": {},
   "source": [
    "## Setup"
   ]
  },
  {
   "cell_type": "code",
   "execution_count": null,
   "metadata": {},
   "outputs": [],
   "source": [
    "%matplotlib inline\n",
    "\n",
    "import sys\n",
    "import os\n",
    "import numpy as np\n",
    "from matplotlib import pyplot as plt\n",
    "import gym\n",
    "import logging\n",
    "from stable_baselines.common.policies import MlpPolicy, MlpLnLstmPolicy\n",
    "from stable_baselines.deepq import MlpPolicy as DQNMlpPolicy\n",
    "from stable_baselines import PPO2, ACER, DQN\n",
    "from stable_baselines.bench import Monitor\n",
    "from stable_baselines import results_plotter\n",
    "from stable_baselines.common.env_checker import check_env\n",
    "\n",
    "sys.path.append(\"../\")\n",
    "from ginkgo_rl import GinkgoLikelihoodEnv, GinkgoLikelihood1DEnv, GinkgoLikelihoodShuffledEnv\n"
   ]
  },
  {
   "cell_type": "code",
   "execution_count": null,
   "metadata": {},
   "outputs": [],
   "source": [
    "# Logging setup\n",
    "logging.basicConfig(\n",
    "    format='%(asctime)-5.5s %(name)-20.20s %(levelname)-7.7s %(message)s',\n",
    "    datefmt='%H:%M',\n",
    "    level=logging.DEBUG\n",
    ")\n",
    "\n",
    "for key in logging.Logger.manager.loggerDict:\n",
    "    if \"ginkgo_rl\" not in key:\n",
    "        logging.getLogger(key).setLevel(logging.ERROR)\n",
    "        \n",
    "def set_output(on=True):\n",
    "    for key in logging.Logger.manager.loggerDict:\n",
    "        if \"ginkgo_rl\" in key:\n",
    "            logging.getLogger(key).setLevel(logging.DEBUG if on else logging.ERROR)\n"
   ]
  },
  {
   "cell_type": "markdown",
   "metadata": {},
   "source": [
    "## Let's play a round of clustering manually"
   ]
  },
  {
   "cell_type": "code",
   "execution_count": 3,
   "metadata": {},
   "outputs": [
    {
     "name": "stderr",
     "output_type": "stream",
     "text": [
      "15:58 ginkgo_rl.envs.ginkg DEBUG   Initializing environment\n",
      "15:58 ginkgo_rl.envs.ginkg DEBUG   Sampling new jet with 6 leaves\n",
      "15:58 ginkgo_rl.envs.ginkg DEBUG   Resetting environment\n",
      "15:58 ginkgo_rl.envs.ginkg DEBUG   Sampling new jet with 8 leaves\n",
      "15:58 ginkgo_rl.envs.ginkg INFO    8 particles:\n",
      "15:58 ginkgo_rl.envs.ginkg INFO      p[ 1] = (  0.5,   0.3,   0.2,   0.3)\n",
      "15:58 ginkgo_rl.envs.ginkg INFO      p[ 3] = (  0.7,   0.5,   0.3,   0.4)\n",
      "15:58 ginkgo_rl.envs.ginkg INFO      p[ 4] = (  0.3,   0.1,   0.2,   0.2)\n",
      "15:58 ginkgo_rl.envs.ginkg INFO      p[ 5] = (  0.2,   0.1,   0.1,   0.1)\n",
      "15:58 ginkgo_rl.envs.ginkg INFO      p[ 6] = (  0.6,   0.4,   0.3,   0.3)\n",
      "15:58 ginkgo_rl.envs.ginkg INFO      p[ 7] = (  0.2,   0.1,   0.1,   0.1)\n",
      "15:58 ginkgo_rl.envs.ginkg INFO      p[ 8] = (  0.1,   0.0,   0.1,   0.0)\n",
      "15:58 ginkgo_rl.envs.ginkg INFO      p[ 9] = (  1.5,   0.7,   1.0,   0.8)\n"
     ]
    }
   ],
   "source": [
    "set_output(True)\n",
    "env = gym.make(\"GinkgoLikelihoodShuffled-v0\")\n",
    "state = env.reset()\n",
    "env.render()"
   ]
  },
  {
   "cell_type": "code",
   "execution_count": 6,
   "metadata": {},
   "outputs": [
    {
     "data": {
      "text/plain": [
       "array([[ 0.34696613,  0.13362746,  0.24701756,  0.20369778],\n",
       "       [-1.        , -1.        , -1.        , -1.        ],\n",
       "       [ 0.56825371,  0.41477329,  0.25535742,  0.29204265],\n",
       "       [ 0.50437116,  0.33480547,  0.18616926,  0.32725689],\n",
       "       [ 1.4725264 ,  0.65806627,  1.03171511,  0.8190164 ],\n",
       "       [ 0.92836403,  0.62958616,  0.42267241,  0.5332205 ],\n",
       "       [-1.        , -1.        , -1.        , -1.        ],\n",
       "       [ 0.07593368,  0.0347257 ,  0.05142094,  0.04032181],\n",
       "       [ 0.18280068,  0.10381683,  0.11504847,  0.09384515],\n",
       "       [-1.        , -1.        , -1.        , -1.        ]])"
      ]
     },
     "execution_count": 6,
     "metadata": {},
     "output_type": "execute_result"
    }
   ],
   "source": [
    "state"
   ]
  },
  {
   "cell_type": "code",
   "execution_count": 9,
   "metadata": {},
   "outputs": [
    {
     "name": "stderr",
     "output_type": "stream",
     "text": [
      "15:59 ginkgo_rl.envs.ginkg DEBUG   Environment step. Action: (2, 4)\n",
      "15:59 ginkgo_rl.envs.ginkg DEBUG   Computing log likelihood of action (2, 4): -15.332371711730957\n",
      "15:59 ginkgo_rl.envs.ginkg DEBUG   Merging particles 2 and 4. New state has 5 particles.\n",
      "15:59 ginkgo_rl.envs.ginkg INFO    5 particles:\n",
      "15:59 ginkgo_rl.envs.ginkg INFO      p[ 2] = (  2.0,   1.1,   1.3,   1.1)\n",
      "15:59 ginkgo_rl.envs.ginkg INFO      p[ 3] = (  0.3,   0.1,   0.2,   0.2)\n",
      "15:59 ginkgo_rl.envs.ginkg INFO      p[ 6] = (  0.2,   0.1,   0.1,   0.1)\n",
      "15:59 ginkgo_rl.envs.ginkg INFO      p[ 7] = (  0.9,   0.6,   0.4,   0.5)\n",
      "15:59 ginkgo_rl.envs.ginkg INFO      p[ 8] = (  0.6,   0.4,   0.2,   0.4)\n"
     ]
    },
    {
     "name": "stdout",
     "output_type": "stream",
     "text": [
      "Reward: -15.332371711730957\n",
      "Done: False\n",
      "Info: {'legal': True, 'illegal_action_counter': 0, 'replace_illegal_action': False, 'i': 2, 'j': 4}\n"
     ]
    }
   ],
   "source": [
    "# Merge two particles\n",
    "action = 3, 7\n",
    "\n",
    "state, reward, done, info = env.step(action)\n",
    "env.render()\n",
    "\n",
    "print(f\"Reward: {reward}\")\n",
    "print(f\"Done: {done}\")\n",
    "print(f\"Info: {info}\")\n",
    "\n",
    "# Repeat this cell as often as you feel like\n"
   ]
  },
  {
   "cell_type": "code",
   "execution_count": 10,
   "metadata": {},
   "outputs": [],
   "source": [
    "env.close()"
   ]
  },
  {
   "cell_type": "markdown",
   "metadata": {},
   "source": [
    "## Env checker"
   ]
  },
  {
   "cell_type": "code",
   "execution_count": 12,
   "metadata": {},
   "outputs": [
    {
     "name": "stderr",
     "output_type": "stream",
     "text": [
      "/Users/johannbrehmer/anaconda3/envs/rl/lib/python3.7/site-packages/stable_baselines/common/env_checker.py:202: UserWarning: Your observation has an unconventional shape (neither an image, nor a 1D vector). We recommend you to flatten the observation to have only a 1D vector\n",
      "  warnings.warn(\"Your observation has an unconventional shape (neither an image, nor a 1D vector). \"\n"
     ]
    },
    {
     "name": "stdout",
     "output_type": "stream",
     "text": [
      "------------------------------\n"
     ]
    },
    {
     "name": "stderr",
     "output_type": "stream",
     "text": [
      "/Users/johannbrehmer/work/projects/shower_rl/ToyJetsShower/showerSim/invMass_ginkgo.py:289: RuntimeWarning: invalid value encountered in sqrt\n",
      "  logger.debug(f\"pR inv mass from p^2 in lab  frame: {np.sqrt(pR_mu[0] ** 2 - np.linalg.norm(pR_mu[1::]) ** 2)}\")\n"
     ]
    }
   ],
   "source": [
    "set_output(False)\n",
    "env = gym.make(\"GinkgoLikelihoodShuffled-v0\")\n",
    "\n",
    "check_env(env)\n",
    "\n",
    "for i in range(env.n_max):\n",
    "    assert i == env.inverse_permutation[env.permutation[i]] == env.permutation[env.inverse_permutation[i]]\n",
    "    \n",
    "env.close()"
   ]
  },
  {
   "cell_type": "markdown",
   "metadata": {},
   "source": [
    "## Reward distribution for random actions"
   ]
  },
  {
   "cell_type": "code",
   "execution_count": 13,
   "metadata": {},
   "outputs": [
    {
     "name": "stdout",
     "output_type": "stream",
     "text": [
      "------------------------------\n",
      "------------------------------\n",
      "------------------------------\n",
      "------------------------------\n",
      "------------------------------\n",
      "------------------------------\n",
      "------------------------------\n",
      "------------------------------\n"
     ]
    }
   ],
   "source": [
    "n_steps = 4000\n",
    "\n",
    "set_output(False)\n",
    "env = gym.make(\"GinkgoLikelihoodShuffled-v0\")\n",
    "state = env.reset()\n",
    "rewards, legal = [], []\n",
    "\n",
    "for _ in range(n_steps):\n",
    "    action = env.action_space.sample()\n",
    "    legal.append(env.check_legality(action))\n",
    "    _, reward, _, _ = env.step(action)\n",
    "    rewards.append(reward)\n"
   ]
  },
  {
   "cell_type": "code",
   "execution_count": 14,
   "metadata": {},
   "outputs": [
    {
     "data": {
      "image/png": "[encoded data removed]",
      "text/plain": [
       "<Figure size 360x360 with 1 Axes>"
      ]
     },
     "metadata": {
      "needs_background": "light"
     },
     "output_type": "display_data"
    }
   ],
   "source": [
    "range_ = (-25.1, -3)\n",
    "\n",
    "rewards = np.asarray(rewards)\n",
    "legal = np.asarray(legal)\n",
    "\n",
    "fig = plt.figure(figsize=(5,5))\n",
    "plt.hist(rewards, range=range_, bins=50, histtype=\"step\")\n",
    "plt.hist(rewards[legal], range=range_, bins=50, histtype=\"step\")\n",
    "plt.tight_layout()\n",
    "plt.yscale(\"log\")\n",
    "plt.show()\n"
   ]
  },
  {
   "cell_type": "markdown",
   "metadata": {},
   "source": [
    "## Let's let some RL agents loose!"
   ]
  },
  {
   "cell_type": "code",
   "execution_count": 15,
   "metadata": {},
   "outputs": [],
   "source": [
    "log_dirs = []\n",
    "models = {}\n",
    "wrap1ds = {}\n",
    "\n",
    "def train(algorithm, algo_class, policy_class, wrap1d=False, n_steps=100000):\n",
    "    log_dir = f\"./logs/{algorithm}/\"\n",
    "    log_dirs.append(log_dir)\n",
    "\n",
    "    set_output(False)\n",
    "    env = gym.make(\"GinkgoLikelihood1D-v0\" if wrap1d else \"GinkgoLikelihoodShuffled-v0\")\n",
    "    os.makedirs(log_dir, exist_ok=True)\n",
    "    env = Monitor(env, log_dir)\n",
    "\n",
    "    model = algo_class(policy_class, env, verbose=0)\n",
    "    model.learn(total_timesteps=n_steps)\n",
    "    \n",
    "    models[algorithm] = model\n",
    "    wrap1ds[algorithm] = wrap1d\n",
    "    env.close()\n",
    "\n",
    "\n",
    "def run(algorithm):\n",
    "    model = models[algorithm]\n",
    "    \n",
    "    set_output(True)\n",
    "    env = gym.make(\"GinkgoLikelihood1D-v0\" if wrap1ds[algorithm] else \"GinkgoLikelihoodShuffled-v0\")\n",
    "    state = env.reset()\n",
    "    done = False\n",
    "    steps = 0\n",
    "\n",
    "    while not done and steps < int(1.e5):\n",
    "        action, _states = model.predict(state)\n",
    "        obs, reward, done, info = env.step(action)\n",
    "        env.render()\n",
    "        steps += 1\n",
    "    \n",
    "    env.close()\n"
   ]
  },
  {
   "cell_type": "markdown",
   "metadata": {},
   "source": [
    "## DQN"
   ]
  },
  {
   "cell_type": "code",
   "execution_count": null,
   "metadata": {},
   "outputs": [],
   "source": [
    "model = train(\"dqn\", DQN, DQNMlpPolicy, wrap1d=True)"
   ]
  },
  {
   "cell_type": "code",
   "execution_count": null,
   "metadata": {},
   "outputs": [],
   "source": [
    "run(\"dqn\")"
   ]
  },
  {
   "cell_type": "markdown",
   "metadata": {},
   "source": [
    "## PPO"
   ]
  },
  {
   "cell_type": "code",
   "execution_count": null,
   "metadata": {},
   "outputs": [
    {
     "name": "stdout",
     "output_type": "stream",
     "text": [
      "WARNING: Entity <bound method Flatten.call of <tensorflow.python.layers.core.Flatten object at 0x7fe464947210>> could not be transformed and will be executed as-is. Please report this to the AutgoGraph team. When filing the bug, set the verbosity to 10 (on Linux, `export AUTOGRAPH_VERBOSITY=10`) and attach the full output. Cause: converting <bound method Flatten.call of <tensorflow.python.layers.core.Flatten object at 0x7fe464947210>>: AttributeError: module 'gast' has no attribute 'Num'\n",
      "WARNING: Entity <bound method Flatten.call of <tensorflow.python.layers.core.Flatten object at 0x7fe464947750>> could not be transformed and will be executed as-is. Please report this to the AutgoGraph team. When filing the bug, set the verbosity to 10 (on Linux, `export AUTOGRAPH_VERBOSITY=10`) and attach the full output. Cause: converting <bound method Flatten.call of <tensorflow.python.layers.core.Flatten object at 0x7fe464947750>>: AttributeError: module 'gast' has no attribute 'Num'\n",
      "------------------------------\n"
     ]
    },
    {
     "name": "stderr",
     "output_type": "stream",
     "text": [
      "/Users/johannbrehmer/work/projects/shower_rl/ToyJetsShower/showerSim/invMass_ginkgo.py:289: RuntimeWarning: invalid value encountered in sqrt\n",
      "  logger.debug(f\"pR inv mass from p^2 in lab  frame: {np.sqrt(pR_mu[0] ** 2 - np.linalg.norm(pR_mu[1::]) ** 2)}\")\n"
     ]
    }
   ],
   "source": [
    "model = train(\"ppo\", PPO2, MlpPolicy)"
   ]
  },
  {
   "cell_type": "code",
   "execution_count": null,
   "metadata": {},
   "outputs": [],
   "source": [
    "run(\"ppo\")"
   ]
  },
  {
   "cell_type": "markdown",
   "metadata": {},
   "source": [
    "## Results"
   ]
  },
  {
   "cell_type": "code",
   "execution_count": null,
   "metadata": {},
   "outputs": [],
   "source": [
    "results_plotter.plot_results(log_dirs, 1e5, results_plotter.X_TIMESTEPS, \"Ginkgo\")\n"
   ]
  },
  {
   "cell_type": "code",
   "execution_count": null,
   "metadata": {},
   "outputs": [],
   "source": []
  }
 ],
 "metadata": {
  "kernelspec": {
   "display_name": "Python (rl)",
   "language": "python",
   "name": "rl"
  },
  "language_info": {
   "codemirror_mode": {
    "name": "ipython",
    "version": 3
   },
   "file_extension": ".py",
   "mimetype": "text/x-python",
   "name": "python",
   "nbconvert_exporter": "python",
   "pygments_lexer": "ipython3",
   "version": "3.7.7"
  }
 },
 "nbformat": 4,
 "nbformat_minor": 4
}
