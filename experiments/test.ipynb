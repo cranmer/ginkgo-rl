{
 "cells": [
  {
   "cell_type": "markdown",
   "metadata": {},
   "source": [
    "# Ginkgo clustering environment"
   ]
  },
  {
   "cell_type": "markdown",
   "metadata": {},
   "source": [
    "## Setup"
   ]
  },
  {
   "cell_type": "code",
   "execution_count": 1,
   "metadata": {},
   "outputs": [
    {
     "name": "stderr",
     "output_type": "stream",
     "text": [
      "/Users/johannbrehmer/anaconda3/envs/rl/lib/python3.7/site-packages/tensorflow/python/framework/dtypes.py:516: FutureWarning: Passing (type, 1) or '1type' as a synonym of type is deprecated; in a future version of numpy, it will be understood as (type, (1,)) / '(1,)type'.\n",
      "  _np_qint8 = np.dtype([(\"qint8\", np.int8, 1)])\n",
      "/Users/johannbrehmer/anaconda3/envs/rl/lib/python3.7/site-packages/tensorflow/python/framework/dtypes.py:517: FutureWarning: Passing (type, 1) or '1type' as a synonym of type is deprecated; in a future version of numpy, it will be understood as (type, (1,)) / '(1,)type'.\n",
      "  _np_quint8 = np.dtype([(\"quint8\", np.uint8, 1)])\n",
      "/Users/johannbrehmer/anaconda3/envs/rl/lib/python3.7/site-packages/tensorflow/python/framework/dtypes.py:518: FutureWarning: Passing (type, 1) or '1type' as a synonym of type is deprecated; in a future version of numpy, it will be understood as (type, (1,)) / '(1,)type'.\n",
      "  _np_qint16 = np.dtype([(\"qint16\", np.int16, 1)])\n",
      "/Users/johannbrehmer/anaconda3/envs/rl/lib/python3.7/site-packages/tensorflow/python/framework/dtypes.py:519: FutureWarning: Passing (type, 1) or '1type' as a synonym of type is deprecated; in a future version of numpy, it will be understood as (type, (1,)) / '(1,)type'.\n",
      "  _np_quint16 = np.dtype([(\"quint16\", np.uint16, 1)])\n",
      "/Users/johannbrehmer/anaconda3/envs/rl/lib/python3.7/site-packages/tensorflow/python/framework/dtypes.py:520: FutureWarning: Passing (type, 1) or '1type' as a synonym of type is deprecated; in a future version of numpy, it will be understood as (type, (1,)) / '(1,)type'.\n",
      "  _np_qint32 = np.dtype([(\"qint32\", np.int32, 1)])\n",
      "/Users/johannbrehmer/anaconda3/envs/rl/lib/python3.7/site-packages/tensorflow/python/framework/dtypes.py:525: FutureWarning: Passing (type, 1) or '1type' as a synonym of type is deprecated; in a future version of numpy, it will be understood as (type, (1,)) / '(1,)type'.\n",
      "  np_resource = np.dtype([(\"resource\", np.ubyte, 1)])\n",
      "/Users/johannbrehmer/anaconda3/envs/rl/lib/python3.7/site-packages/tensorboard/compat/tensorflow_stub/dtypes.py:541: FutureWarning: Passing (type, 1) or '1type' as a synonym of type is deprecated; in a future version of numpy, it will be understood as (type, (1,)) / '(1,)type'.\n",
      "  _np_qint8 = np.dtype([(\"qint8\", np.int8, 1)])\n",
      "/Users/johannbrehmer/anaconda3/envs/rl/lib/python3.7/site-packages/tensorboard/compat/tensorflow_stub/dtypes.py:542: FutureWarning: Passing (type, 1) or '1type' as a synonym of type is deprecated; in a future version of numpy, it will be understood as (type, (1,)) / '(1,)type'.\n",
      "  _np_quint8 = np.dtype([(\"quint8\", np.uint8, 1)])\n",
      "/Users/johannbrehmer/anaconda3/envs/rl/lib/python3.7/site-packages/tensorboard/compat/tensorflow_stub/dtypes.py:543: FutureWarning: Passing (type, 1) or '1type' as a synonym of type is deprecated; in a future version of numpy, it will be understood as (type, (1,)) / '(1,)type'.\n",
      "  _np_qint16 = np.dtype([(\"qint16\", np.int16, 1)])\n",
      "/Users/johannbrehmer/anaconda3/envs/rl/lib/python3.7/site-packages/tensorboard/compat/tensorflow_stub/dtypes.py:544: FutureWarning: Passing (type, 1) or '1type' as a synonym of type is deprecated; in a future version of numpy, it will be understood as (type, (1,)) / '(1,)type'.\n",
      "  _np_quint16 = np.dtype([(\"quint16\", np.uint16, 1)])\n",
      "/Users/johannbrehmer/anaconda3/envs/rl/lib/python3.7/site-packages/tensorboard/compat/tensorflow_stub/dtypes.py:545: FutureWarning: Passing (type, 1) or '1type' as a synonym of type is deprecated; in a future version of numpy, it will be understood as (type, (1,)) / '(1,)type'.\n",
      "  _np_qint32 = np.dtype([(\"qint32\", np.int32, 1)])\n",
      "/Users/johannbrehmer/anaconda3/envs/rl/lib/python3.7/site-packages/tensorboard/compat/tensorflow_stub/dtypes.py:550: FutureWarning: Passing (type, 1) or '1type' as a synonym of type is deprecated; in a future version of numpy, it will be understood as (type, (1,)) / '(1,)type'.\n",
      "  np_resource = np.dtype([(\"resource\", np.ubyte, 1)])\n"
     ]
    }
   ],
   "source": [
    "%matplotlib inline\n",
    "\n",
    "import sys\n",
    "import os\n",
    "import numpy as np\n",
    "from matplotlib import pyplot as plt\n",
    "import gym\n",
    "import logging\n",
    "from stable_baselines.common.policies import MlpPolicy, MlpLnLstmPolicy\n",
    "from stable_baselines.deepq import MlpPolicy as DQNMlpPolicy\n",
    "from stable_baselines import PPO2, ACER, DQN\n",
    "from stable_baselines.bench import Monitor\n",
    "from stable_baselines import results_plotter\n",
    "from stable_baselines.common.env_checker import check_env\n",
    "from stable_baselines.common.callbacks import BaseCallback\n",
    "\n",
    "sys.path.append(\"../\")\n",
    "from ginkgo_rl import GinkgoLikelihoodEnv, GinkgoLikelihood1DEnv, GinkgoLikelihoodShuffledEnv\n"
   ]
  },
  {
   "cell_type": "code",
   "execution_count": 2,
   "metadata": {},
   "outputs": [],
   "source": [
    "# Logging setup\n",
    "logging.basicConfig(\n",
    "    format='%(asctime)-5.5s %(name)-20.20s %(levelname)-7.7s %(message)s',\n",
    "    datefmt='%H:%M',\n",
    "    level=logging.DEBUG\n",
    ")\n",
    "\n",
    "for key in logging.Logger.manager.loggerDict:\n",
    "    if \"ginkgo_rl\" not in key:\n",
    "        logging.getLogger(key).setLevel(logging.ERROR)\n",
    "        \n",
    "def set_output(on=True):\n",
    "    for key in logging.Logger.manager.loggerDict:\n",
    "        if \"ginkgo_rl\" in key:\n",
    "            logging.getLogger(key).setLevel(logging.DEBUG if on else logging.ERROR)\n"
   ]
  },
  {
   "cell_type": "markdown",
   "metadata": {},
   "source": [
    "## Let's play a round of clustering manually"
   ]
  },
  {
   "cell_type": "code",
   "execution_count": 3,
   "metadata": {},
   "outputs": [
    {
     "name": "stderr",
     "output_type": "stream",
     "text": [
      "17:52 ginkgo_rl.envs.ginkg DEBUG   Initializing environment\n",
      "17:52 ginkgo_rl.envs.ginkg DEBUG   Sampling new jet with 7 leaves\n",
      "17:52 ginkgo_rl.envs.ginkg DEBUG   Resetting environment\n",
      "17:52 ginkgo_rl.envs.ginkg DEBUG   Sampling new jet with 9 leaves\n",
      "17:52 ginkgo_rl.envs.ginkg INFO    9 particles:\n",
      "17:52 ginkgo_rl.envs.ginkg INFO      p[ 0] = (  0.2,   0.1,   0.2,   0.1)\n",
      "17:52 ginkgo_rl.envs.ginkg INFO      p[ 1] = (  1.5,   1.0,   0.6,   0.9)\n",
      "17:52 ginkgo_rl.envs.ginkg INFO      p[ 3] = (  0.2,   0.1,   0.1,   0.1)\n",
      "17:52 ginkgo_rl.envs.ginkg INFO      p[ 4] = (  0.3,   0.2,   0.2,   0.1)\n",
      "17:52 ginkgo_rl.envs.ginkg INFO      p[ 5] = (  0.3,   0.2,   0.2,   0.2)\n",
      "17:52 ginkgo_rl.envs.ginkg INFO      p[ 6] = (  0.3,   0.2,   0.1,   0.2)\n",
      "17:52 ginkgo_rl.envs.ginkg INFO      p[ 7] = (  0.5,   0.2,   0.3,   0.3)\n",
      "17:52 ginkgo_rl.envs.ginkg INFO      p[ 8] = (  0.3,   0.1,   0.2,   0.2)\n",
      "17:52 ginkgo_rl.envs.ginkg INFO      p[ 9] = (  0.5,   0.2,   0.3,   0.3)\n"
     ]
    }
   ],
   "source": [
    "set_output(True)\n",
    "env = gym.make(\"GinkgoLikelihoodShuffled-v0\")\n",
    "state = env.reset()\n",
    "env.render()"
   ]
  },
  {
   "cell_type": "code",
   "execution_count": 4,
   "metadata": {},
   "outputs": [
    {
     "name": "stderr",
     "output_type": "stream",
     "text": [
      "17:52 ginkgo_rl.envs.ginkg DEBUG   Environment step. Action: (3, 2)\n",
      "17:52 ginkgo_rl.envs.ginkg DEBUG   Computing log likelihood of action (3, 2): -9.241791725158691\n",
      "17:52 ginkgo_rl.envs.ginkg DEBUG   Merging particles 3 and 2. New state has 8 particles.\n",
      "17:52 ginkgo_rl.envs.ginkg INFO    8 particles:\n",
      "17:52 ginkgo_rl.envs.ginkg INFO      p[ 0] = (  0.3,   0.1,   0.2,   0.2)\n",
      "17:52 ginkgo_rl.envs.ginkg INFO      p[ 1] = (  0.5,   0.3,   0.3,   0.3)\n",
      "17:52 ginkgo_rl.envs.ginkg INFO      p[ 2] = (  0.5,   0.2,   0.3,   0.3)\n",
      "17:52 ginkgo_rl.envs.ginkg INFO      p[ 3] = (  0.3,   0.2,   0.1,   0.2)\n",
      "17:52 ginkgo_rl.envs.ginkg INFO      p[ 4] = (  1.5,   1.0,   0.6,   0.9)\n",
      "17:52 ginkgo_rl.envs.ginkg INFO      p[ 6] = (  0.3,   0.2,   0.2,   0.1)\n",
      "17:52 ginkgo_rl.envs.ginkg INFO      p[ 7] = (  0.5,   0.2,   0.3,   0.3)\n",
      "17:52 ginkgo_rl.envs.ginkg INFO      p[ 9] = (  0.2,   0.1,   0.1,   0.1)\n"
     ]
    },
    {
     "name": "stdout",
     "output_type": "stream",
     "text": [
      "Reward: -9.241791725158691\n",
      "Done: False\n",
      "Info: {'legal': True, 'illegal_action_counter': 0, 'replace_illegal_action': False, 'i': 3, 'j': 2}\n"
     ]
    }
   ],
   "source": [
    "# Merge two particles\n",
    "action = 0, 5\n",
    "\n",
    "state, reward, done, info = env.step(action)\n",
    "env.render()\n",
    "\n",
    "print(f\"Reward: {reward}\")\n",
    "print(f\"Done: {done}\")\n",
    "print(f\"Info: {info}\")\n",
    "\n",
    "# Repeat this cell as often as you feel like\n"
   ]
  },
  {
   "cell_type": "code",
   "execution_count": 5,
   "metadata": {},
   "outputs": [],
   "source": [
    "env.close()"
   ]
  },
  {
   "cell_type": "markdown",
   "metadata": {},
   "source": [
    "## Env checker"
   ]
  },
  {
   "cell_type": "code",
   "execution_count": 6,
   "metadata": {},
   "outputs": [
    {
     "name": "stderr",
     "output_type": "stream",
     "text": [
      "/Users/johannbrehmer/anaconda3/envs/rl/lib/python3.7/site-packages/stable_baselines/common/env_checker.py:202: UserWarning: Your observation has an unconventional shape (neither an image, nor a 1D vector). We recommend you to flatten the observation to have only a 1D vector\n",
      "  warnings.warn(\"Your observation has an unconventional shape (neither an image, nor a 1D vector). \"\n"
     ]
    }
   ],
   "source": [
    "set_output(False)\n",
    "env = gym.make(\"GinkgoLikelihoodShuffled-v0\")\n",
    "\n",
    "check_env(env)\n",
    "\n",
    "for i in range(env.n_max):\n",
    "    assert i == env.inverse_permutation[env.permutation[i]] == env.permutation[env.inverse_permutation[i]]\n",
    "    \n",
    "env.close()"
   ]
  },
  {
   "cell_type": "markdown",
   "metadata": {},
   "source": [
    "## Reward distribution for random actions"
   ]
  },
  {
   "cell_type": "code",
   "execution_count": null,
   "metadata": {},
   "outputs": [
    {
     "name": "stderr",
     "output_type": "stream",
     "text": [
      "/Users/johannbrehmer/work/projects/shower_rl/ToyJetsShower/showerSim/invMass_ginkgo.py:333: RuntimeWarning: invalid value encountered in sqrt\n",
      "  P = np.sqrt(tp)/2 * np.sqrt( 1 - 2 * (t_child+t_sib)/tp + (t_child - t_sib)**2 / tp**2 )\n"
     ]
    }
   ],
   "source": [
    "n_steps = 4000\n",
    "\n",
    "set_output(False)\n",
    "env = gym.make(\"GinkgoLikelihoodShuffled1D-v0\")\n",
    "state = env.reset()\n",
    "rewards, legal = [], []\n",
    "\n",
    "for _ in range(n_steps):\n",
    "    action = env.action_space.sample()\n",
    "    legal.append(env.check_legality(action))\n",
    "    _, reward, _, _ = env.step(action)\n",
    "    rewards.append(reward)\n"
   ]
  },
  {
   "cell_type": "code",
   "execution_count": null,
   "metadata": {},
   "outputs": [],
   "source": [
    "range_ = (-20.1, -3)\n",
    "\n",
    "rewards = np.asarray(rewards)\n",
    "legal = np.asarray(legal)\n",
    "\n",
    "fig = plt.figure(figsize=(5,5))\n",
    "plt.hist(rewards, range=range_, bins=50, histtype=\"step\")\n",
    "plt.hist(rewards[legal], range=range_, bins=50, histtype=\"step\")\n",
    "plt.tight_layout()\n",
    "plt.yscale(\"log\")\n",
    "plt.show()\n"
   ]
  },
  {
   "cell_type": "markdown",
   "metadata": {},
   "source": [
    "## Let's let some RL agents loose! First, define the training and eval procedures"
   ]
  },
  {
   "cell_type": "code",
   "execution_count": null,
   "metadata": {},
   "outputs": [],
   "source": [
    "n_test = 5\n",
    "set_output(False)\n",
    "env = gym.make(\"GinkgoLikelihood-v0\")\n",
    "\n",
    "test_internal_states = []\n",
    "test_log_likelihoods = []\n",
    "\n",
    "for _ in range(n_test):\n",
    "    env.reset()\n",
    "    test_internal_states.append(env.get_internal_state())\n",
    "    test_log_likelihoods.append(sum(env.jet[\"logLH\"]))\n",
    "    \n",
    "env.close()\n",
    "\n",
    "\n",
    "class GinkgoEvalCallback(BaseCallback):\n",
    "    def __init__(self, eval_env, eval_freq=100, verbose=0):\n",
    "        super(GinkgoEvalCallback, self).__init__(verbose)\n",
    "        \n",
    "        self.eval_env = eval_env\n",
    "        self.eval_env.min_reward = -1000.0\n",
    "        self.eval_freq = eval_freq\n",
    "        \n",
    "        self.steps = []\n",
    "        self.log_likelihoods = []\n",
    "        self.errors = []\n",
    "        \n",
    "    def _on_step(self):\n",
    "        if self.eval_freq > 0 and self.n_calls % self.eval_freq == 0:\n",
    "            log_likelihood = 0.\n",
    "            errors = 0.\n",
    "\n",
    "            for internal_state in test_internal_states:\n",
    "                _ = self.eval_env.reset()\n",
    "                self.eval_env.set_internal_state(internal_state)\n",
    "                state = self.eval_env.get_state()\n",
    "                done = False\n",
    "                steps = 0\n",
    "                \n",
    "                while not done and steps < int(1.e5):\n",
    "                    action, _ = self.model.predict(state)\n",
    "                    state, reward, done, info = self.eval_env.step(action)\n",
    "\n",
    "                    steps += 1\n",
    "                    if info[\"legal\"]:\n",
    "                        log_likelihood += reward / n_test\n",
    "                    else:\n",
    "                        errors += 1. / n_test\n",
    "                    \n",
    "            self.steps.append(self.n_calls)\n",
    "            self.log_likelihoods.append(log_likelihood)\n",
    "            self.errors.append(errors)\n",
    "            print(log_likelihood, errors)\n",
    "        return True\n"
   ]
  },
  {
   "cell_type": "code",
   "execution_count": null,
   "metadata": {},
   "outputs": [],
   "source": [
    "log_dirs = []\n",
    "models = {}\n",
    "wrap1ds = {}\n",
    "callbacks = {}\n",
    "\n",
    "def train(algorithm, algo_class, policy_class, wrap1d=False, n_steps=100000, eval_freq=5000):\n",
    "    log_dir = f\"./logs/{algorithm}/\"\n",
    "    log_dirs.append(log_dir)\n",
    "\n",
    "    set_output(False)\n",
    "    env = gym.make(\"GinkgoLikelihoodShuffled1D-v0\" if wrap1d else \"GinkgoLikelihoodShuffled-v0\")\n",
    "    os.makedirs(log_dir, exist_ok=True)\n",
    "    env = Monitor(env, log_dir)\n",
    "    \n",
    "    eval_env = gym.make(\"GinkgoLikelihoodShuffled1D-v0\" if wrap1d else \"GinkgoLikelihoodShuffled-v0\")\n",
    "    callback = GinkgoEvalCallback(eval_env, eval_freq)\n",
    "\n",
    "    model = algo_class(policy_class, env, verbose=0)\n",
    "    model.learn(total_timesteps=n_steps, callback=callback)\n",
    "    \n",
    "    models[algorithm] = model\n",
    "    wrap1ds[algorithm] = wrap1d\n",
    "    callbacks[algorithm] = callback\n",
    "    \n",
    "    env.close()\n",
    "    eval_env.close()\n"
   ]
  },
  {
   "cell_type": "code",
   "execution_count": null,
   "metadata": {},
   "outputs": [],
   "source": [
    "def run(algorithm):\n",
    "    model = models[algorithm]\n",
    "    \n",
    "    set_output(True)\n",
    "    env = gym.make(\"GinkgoLikelihoodShuffled1D-v0\" if wrap1ds[algorithm] else \"GinkgoLikelihoodShuffled-v0\")\n",
    "    \n",
    "    state = env.reset()\n",
    "    done = False\n",
    "    steps = 0\n",
    "\n",
    "    while not done and steps < int(1.e5):\n",
    "        action, _states = model.predict(state)\n",
    "        state, reward, done, info = env.step(action)\n",
    "        env.render()\n",
    "        steps += 1\n",
    "    \n",
    "    env.close()\n"
   ]
  },
  {
   "cell_type": "markdown",
   "metadata": {},
   "source": [
    "## PPO"
   ]
  },
  {
   "cell_type": "code",
   "execution_count": null,
   "metadata": {},
   "outputs": [],
   "source": [
    "model = train(\"ppo\", PPO2, MlpPolicy)"
   ]
  },
  {
   "cell_type": "code",
   "execution_count": null,
   "metadata": {},
   "outputs": [],
   "source": [
    "callbacks[\"ppo\"].log_likelihoods"
   ]
  },
  {
   "cell_type": "code",
   "execution_count": null,
   "metadata": {},
   "outputs": [],
   "source": [
    "callbacks[\"ppo\"].errors"
   ]
  },
  {
   "cell_type": "code",
   "execution_count": null,
   "metadata": {},
   "outputs": [],
   "source": [
    "run(\"ppo\")"
   ]
  },
  {
   "cell_type": "markdown",
   "metadata": {},
   "source": [
    "## DQN"
   ]
  },
  {
   "cell_type": "code",
   "execution_count": null,
   "metadata": {},
   "outputs": [],
   "source": [
    "model = train(\"dqn\", DQN, DQNMlpPolicy, wrap1d=True)"
   ]
  },
  {
   "cell_type": "code",
   "execution_count": null,
   "metadata": {},
   "outputs": [],
   "source": [
    "run(\"dqn\")"
   ]
  },
  {
   "cell_type": "markdown",
   "metadata": {},
   "source": [
    "## Results"
   ]
  },
  {
   "cell_type": "code",
   "execution_count": null,
   "metadata": {},
   "outputs": [],
   "source": [
    "results_plotter.plot_results(log_dirs, 1e5, results_plotter.X_TIMESTEPS, \"Ginkgo\")\n"
   ]
  },
  {
   "cell_type": "code",
   "execution_count": null,
   "metadata": {},
   "outputs": [],
   "source": []
  }
 ],
 "metadata": {
  "kernelspec": {
   "display_name": "Python (rl)",
   "language": "python",
   "name": "rl"
  },
  "language_info": {
   "codemirror_mode": {
    "name": "ipython",
    "version": 3
   },
   "file_extension": ".py",
   "mimetype": "text/x-python",
   "name": "python",
   "nbconvert_exporter": "python",
   "pygments_lexer": "ipython3",
   "version": "3.7.7"
  }
 },
 "nbformat": 4,
 "nbformat_minor": 4
}
