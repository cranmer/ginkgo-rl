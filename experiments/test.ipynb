{
 "cells": [
  {
   "cell_type": "markdown",
   "metadata": {},
   "source": [
    "# Ginkgo clustering environment"
   ]
  },
  {
   "cell_type": "markdown",
   "metadata": {},
   "source": [
    "## Setup"
   ]
  },
  {
   "cell_type": "code",
   "execution_count": 1,
   "metadata": {},
   "outputs": [
    {
     "name": "stderr",
     "output_type": "stream",
     "text": [
      "/Users/johannbrehmer/opt/miniconda3/envs/rl/lib/python3.7/site-packages/tensorflow/python/framework/dtypes.py:516: FutureWarning: Passing (type, 1) or '1type' as a synonym of type is deprecated; in a future version of numpy, it will be understood as (type, (1,)) / '(1,)type'.\n",
      "  _np_qint8 = np.dtype([(\"qint8\", np.int8, 1)])\n",
      "/Users/johannbrehmer/opt/miniconda3/envs/rl/lib/python3.7/site-packages/tensorflow/python/framework/dtypes.py:517: FutureWarning: Passing (type, 1) or '1type' as a synonym of type is deprecated; in a future version of numpy, it will be understood as (type, (1,)) / '(1,)type'.\n",
      "  _np_quint8 = np.dtype([(\"quint8\", np.uint8, 1)])\n",
      "/Users/johannbrehmer/opt/miniconda3/envs/rl/lib/python3.7/site-packages/tensorflow/python/framework/dtypes.py:518: FutureWarning: Passing (type, 1) or '1type' as a synonym of type is deprecated; in a future version of numpy, it will be understood as (type, (1,)) / '(1,)type'.\n",
      "  _np_qint16 = np.dtype([(\"qint16\", np.int16, 1)])\n",
      "/Users/johannbrehmer/opt/miniconda3/envs/rl/lib/python3.7/site-packages/tensorflow/python/framework/dtypes.py:519: FutureWarning: Passing (type, 1) or '1type' as a synonym of type is deprecated; in a future version of numpy, it will be understood as (type, (1,)) / '(1,)type'.\n",
      "  _np_quint16 = np.dtype([(\"quint16\", np.uint16, 1)])\n",
      "/Users/johannbrehmer/opt/miniconda3/envs/rl/lib/python3.7/site-packages/tensorflow/python/framework/dtypes.py:520: FutureWarning: Passing (type, 1) or '1type' as a synonym of type is deprecated; in a future version of numpy, it will be understood as (type, (1,)) / '(1,)type'.\n",
      "  _np_qint32 = np.dtype([(\"qint32\", np.int32, 1)])\n",
      "/Users/johannbrehmer/opt/miniconda3/envs/rl/lib/python3.7/site-packages/tensorflow/python/framework/dtypes.py:525: FutureWarning: Passing (type, 1) or '1type' as a synonym of type is deprecated; in a future version of numpy, it will be understood as (type, (1,)) / '(1,)type'.\n",
      "  np_resource = np.dtype([(\"resource\", np.ubyte, 1)])\n",
      "/Users/johannbrehmer/opt/miniconda3/envs/rl/lib/python3.7/site-packages/tensorboard/compat/tensorflow_stub/dtypes.py:541: FutureWarning: Passing (type, 1) or '1type' as a synonym of type is deprecated; in a future version of numpy, it will be understood as (type, (1,)) / '(1,)type'.\n",
      "  _np_qint8 = np.dtype([(\"qint8\", np.int8, 1)])\n",
      "/Users/johannbrehmer/opt/miniconda3/envs/rl/lib/python3.7/site-packages/tensorboard/compat/tensorflow_stub/dtypes.py:542: FutureWarning: Passing (type, 1) or '1type' as a synonym of type is deprecated; in a future version of numpy, it will be understood as (type, (1,)) / '(1,)type'.\n",
      "  _np_quint8 = np.dtype([(\"quint8\", np.uint8, 1)])\n",
      "/Users/johannbrehmer/opt/miniconda3/envs/rl/lib/python3.7/site-packages/tensorboard/compat/tensorflow_stub/dtypes.py:543: FutureWarning: Passing (type, 1) or '1type' as a synonym of type is deprecated; in a future version of numpy, it will be understood as (type, (1,)) / '(1,)type'.\n",
      "  _np_qint16 = np.dtype([(\"qint16\", np.int16, 1)])\n",
      "/Users/johannbrehmer/opt/miniconda3/envs/rl/lib/python3.7/site-packages/tensorboard/compat/tensorflow_stub/dtypes.py:544: FutureWarning: Passing (type, 1) or '1type' as a synonym of type is deprecated; in a future version of numpy, it will be understood as (type, (1,)) / '(1,)type'.\n",
      "  _np_quint16 = np.dtype([(\"quint16\", np.uint16, 1)])\n",
      "/Users/johannbrehmer/opt/miniconda3/envs/rl/lib/python3.7/site-packages/tensorboard/compat/tensorflow_stub/dtypes.py:545: FutureWarning: Passing (type, 1) or '1type' as a synonym of type is deprecated; in a future version of numpy, it will be understood as (type, (1,)) / '(1,)type'.\n",
      "  _np_qint32 = np.dtype([(\"qint32\", np.int32, 1)])\n",
      "/Users/johannbrehmer/opt/miniconda3/envs/rl/lib/python3.7/site-packages/tensorboard/compat/tensorflow_stub/dtypes.py:550: FutureWarning: Passing (type, 1) or '1type' as a synonym of type is deprecated; in a future version of numpy, it will be understood as (type, (1,)) / '(1,)type'.\n",
      "  np_resource = np.dtype([(\"resource\", np.ubyte, 1)])\n"
     ]
    }
   ],
   "source": [
    "%matplotlib inline\n",
    "\n",
    "import copy\n",
    "import sys\n",
    "import os\n",
    "import numpy as np\n",
    "from matplotlib import pyplot as plt\n",
    "import gym\n",
    "import logging\n",
    "from tqdm import trange\n",
    "\n",
    "from stable_baselines.common.policies import MlpPolicy, MlpLnLstmPolicy\n",
    "from stable_baselines.deepq import MlpPolicy as DQNMlpPolicy\n",
    "from stable_baselines import PPO2, ACER, DQN\n",
    "from stable_baselines.bench import Monitor\n",
    "from stable_baselines import results_plotter\n",
    "from stable_baselines.common.env_checker import check_env\n",
    "from stable_baselines.common.callbacks import BaseCallback\n",
    "\n",
    "sys.path.append(\"../\")\n",
    "from ginkgo_rl import GinkgoLikelihoodEnv, GinkgoLikelihood1DEnv, GinkgoLikelihoodShuffledEnv, GinkgoEvaluator\n",
    "from ginkgo_rl import BatchedACERAgent\n"
   ]
  },
  {
   "cell_type": "code",
   "execution_count": 2,
   "metadata": {},
   "outputs": [],
   "source": [
    "# Logging setup\n",
    "logging.basicConfig(\n",
    "    format='%(asctime)-5.5s %(name)-20.20s %(levelname)-7.7s %(message)s',\n",
    "    datefmt='%H:%M',\n",
    "    level=logging.DEBUG\n",
    ")\n",
    "\n",
    "for key in logging.Logger.manager.loggerDict:\n",
    "    if \"ginkgo_rl\" not in key:\n",
    "        logging.getLogger(key).setLevel(logging.ERROR)\n",
    "        \n",
    "def set_output(on=True):\n",
    "    for key in logging.Logger.manager.loggerDict:\n",
    "        if \"ginkgo_rl\" in key:\n",
    "            logging.getLogger(key).setLevel(logging.DEBUG if on else logging.ERROR)\n"
   ]
  },
  {
   "cell_type": "markdown",
   "metadata": {},
   "source": [
    "## Let's play a round of clustering manually"
   ]
  },
  {
   "cell_type": "code",
   "execution_count": 3,
   "metadata": {},
   "outputs": [
    {
     "name": "stderr",
     "output_type": "stream",
     "text": [
      "15:31 ginkgo_rl.envs.ginkg DEBUG   Initializing environment\n",
      "15:31 ginkgo_rl.envs.ginkg DEBUG   Resetting environment\n",
      "15:31 ginkgo_rl.envs.ginkg DEBUG   Sampling new jet with 4 leaves\n",
      "15:31 ginkgo_rl.envs.ginkg INFO    4 particles:\n",
      "15:31 ginkgo_rl.envs.ginkg INFO      p[ 0] = (  1.0,   0.4,   0.8,   0.4)\n",
      "15:31 ginkgo_rl.envs.ginkg INFO      p[ 1] = (  1.9,   1.2,   0.9,   1.2)\n",
      "15:31 ginkgo_rl.envs.ginkg INFO      p[ 2] = (  0.3,   0.2,   0.2,   0.2)\n",
      "15:31 ginkgo_rl.envs.ginkg INFO      p[ 3] = (  0.9,   0.5,   0.4,   0.5)\n"
     ]
    }
   ],
   "source": [
    "set_output(True)\n",
    "env = GinkgoLikelihoodEnv(n_max=6, illegal_reward=0., min_reward=None)\n",
    "state = env.reset()\n",
    "env.render()"
   ]
  },
  {
   "cell_type": "code",
   "execution_count": 4,
   "metadata": {},
   "outputs": [
    {
     "name": "stdout",
     "output_type": "stream",
     "text": [
      "0: [407.92156109 230.94010768 230.94010768 230.94010768]. 0 -> (1, 2) with log p = -14.728787422180176, delta = 6400.0\n",
      "1: [103.06200827  42.5980643   83.89093116  42.01959462]. Leaf.\n",
      "2: [304.85955282 188.34204338 147.04917651 188.92051306]. 2 -> (3, 4) with log p = -7.743199348449707, delta = 152.20106506347656\n",
      "3: [188.05934772 115.35438905  89.89876723 118.16351731]. Leaf.\n",
      "4: [116.8002051   72.98765433  57.15040929  70.75699575]. 4 -> (5, 6) with log p = -3.702552080154419, delta = 42.368507385253906\n",
      "5: [31.65752166 18.98944649 16.13404677 19.33101214]. Leaf.\n",
      "6: [85.14267916 53.99820516 41.01636042 51.42598101]. Leaf.\n"
     ]
    }
   ],
   "source": [
    "for i, (children, p, log_likelihood_split, delta) in enumerate(zip(\n",
    "    env.jet['tree'], env.jet['content'], env.jet['logLH'], env.jet['deltas']\n",
    ")):\n",
    "    if children[0] < 0 and children[1] < 0:\n",
    "        print(f\"{i}: {p}. Leaf.\")\n",
    "    else:\n",
    "        print(f\"{i}: {p}. {i} -> ({children[0]}, {children[1]}) with log p = {log_likelihood_split}, delta = {delta}\")"
   ]
  },
  {
   "cell_type": "code",
   "execution_count": 5,
   "metadata": {},
   "outputs": [
    {
     "name": "stderr",
     "output_type": "stream",
     "text": [
      "15:31 ginkgo_rl.envs.ginkg DEBUG   Environment step. Action: (0, 1)\n",
      "15:31 ginkgo_rl.envs.ginkg DEBUG   Computing log likelihood of action (0, 1): ti = 0.0, tj = 0.0, t_cut = 16.0, lam = 1.5 -> log likelihood = -12.234513282775879\n",
      "15:31 ginkgo_rl.envs.ginkg DEBUG   Merging particles 0 and 1. New state has 3 particles.\n",
      "15:31 ginkgo_rl.envs.ginkg INFO    3 particles:\n",
      "15:31 ginkgo_rl.envs.ginkg INFO      p[ 0] = (  2.9,   1.6,   1.7,   1.6)\n",
      "15:31 ginkgo_rl.envs.ginkg INFO      p[ 1] = (  0.3,   0.2,   0.2,   0.2)\n",
      "15:31 ginkgo_rl.envs.ginkg INFO      p[ 2] = (  0.9,   0.5,   0.4,   0.5)\n"
     ]
    },
    {
     "name": "stdout",
     "output_type": "stream",
     "text": [
      "Reward: -12.234513282775879\n",
      "Done: False\n",
      "Info: {'legal': True, 'illegal_action_counter': 0, 'replace_illegal_action': False, 'i': 0, 'j': 1}\n"
     ]
    }
   ],
   "source": [
    "# Merge two particles\n",
    "action = 0, 1\n",
    "\n",
    "state, reward, done, info = env.step(action)\n",
    "env.render()\n",
    "\n",
    "print(f\"Reward: {reward}\")\n",
    "print(f\"Done: {done}\")\n",
    "print(f\"Info: {info}\")\n",
    "\n",
    "# Repeat this cell as often as you feel like\n"
   ]
  },
  {
   "cell_type": "code",
   "execution_count": 6,
   "metadata": {},
   "outputs": [],
   "source": [
    "env.close()"
   ]
  },
  {
   "cell_type": "markdown",
   "metadata": {},
   "source": [
    "## Env checker"
   ]
  },
  {
   "cell_type": "code",
   "execution_count": 7,
   "metadata": {},
   "outputs": [
    {
     "name": "stderr",
     "output_type": "stream",
     "text": [
      "/Users/johannbrehmer/opt/miniconda3/envs/rl/lib/python3.7/site-packages/stable_baselines/common/env_checker.py:202: UserWarning: Your observation has an unconventional shape (neither an image, nor a 1D vector). We recommend you to flatten the observation to have only a 1D vector\n",
      "  warnings.warn(\"Your observation has an unconventional shape (neither an image, nor a 1D vector). \"\n"
     ]
    }
   ],
   "source": [
    "set_output(False)\n",
    "env = gym.make(\"GinkgoLikelihoodShuffled-v0\")\n",
    "\n",
    "check_env(env)\n",
    "\n",
    "for i in range(env.n_max):\n",
    "    assert i == env.inverse_permutation[env.permutation[i]] == env.permutation[env.inverse_permutation[i]]\n",
    "    \n",
    "env.close()"
   ]
  },
  {
   "cell_type": "markdown",
   "metadata": {},
   "source": [
    "## Evaluation routine"
   ]
  },
  {
   "cell_type": "code",
   "execution_count": 3,
   "metadata": {},
   "outputs": [],
   "source": [
    "set_output(False)\n",
    "evaluator = GinkgoEvaluator()\n"
   ]
  },
  {
   "cell_type": "code",
   "execution_count": 4,
   "metadata": {},
   "outputs": [],
   "source": [
    "# True log likelihoods\n",
    "set_output(False)\n",
    "evaluator.eval_true(\"Truth\")\n"
   ]
  },
  {
   "cell_type": "code",
   "execution_count": 5,
   "metadata": {},
   "outputs": [],
   "source": [
    "# MLE (Trellis)\n",
    "set_output(False)\n",
    "evaluator.eval_exact_trellis(\"ML (Trellis)\")\n"
   ]
  },
  {
   "cell_type": "markdown",
   "metadata": {},
   "source": [
    "## Random clusterings"
   ]
  },
  {
   "cell_type": "code",
   "execution_count": null,
   "metadata": {},
   "outputs": [],
   "source": [
    "set_output(False)\n",
    "evaluator.eval_random(\"Random\", env_name=\"GinkgoLikelihood-v0\")\n"
   ]
  },
  {
   "cell_type": "code",
   "execution_count": null,
   "metadata": {},
   "outputs": [],
   "source": [
    "_ = evaluator.plot_log_likelihoods()"
   ]
  },
  {
   "cell_type": "markdown",
   "metadata": {},
   "source": [
    "## RL preparation"
   ]
  },
  {
   "cell_type": "code",
   "execution_count": 6,
   "metadata": {},
   "outputs": [],
   "source": [
    "log_dirs = []\n",
    "models = {}\n",
    "env_names = {}\n",
    "\n",
    "def train_baseline(algorithm, algo_class, policy_class, env_name=\"GinkgoLikelihoodShuffled1D-v0\", n_steps=10000):\n",
    "    log_dir = f\"./logs/{algorithm}/\"\n",
    "    log_dirs.append(log_dir)\n",
    "\n",
    "    set_output(False)\n",
    "    env = gym.make(env_name)\n",
    "    os.makedirs(log_dir, exist_ok=True)\n",
    "    env = Monitor(env, log_dir)\n",
    "\n",
    "    model = algo_class(policy_class, env, verbose=0)\n",
    "    model.learn(total_timesteps=n_steps)\n",
    "    \n",
    "    models[algorithm] = model\n",
    "    env_names[algorithm] = env_name\n",
    "    env.close()\n",
    "\n",
    "def train_own(algorithm, algo_class, env_name=\"GinkgoLikelihoodShuffled1D-v0\", n_steps=10000):\n",
    "    log_dir = f\"./logs/{algorithm}/\"\n",
    "    log_dirs.append(log_dir)\n",
    "\n",
    "    set_output(False)\n",
    "    env = gym.make(env_name)\n",
    "    os.makedirs(log_dir, exist_ok=True)\n",
    "    env = Monitor(env, log_dir)\n",
    "    _ = env.reset()\n",
    "\n",
    "    model = algo_class(env)\n",
    "    model.learn(total_timesteps=n_steps)\n",
    "    \n",
    "    models[algorithm] = model\n",
    "    env_names[algorithm] = env_name\n",
    "    env.close()\n"
   ]
  },
  {
   "cell_type": "markdown",
   "metadata": {},
   "source": [
    "## ACER (our own)"
   ]
  },
  {
   "cell_type": "code",
   "execution_count": 7,
   "metadata": {},
   "outputs": [
    {
     "name": "stderr",
     "output_type": "stream",
     "text": [
      "  1%|          | 97/10000 [00:20<38:11,  4.32it/s]/Users/johannbrehmer/work/shower_rl/ToyJetsShower/showerSim/invMass_ginkgo.py:289: RuntimeWarning: invalid value encountered in sqrt\n",
      "  logger.debug(f\"pR inv mass from p^2 in lab  frame: {np.sqrt(pR_mu[0] ** 2 - np.linalg.norm(pR_mu[1::]) ** 2)}\")\n",
      "  9%|▊         | 858/10000 [04:30<57:22,  2.66it/s]  /Users/johannbrehmer/work/shower_rl/ToyJetsShower/showerSim/invMass_ginkgo.py:333: RuntimeWarning: invalid value encountered in sqrt\n",
      "  P = np.sqrt(tp)/2 * np.sqrt( 1 - 2 * (t_child+t_sib)/tp + (t_child - t_sib)**2 / tp**2 )\n",
      "100%|██████████| 10000/10000 [41:17<00:00,  4.04it/s] \n"
     ]
    }
   ],
   "source": [
    "train_own(\"acer\", BatchedACERAgent)"
   ]
  },
  {
   "cell_type": "markdown",
   "metadata": {},
   "source": [
    "## PPO"
   ]
  },
  {
   "cell_type": "code",
   "execution_count": null,
   "metadata": {},
   "outputs": [],
   "source": [
    "train(\"ppo\", PPO2, MlpPolicy, env_name=\"GinkgoLikelihoodShuffled-v0\")"
   ]
  },
  {
   "cell_type": "markdown",
   "metadata": {},
   "source": [
    "## DQN"
   ]
  },
  {
   "cell_type": "code",
   "execution_count": null,
   "metadata": {},
   "outputs": [],
   "source": [
    "train(\"dqn\", DQN, DQNMlpPolicy)"
   ]
  },
  {
   "cell_type": "markdown",
   "metadata": {},
   "source": [
    "## Training progress"
   ]
  },
  {
   "cell_type": "code",
   "execution_count": 8,
   "metadata": {},
   "outputs": [
    {
     "data": {
      "image/png": "[encoded data removed]",
      "text/plain": [
       "<Figure size 576x144 with 1 Axes>"
      ]
     },
     "metadata": {
      "needs_background": "light"
     },
     "output_type": "display_data"
    }
   ],
   "source": [
    "results_plotter.plot_results(log_dirs[:], 1e4, results_plotter.X_TIMESTEPS, \"Ginkgo\")\n"
   ]
  },
  {
   "cell_type": "markdown",
   "metadata": {},
   "source": [
    "## Evaluate"
   ]
  },
  {
   "cell_type": "code",
   "execution_count": null,
   "metadata": {},
   "outputs": [
    {
     "name": "stderr",
     "output_type": "stream",
     "text": [
      "/Users/johannbrehmer/work/shower_rl/ToyJetsShower/showerSim/invMass_ginkgo.py:289: RuntimeWarning: invalid value encountered in sqrt\n",
      "  logger.debug(f\"pR inv mass from p^2 in lab  frame: {np.sqrt(pR_mu[0] ** 2 - np.linalg.norm(pR_mu[1::]) ** 2)}\")\n",
      "/Users/johannbrehmer/work/shower_rl/ToyJetsShower/showerSim/invMass_ginkgo.py:333: RuntimeWarning: invalid value encountered in sqrt\n",
      "  P = np.sqrt(tp)/2 * np.sqrt( 1 - 2 * (t_child+t_sib)/tp + (t_child - t_sib)**2 / tp**2 )\n"
     ]
    }
   ],
   "source": [
    "evaluator.eval(\"ACER\", models[\"acer\"], \"GinkgoLikelihoodShuffled1D-v0\")"
   ]
  },
  {
   "cell_type": "code",
   "execution_count": null,
   "metadata": {},
   "outputs": [],
   "source": [
    "evaluator.eval(\"PPO\", models[\"ppo\"], \"GinkgoLikelihoodShuffled-v0\")"
   ]
  },
  {
   "cell_type": "code",
   "execution_count": null,
   "metadata": {},
   "outputs": [],
   "source": [
    "evaluator.eval(\"DQN\", models[\"dqn\"], \"GinkgoLikelihoodShuffled1D-v0\")"
   ]
  },
  {
   "cell_type": "code",
   "execution_count": null,
   "metadata": {},
   "outputs": [],
   "source": [
    "_ = evaluator.plot_log_likelihoods()"
   ]
  },
  {
   "cell_type": "code",
   "execution_count": null,
   "metadata": {},
   "outputs": [],
   "source": []
  }
 ],
 "metadata": {
  "kernelspec": {
   "display_name": "RL",
   "language": "python",
   "name": "rl"
  },
  "language_info": {
   "codemirror_mode": {
    "name": "ipython",
    "version": 3
   },
   "file_extension": ".py",
   "mimetype": "text/x-python",
   "name": "python",
   "nbconvert_exporter": "python",
   "pygments_lexer": "ipython3",
   "version": "3.7.8"
  }
 },
 "nbformat": 4,
 "nbformat_minor": 4
}
