{
 "cells": [
  {
   "cell_type": "markdown",
   "metadata": {},
   "source": [
    "# Ginkgo clustering environment"
   ]
  },
  {
   "cell_type": "markdown",
   "metadata": {},
   "source": [
    "## Setup"
   ]
  },
  {
   "cell_type": "code",
   "execution_count": 1,
   "metadata": {},
   "outputs": [
    {
     "name": "stderr",
     "output_type": "stream",
     "text": [
      "/Users/johannbrehmer/anaconda3/envs/rl/lib/python3.7/site-packages/tensorflow/python/framework/dtypes.py:516: FutureWarning: Passing (type, 1) or '1type' as a synonym of type is deprecated; in a future version of numpy, it will be understood as (type, (1,)) / '(1,)type'.\n",
      "  _np_qint8 = np.dtype([(\"qint8\", np.int8, 1)])\n",
      "/Users/johannbrehmer/anaconda3/envs/rl/lib/python3.7/site-packages/tensorflow/python/framework/dtypes.py:517: FutureWarning: Passing (type, 1) or '1type' as a synonym of type is deprecated; in a future version of numpy, it will be understood as (type, (1,)) / '(1,)type'.\n",
      "  _np_quint8 = np.dtype([(\"quint8\", np.uint8, 1)])\n",
      "/Users/johannbrehmer/anaconda3/envs/rl/lib/python3.7/site-packages/tensorflow/python/framework/dtypes.py:518: FutureWarning: Passing (type, 1) or '1type' as a synonym of type is deprecated; in a future version of numpy, it will be understood as (type, (1,)) / '(1,)type'.\n",
      "  _np_qint16 = np.dtype([(\"qint16\", np.int16, 1)])\n",
      "/Users/johannbrehmer/anaconda3/envs/rl/lib/python3.7/site-packages/tensorflow/python/framework/dtypes.py:519: FutureWarning: Passing (type, 1) or '1type' as a synonym of type is deprecated; in a future version of numpy, it will be understood as (type, (1,)) / '(1,)type'.\n",
      "  _np_quint16 = np.dtype([(\"quint16\", np.uint16, 1)])\n",
      "/Users/johannbrehmer/anaconda3/envs/rl/lib/python3.7/site-packages/tensorflow/python/framework/dtypes.py:520: FutureWarning: Passing (type, 1) or '1type' as a synonym of type is deprecated; in a future version of numpy, it will be understood as (type, (1,)) / '(1,)type'.\n",
      "  _np_qint32 = np.dtype([(\"qint32\", np.int32, 1)])\n",
      "/Users/johannbrehmer/anaconda3/envs/rl/lib/python3.7/site-packages/tensorflow/python/framework/dtypes.py:525: FutureWarning: Passing (type, 1) or '1type' as a synonym of type is deprecated; in a future version of numpy, it will be understood as (type, (1,)) / '(1,)type'.\n",
      "  np_resource = np.dtype([(\"resource\", np.ubyte, 1)])\n",
      "/Users/johannbrehmer/anaconda3/envs/rl/lib/python3.7/site-packages/tensorboard/compat/tensorflow_stub/dtypes.py:541: FutureWarning: Passing (type, 1) or '1type' as a synonym of type is deprecated; in a future version of numpy, it will be understood as (type, (1,)) / '(1,)type'.\n",
      "  _np_qint8 = np.dtype([(\"qint8\", np.int8, 1)])\n",
      "/Users/johannbrehmer/anaconda3/envs/rl/lib/python3.7/site-packages/tensorboard/compat/tensorflow_stub/dtypes.py:542: FutureWarning: Passing (type, 1) or '1type' as a synonym of type is deprecated; in a future version of numpy, it will be understood as (type, (1,)) / '(1,)type'.\n",
      "  _np_quint8 = np.dtype([(\"quint8\", np.uint8, 1)])\n",
      "/Users/johannbrehmer/anaconda3/envs/rl/lib/python3.7/site-packages/tensorboard/compat/tensorflow_stub/dtypes.py:543: FutureWarning: Passing (type, 1) or '1type' as a synonym of type is deprecated; in a future version of numpy, it will be understood as (type, (1,)) / '(1,)type'.\n",
      "  _np_qint16 = np.dtype([(\"qint16\", np.int16, 1)])\n",
      "/Users/johannbrehmer/anaconda3/envs/rl/lib/python3.7/site-packages/tensorboard/compat/tensorflow_stub/dtypes.py:544: FutureWarning: Passing (type, 1) or '1type' as a synonym of type is deprecated; in a future version of numpy, it will be understood as (type, (1,)) / '(1,)type'.\n",
      "  _np_quint16 = np.dtype([(\"quint16\", np.uint16, 1)])\n",
      "/Users/johannbrehmer/anaconda3/envs/rl/lib/python3.7/site-packages/tensorboard/compat/tensorflow_stub/dtypes.py:545: FutureWarning: Passing (type, 1) or '1type' as a synonym of type is deprecated; in a future version of numpy, it will be understood as (type, (1,)) / '(1,)type'.\n",
      "  _np_qint32 = np.dtype([(\"qint32\", np.int32, 1)])\n",
      "/Users/johannbrehmer/anaconda3/envs/rl/lib/python3.7/site-packages/tensorboard/compat/tensorflow_stub/dtypes.py:550: FutureWarning: Passing (type, 1) or '1type' as a synonym of type is deprecated; in a future version of numpy, it will be understood as (type, (1,)) / '(1,)type'.\n",
      "  np_resource = np.dtype([(\"resource\", np.ubyte, 1)])\n"
     ]
    }
   ],
   "source": [
    "%matplotlib inline\n",
    "\n",
    "import copy\n",
    "import sys\n",
    "import os\n",
    "import numpy as np\n",
    "from matplotlib import pyplot as plt\n",
    "import gym\n",
    "import logging\n",
    "from tqdm import trange\n",
    "\n",
    "from stable_baselines.common.policies import MlpPolicy, MlpLnLstmPolicy\n",
    "from stable_baselines.deepq import MlpPolicy as DQNMlpPolicy\n",
    "from stable_baselines import PPO2, ACER, DQN\n",
    "from stable_baselines.bench import Monitor\n",
    "from stable_baselines import results_plotter\n",
    "from stable_baselines.common.env_checker import check_env\n",
    "from stable_baselines.common.callbacks import BaseCallback\n",
    "\n",
    "sys.path.append(\"../\")\n",
    "from ginkgo_rl import GinkgoLikelihoodEnv, GinkgoLikelihood1DEnv, GinkgoLikelihoodShuffledEnv, GinkgoEvaluator\n",
    "from ginkgo_rl import BatchedACERAgent, RandomMCTSAgent, MCTSAgent, GreedyAgent, RandomAgent\n"
   ]
  },
  {
   "cell_type": "code",
   "execution_count": 2,
   "metadata": {},
   "outputs": [],
   "source": [
    "# Logging setup\n",
    "logging.basicConfig(\n",
    "    format='%(asctime)-5.5s %(name)-20.20s %(levelname)-7.7s %(message)s',\n",
    "    datefmt='%H:%M',\n",
    "    level=logging.DEBUG\n",
    ")\n",
    "\n",
    "for key in logging.Logger.manager.loggerDict:\n",
    "    if \"ginkgo_rl\" not in key:\n",
    "        logging.getLogger(key).setLevel(logging.ERROR)\n",
    "        \n",
    "def set_output(on=True):\n",
    "    for key in logging.Logger.manager.loggerDict:\n",
    "        if \"ginkgo_rl\" in key:\n",
    "            logging.getLogger(key).setLevel(logging.DEBUG if on else logging.ERROR)\n"
   ]
  },
  {
   "cell_type": "markdown",
   "metadata": {},
   "source": [
    "## Let's play a round of clustering manually"
   ]
  },
  {
   "cell_type": "code",
   "execution_count": 3,
   "metadata": {},
   "outputs": [],
   "source": [
    "# set_output(True)\n",
    "# env = GinkgoLikelihoodEnv(n_max=6, illegal_reward=0., min_reward=None)\n",
    "# state = env.reset()\n",
    "# env.render()"
   ]
  },
  {
   "cell_type": "code",
   "execution_count": 4,
   "metadata": {},
   "outputs": [],
   "source": [
    "# for i, (children, p, log_likelihood_split, delta) in enumerate(zip(\n",
    "#     env.jet['tree'], env.jet['content'], env.jet['logLH'], env.jet['deltas']\n",
    "# )):\n",
    "#     if children[0] < 0 and children[1] < 0:\n",
    "#         print(f\"{i}: {p}. Leaf.\")\n",
    "#     else:\n",
    "#         print(f\"{i}: {p}. {i} -> ({children[0]}, {children[1]}) with log p = {log_likelihood_split}, delta = {delta}\")"
   ]
  },
  {
   "cell_type": "code",
   "execution_count": 5,
   "metadata": {},
   "outputs": [],
   "source": [
    "# # Merge two particles\n",
    "# action = 0, 1\n",
    "\n",
    "# state, reward, done, info = env.step(action)\n",
    "# env.render()\n",
    "\n",
    "# print(f\"Reward: {reward}\")\n",
    "# print(f\"Done: {done}\")\n",
    "# print(f\"Info: {info}\")\n",
    "\n",
    "# # Repeat this cell as often as you feel like\n"
   ]
  },
  {
   "cell_type": "code",
   "execution_count": 5,
   "metadata": {},
   "outputs": [],
   "source": [
    "# env.close()"
   ]
  },
  {
   "cell_type": "markdown",
   "metadata": {},
   "source": [
    "## Env checker"
   ]
  },
  {
   "cell_type": "code",
   "execution_count": 6,
   "metadata": {},
   "outputs": [],
   "source": [
    "# set_output(False)\n",
    "# env = gym.make(\"GinkgoLikelihoodShuffled-v0\")\n",
    "\n",
    "# check_env(env)\n",
    "\n",
    "# for i in range(env.n_max):\n",
    "#     assert i == env.inverse_permutation[env.permutation[i]] == env.permutation[env.inverse_permutation[i]]\n",
    "    \n",
    "# env.close()"
   ]
  },
  {
   "cell_type": "markdown",
   "metadata": {},
   "source": [
    "## Evaluation routine and baselines"
   ]
  },
  {
   "cell_type": "code",
   "execution_count": 26,
   "metadata": {},
   "outputs": [],
   "source": [
    "set_output(False)\n",
    "evaluator = GinkgoEvaluator(n_jets = 4)\n",
    "\n",
    "# True log likelihoods\n",
    "set_output(False)\n",
    "evaluator.eval_true(\"Truth\")\n",
    "\n",
    "# MLE (Trellis)\n",
    "set_output(False)\n",
    "evaluator.eval_exact_trellis(\"ML (Trellis)\")\n"
   ]
  },
  {
   "cell_type": "markdown",
   "metadata": {},
   "source": [
    "## Training functions"
   ]
  },
  {
   "cell_type": "code",
   "execution_count": 8,
   "metadata": {},
   "outputs": [],
   "source": [
    "log_dirs = []\n",
    "models = {}\n",
    "env_names = {}\n",
    "\n",
    "def train_baseline(algorithm, algo_class, policy_class, env_name=\"GinkgoLikelihood1D-v0\", n_steps=10000):\n",
    "    log_dir = f\"./logs/{algorithm}/\"\n",
    "    log_dirs.append(log_dir)\n",
    "\n",
    "    set_output(False)\n",
    "    env = gym.make(env_name)\n",
    "    os.makedirs(log_dir, exist_ok=True)\n",
    "    env = Monitor(env, log_dir)\n",
    "\n",
    "    model = algo_class(policy_class, env, verbose=0)\n",
    "    model.learn(total_timesteps=n_steps)\n",
    "    \n",
    "    models[algorithm] = model\n",
    "    env_names[algorithm] = env_name\n",
    "    env.close()\n",
    "\n",
    "def train_own(algorithm, algo_class, env_name=\"GinkgoLikelihood1D-v0\", n_steps=10000):\n",
    "    log_dir = f\"./logs/{algorithm}/\"\n",
    "    log_dirs.append(log_dir)\n",
    "\n",
    "    set_output(False)\n",
    "    env = gym.make(env_name)\n",
    "    # os.makedirs(log_dir, exist_ok=True)\n",
    "    # env = Monitor(env, log_dir)\n",
    "    _ = env.reset()\n",
    "\n",
    "    model = algo_class(env)\n",
    "    models[algorithm] = model\n",
    "    env_names[algorithm] = env_name\n",
    "    \n",
    "    model.learn(total_timesteps=n_steps)\n",
    "    \n",
    "    env.close()\n"
   ]
  },
  {
   "cell_type": "markdown",
   "metadata": {},
   "source": [
    "## Create / train agents"
   ]
  },
  {
   "cell_type": "code",
   "execution_count": 9,
   "metadata": {},
   "outputs": [
    {
     "name": "stderr",
     "output_type": "stream",
     "text": [
      "0it [00:00, ?it/s]\n"
     ]
    }
   ],
   "source": [
    "train_own(\"random\", RandomAgent, n_steps=0)"
   ]
  },
  {
   "cell_type": "code",
   "execution_count": 10,
   "metadata": {},
   "outputs": [
    {
     "name": "stderr",
     "output_type": "stream",
     "text": [
      "0it [00:00, ?it/s]\n"
     ]
    }
   ],
   "source": [
    "train_own(\"greedy\", GreedyAgent, n_steps=0)"
   ]
  },
  {
   "cell_type": "code",
   "execution_count": 25,
   "metadata": {},
   "outputs": [
    {
     "name": "stderr",
     "output_type": "stream",
     "text": [
      "  0%|          | 1/50000 [00:03<45:56:42,  3.31s/it]/Users/johannbrehmer/work/projects/shower_rl/ToyJetsShower/showerSim/invMass_ginkgo.py:289: RuntimeWarning: invalid value encountered in sqrt\n",
      "  logger.debug(f\"pR inv mass from p^2 in lab  frame: {np.sqrt(pR_mu[0] ** 2 - np.linalg.norm(pR_mu[1::]) ** 2)}\")\n",
      "  0%|          | 172/50000 [01:32<3:49:06,  3.62it/s] /Users/johannbrehmer/work/projects/shower_rl/ToyJetsShower/showerSim/invMass_ginkgo.py:333: RuntimeWarning: invalid value encountered in sqrt\n",
      "  P = np.sqrt(tp)/2 * np.sqrt( 1 - 2 * (t_child+t_sib)/tp + (t_child - t_sib)**2 / tp**2 )\n",
      " 10%|█         | 5015/50000 [43:27<2:56:25,  4.25it/s] /Users/johannbrehmer/work/projects/shower_rl/ToyJetsShower/showerSim/likelihood_invM.py:46: RuntimeWarning: invalid value encountered in log\n",
      "  return -np.log(1 - np.exp(- lam)) + np.log(1 - np.exp(-lam * t_cut / tP))\n",
      " 41%|████      | 20622/50000 [2:57:23<2:57:01,  2.77it/s] /Users/johannbrehmer/work/projects/shower_rl/ToyJetsShower/showerSim/invMass_ginkgo.py:288: RuntimeWarning: invalid value encountered in sqrt\n",
      "  logger.debug(f\"pL inv mass from p^2 in lab  frame: {np.sqrt(pL_mu[0]**2-np.linalg.norm(pL_mu[1::])**2)}\")\n",
      "100%|██████████| 50000/50000 [6:41:53<00:00,  2.07it/s]  \n"
     ]
    }
   ],
   "source": [
    "train_own(\"mcts\", MCTSAgent, n_steps=50000)"
   ]
  },
  {
   "cell_type": "code",
   "execution_count": 11,
   "metadata": {},
   "outputs": [],
   "source": [
    "# train_own(\"acer\", BatchedACERAgent)"
   ]
  },
  {
   "cell_type": "code",
   "execution_count": 12,
   "metadata": {},
   "outputs": [],
   "source": [
    "# train_baseline(\"ppo\", PPO2, MlpPolicy, env_name=\"GinkgoLikelihood-v0\")"
   ]
  },
  {
   "cell_type": "code",
   "execution_count": 13,
   "metadata": {},
   "outputs": [],
   "source": [
    "# train_baseline(\"dqn\", DQN, DQNMlpPolicy)"
   ]
  },
  {
   "cell_type": "markdown",
   "metadata": {},
   "source": [
    "## Plot training progress"
   ]
  },
  {
   "cell_type": "code",
   "execution_count": null,
   "metadata": {},
   "outputs": [],
   "source": [
    "# results_plotter.plot_results(log_dirs[:], 1e4, results_plotter.X_TIMESTEPS, \"Ginkgo\")\n"
   ]
  },
  {
   "cell_type": "markdown",
   "metadata": {},
   "source": [
    "## Evaluate"
   ]
  },
  {
   "cell_type": "code",
   "execution_count": 27,
   "metadata": {},
   "outputs": [
    {
     "name": "stderr",
     "output_type": "stream",
     "text": [
      "100%|██████████| 400/400 [02:07<00:00,  3.15it/s]\n"
     ]
    }
   ],
   "source": [
    "evaluator.eval(\"Random\", models[\"random\"], \"GinkgoLikelihood1D-v0\")"
   ]
  },
  {
   "cell_type": "code",
   "execution_count": 28,
   "metadata": {},
   "outputs": [
    {
     "name": "stderr",
     "output_type": "stream",
     "text": [
      "100%|██████████| 4/4 [00:02<00:00,  1.97it/s]\n"
     ]
    }
   ],
   "source": [
    "evaluator.eval(\"Greedy\", models[\"greedy\"], \"GinkgoLikelihood1D-v0\", n_repeats=1)"
   ]
  },
  {
   "cell_type": "code",
   "execution_count": 29,
   "metadata": {},
   "outputs": [
    {
     "name": "stderr",
     "output_type": "stream",
     "text": [
      "100%|██████████| 400/400 [50:45<00:00,  7.61s/it] \n"
     ]
    }
   ],
   "source": [
    "models[\"mcts\"].n_mc_target = 10\n",
    "models[\"mcts\"].n_mc_max = 250\n",
    "evaluator.eval(\"MCTS\", models[\"mcts\"], \"GinkgoLikelihood1D-v0\")"
   ]
  },
  {
   "cell_type": "code",
   "execution_count": null,
   "metadata": {},
   "outputs": [],
   "source": [
    "# evaluator.eval(\"ACER\", models[\"acer\"], \"GinkgoLikelihood1D-v0\")"
   ]
  },
  {
   "cell_type": "code",
   "execution_count": null,
   "metadata": {},
   "outputs": [],
   "source": [
    "# evaluator.eval(\"PPO\", models[\"ppo\"], \"GinkgoLikelihood-v0\")"
   ]
  },
  {
   "cell_type": "code",
   "execution_count": null,
   "metadata": {},
   "outputs": [],
   "source": [
    "# evaluator.eval(\"DQN\", models[\"dqn\"], \"GinkgoLikelihood1D-v0\")"
   ]
  },
  {
   "cell_type": "markdown",
   "metadata": {},
   "source": [
    "## Results"
   ]
  },
  {
   "cell_type": "code",
   "execution_count": 33,
   "metadata": {},
   "outputs": [
    {
     "data": {
      "image/png": "[encoded data removed]",
      "text/plain": [
       "<Figure size 864x432 with 4 Axes>"
      ]
     },
     "metadata": {
      "needs_background": "light"
     },
     "output_type": "display_data"
    }
   ],
   "source": [
    "_ = evaluator.plot_log_likelihoods(xbins=30, ymax=0.6, panelsize=3.0)"
   ]
  },
  {
   "cell_type": "code",
   "execution_count": null,
   "metadata": {},
   "outputs": [],
   "source": []
  }
 ],
 "metadata": {
  "kernelspec": {
   "display_name": "Python (rl)",
   "language": "python",
   "name": "rl"
  },
  "language_info": {
   "codemirror_mode": {
    "name": "ipython",
    "version": 3
   },
   "file_extension": ".py",
   "mimetype": "text/x-python",
   "name": "python",
   "nbconvert_exporter": "python",
   "pygments_lexer": "ipython3",
   "version": "3.7.7"
  }
 },
 "nbformat": 4,
 "nbformat_minor": 4
}
