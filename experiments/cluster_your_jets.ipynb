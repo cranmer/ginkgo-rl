{
 "cells": [
  {
   "cell_type": "markdown",
   "metadata": {},
   "source": [
    "# Using an RL agent to cluster a given set of particles (BYOJ)"
   ]
  },
  {
   "cell_type": "markdown",
   "metadata": {},
   "source": [
    "Johann Brehmer 2020"
   ]
  },
  {
   "cell_type": "markdown",
   "metadata": {},
   "source": [
    "## Preparations"
   ]
  },
  {
   "cell_type": "code",
   "execution_count": 1,
   "metadata": {},
   "outputs": [],
   "source": [
    "import sys\n",
    "import numpy as np\n",
    "import logging\n",
    "import torch\n",
    "\n",
    "sys.path.append(\"../\")\n",
    "from ginkgo_rl import GinkgoRLInterface, PolicyMCTSAgent"
   ]
  },
  {
   "cell_type": "markdown",
   "metadata": {},
   "source": [
    "Let's read INFO-level output from the RL agent, but silence a few other libraries that like to produce lots of logging output. To check what's happening in more detail, use `logging.DEBUG` instead."
   ]
  },
  {
   "cell_type": "code",
   "execution_count": 2,
   "metadata": {},
   "outputs": [],
   "source": [
    "logger = logging.getLogger(\"We\")\n",
    "logging.basicConfig(format=\"%(asctime)s %(levelname).1s: %(message)s\", datefmt=\"%y-%m-%d %H:%M\")\n",
    "\n",
    "silence_list = [\"matplotlib\", \"showerSim\", \"hierarchical-trellis\"]\n",
    "for key in logging.Logger.manager.loggerDict:\n",
    "    logging.getLogger(key).setLevel(logging.INFO)\n",
    "    for check_key in silence_list:\n",
    "        if check_key in key:\n",
    "            logging.getLogger(key).setLevel(logging.ERROR)\n",
    "            break\n",
    "            "
   ]
  },
  {
   "cell_type": "markdown",
   "metadata": {},
   "source": [
    "## Set up GinkgoRLInterface instance"
   ]
  },
  {
   "cell_type": "markdown",
   "metadata": {},
   "source": [
    "First, let's specify the setup for the environment and the agent. Note that these have to matched the setup in which the agent was trained.\n",
    "\n",
    "I'm working on documentation..."
   ]
  },
  {
   "cell_type": "code",
   "execution_count": 3,
   "metadata": {},
   "outputs": [],
   "source": [
    "settings = {\n",
    "    \"n_max\": 20,\n",
    "    \"n_min\": 2,\n",
    "    \"w_jet\": True,\n",
    "    \"w_rate\": 3.0,\n",
    "    \"qcd_rate\": 1.5,\n",
    "    \"pt_min\": 4.0**2,\n",
    "    \"qcd_mass\": 30.0,\n",
    "    \"w_mass\": 80.0,\n",
    "    \"jet_momentum\": 400.0,\n",
    "    \"jetdir\": (1, 1, 1),\n",
    "    \"beamsize\": 20,\n",
    "    \"n_mc_target\": 2,\n",
    "    \"n_mc_max\": 50,\n",
    "    \"device\": torch.device(\"cpu\"),\n",
    "}"
   ]
  },
  {
   "cell_type": "markdown",
   "metadata": {},
   "source": [
    "Path to the state dictionary of the RL agent."
   ]
  },
  {
   "cell_type": "code",
   "execution_count": 4,
   "metadata": {},
   "outputs": [],
   "source": [
    "state_dict_filename = \"./data/runs/mcts_nn_m_20200930_092039_1010/model.pty\""
   ]
  },
  {
   "cell_type": "markdown",
   "metadata": {},
   "source": [
    "And finally..."
   ]
  },
  {
   "cell_type": "code",
   "execution_count": 5,
   "metadata": {},
   "outputs": [],
   "source": [
    "grl = GinkgoRLInterface(state_dict_filename, **settings)"
   ]
  },
  {
   "cell_type": "markdown",
   "metadata": {},
   "source": [
    "## If you don't have a jet, make one"
   ]
  },
  {
   "cell_type": "markdown",
   "metadata": {},
   "source": [
    "The whole point of this interface is applying the RL agent to any tree of your choice. However, for convenience (and cross-checks), the `GinkgoRLInterface` class also provides a `generate` function that allows you to generate Ginkgo jets with the settings used."
   ]
  },
  {
   "cell_type": "code",
   "execution_count": 6,
   "metadata": {},
   "outputs": [
    {
     "name": "stderr",
     "output_type": "stream",
     "text": [
      "20-12-15 12:56 I: Generating 3 jets\n",
      "20-12-15 12:56 I: Done\n"
     ]
    }
   ],
   "source": [
    "jets = grl.generate(n=3)"
   ]
  },
  {
   "cell_type": "markdown",
   "metadata": {},
   "source": [
    "## Run clustering"
   ]
  },
  {
   "cell_type": "markdown",
   "metadata": {},
   "source": [
    "`GinkgoRLInterface.cluster` is the main function to let the MCTS agent cluster the jets in a jet dictionary. These can be provided as a `dict` object (like we do here) or through the path of a pickled file.\n",
    "\n",
    "The function returns:\n",
    "- the clustered jets (as a list of dict objects in the usual Ginkgo style)\n",
    "- the overall log likelihoods of all reclustered jets\n",
    "- the number of illegal actions that the RL algorithm picked (hopefully just zeros)\n",
    "- the computational cost for each jet, measured as the number of evaluations of the splitting likelihood function\n",
    "\n",
    "If the keyword `filename` is used, the reclustered jets are also pickled to a file."
   ]
  },
  {
   "cell_type": "code",
   "execution_count": 7,
   "metadata": {},
   "outputs": [
    {
     "name": "stderr",
     "output_type": "stream",
     "text": [
      "20-12-15 12:56 I: Clustering 3 jets\n",
      "100%|██████████| 3/3 [02:00<00:00, 40.07s/it]\n",
      "20-12-15 12:58 I: Saving clustered jets at reclustered_jets.pickle\n",
      "20-12-15 12:58 I: Done\n"
     ]
    }
   ],
   "source": [
    "clustered_jets, log_likelihoods, illegal_actions, costs = grl.cluster(jets, filename=\"reclustered_jets.pickle\")"
   ]
  },
  {
   "cell_type": "markdown",
   "metadata": {},
   "source": [
    "## Visualize results"
   ]
  },
  {
   "cell_type": "markdown",
   "metadata": {},
   "source": [
    "Let's visualize the true and clustered tree using Sebastian's code (make sure that the Ginkgo folder is in the PYTHONPATH)."
   ]
  },
  {
   "cell_type": "code",
   "execution_count": 8,
   "metadata": {},
   "outputs": [],
   "source": [
    "from scripts import Tree1D_invM as Tree1D\n",
    "\n",
    "def visualize(jet_top, jet_bottom, label_top=\"Truth\", label_bottom=\"MCTS\"):\n",
    "    jet_top[\"node_id\"] = jet_top[\"root_id\"]\n",
    "    jet_bottom[\"node_id\"] = jet_bottom[\"root_id\"]\n",
    "    \n",
    "    tree1, tree2 = Tree1D.visualizeTreePair(\n",
    "        jet_top,\n",
    "        jet_bottom,\n",
    "        truthOrder=True, \n",
    "        label=True,\n",
    "        figFormat=\"jpg\",\n",
    "    )\n",
    "    tree1.attr(\n",
    "        rankdir='TB',\n",
    "        size=\"10\",\n",
    "        margin='0',\n",
    "        ratio=\"0.5\",\n",
    "        nodesep=\"0.01\",\n",
    "        label=label_top,\n",
    "        labelloc='t',\n",
    "        fontsize=\"36\"\n",
    "    )\n",
    "    tree2.attr(\n",
    "        rankdir='BT',\n",
    "        size=\"10\",\n",
    "        margin='0',\n",
    "        ratio=\"0.5\",\n",
    "        nodesep=\"0.01\",\n",
    "        label=label_bottom,\n",
    "        labelloc='b',\n",
    "        fontsize=\"36\"\n",
    "    )\n",
    "\n",
    "    display(tree1)\n",
    "    display(tree2)\n"
   ]
  },
  {
   "cell_type": "code",
   "execution_count": 11,
   "metadata": {},
   "outputs": [
    {
     "name": "stderr",
     "output_type": "stream",
     "text": [
      "Warning: node '12', graph '%3' size too small for label\n"
     ]
    },
    {
     "data": {
      "image/svg+xml": [
       "<?xml version=\"1.0\" encoding=\"UTF-8\" standalone=\"no\"?>\n",
       "<!DOCTYPE svg PUBLIC \"-//W3C//DTD SVG 1.1//EN\"\n",
       " \"http://www.w3.org/Graphics/SVG/1.1/DTD/svg11.dtd\">\n",
       "<!-- Generated by graphviz version 2.44.1 (20200629.0846)\n",
       " -->\n",
       "<!-- Pages: 1 -->\n",
       "<svg width=\"720pt\" height=\"393pt\"\n",
       " viewBox=\"0.00 0.00 720.00 393.07\" xmlns=\"http://www.w3.org/2000/svg\" xmlns:xlink=\"http://www.w3.org/1999/xlink\">\n",
       "<g id=\"graph0\" class=\"graph\" transform=\"scale(0.64 0.64) rotate(0) translate(4 614)\">\n",
       "<polygon fill=\"white\" stroke=\"transparent\" points=\"-4,4 -4,-614 1128,-614 1128,4 -4,4\"/>\n",
       "<text text-anchor=\"middle\" x=\"562\" y=\"-577.2\" font-family=\"Times,serif\" font-size=\"36.00\">Truth</text>\n",
       "<!-- 0 -->\n",
       "<g id=\"node1\" class=\"node\">\n",
       "<title>0</title>\n",
       "<ellipse fill=\"wheat\" stroke=\"wheat\" cx=\"544.19\" cy=\"-517\" rx=\"45\" ry=\"45\"/>\n",
       "<text text-anchor=\"middle\" x=\"544.19\" y=\"-523\" font-family=\"Times,serif\" font-size=\"20.00\">pT:326.6</text>\n",
       "<text text-anchor=\"middle\" x=\"544.19\" y=\"-501\" font-family=\"Times,serif\" font-size=\"20.00\"> m:80.00 </text>\n",
       "</g>\n",
       "<!-- 1 -->\n",
       "<g id=\"node2\" class=\"node\">\n",
       "<title>1</title>\n",
       "<ellipse fill=\"wheat\" stroke=\"wheat\" cx=\"458.19\" cy=\"-265\" rx=\"45\" ry=\"45\"/>\n",
       "<text text-anchor=\"middle\" x=\"458.19\" y=\"-271\" font-family=\"Times,serif\" font-size=\"20.00\">pT:45.7</text>\n",
       "<text text-anchor=\"middle\" x=\"458.19\" y=\"-249\" font-family=\"Times,serif\" font-size=\"20.00\"> m:27.91 </text>\n",
       "</g>\n",
       "<!-- 0&#45;&gt;1 -->\n",
       "<g id=\"edge1\" class=\"edge\">\n",
       "<title>0&#45;&gt;1</title>\n",
       "<path fill=\"none\" stroke=\"black\" d=\"M529.8,-474.16C514.05,-428.37 488.92,-355.34 473.01,-309.07\"/>\n",
       "<polygon fill=\"black\" stroke=\"black\" points=\"473.29,-308.81 472.63,-307.98 472.63,-309.04 473.29,-308.81\"/>\n",
       "</g>\n",
       "<!-- 8 -->\n",
       "<g id=\"node9\" class=\"node\">\n",
       "<title>8</title>\n",
       "<ellipse fill=\"wheat\" stroke=\"wheat\" cx=\"632.19\" cy=\"-391\" rx=\"45\" ry=\"45\"/>\n",
       "<text text-anchor=\"middle\" x=\"632.19\" y=\"-397\" font-family=\"Times,serif\" font-size=\"20.00\">pT:280.9</text>\n",
       "<text text-anchor=\"middle\" x=\"632.19\" y=\"-375\" font-family=\"Times,serif\" font-size=\"20.00\"> m:10.90 </text>\n",
       "</g>\n",
       "<!-- 0&#45;&gt;8 -->\n",
       "<g id=\"edge8\" class=\"edge\">\n",
       "<title>0&#45;&gt;8</title>\n",
       "<path fill=\"none\" stroke=\"black\" d=\"M569.88,-479.8C581.18,-463.88 594.43,-445.21 605.81,-429.18\"/>\n",
       "<polygon fill=\"black\" stroke=\"black\" points=\"606.33,-429.05 606.62,-428.03 605.76,-428.64 606.33,-429.05\"/>\n",
       "</g>\n",
       "<!-- 2 -->\n",
       "<g id=\"node3\" class=\"node\">\n",
       "<title>2</title>\n",
       "<ellipse fill=\"wheat\" stroke=\"wheat\" cx=\"210.19\" cy=\"-139\" rx=\"45\" ry=\"45\"/>\n",
       "<text text-anchor=\"middle\" x=\"210.19\" y=\"-145\" font-family=\"Times,serif\" font-size=\"20.00\">pT:38.8</text>\n",
       "<text text-anchor=\"middle\" x=\"210.19\" y=\"-123\" font-family=\"Times,serif\" font-size=\"20.00\"> m:8.53 </text>\n",
       "</g>\n",
       "<!-- 1&#45;&gt;2 -->\n",
       "<g id=\"edge2\" class=\"edge\">\n",
       "<title>1&#45;&gt;2</title>\n",
       "<path fill=\"none\" stroke=\"black\" d=\"M418.35,-244.08C372.56,-221.19 297.8,-183.81 251.44,-160.62\"/>\n",
       "<polygon fill=\"black\" stroke=\"black\" points=\"251.4,-160.21 250.35,-160.08 251.09,-160.84 251.4,-160.21\"/>\n",
       "</g>\n",
       "<!-- 5 -->\n",
       "<g id=\"node6\" class=\"node\">\n",
       "<title>5</title>\n",
       "<ellipse fill=\"wheat\" stroke=\"wheat\" cx=\"458.19\" cy=\"-139\" rx=\"45\" ry=\"45\"/>\n",
       "<text text-anchor=\"middle\" x=\"458.19\" y=\"-145\" font-family=\"Times,serif\" font-size=\"20.00\">pT:10.6</text>\n",
       "<text text-anchor=\"middle\" x=\"458.19\" y=\"-123\" font-family=\"Times,serif\" font-size=\"20.00\"> m:7.58 </text>\n",
       "</g>\n",
       "<!-- 1&#45;&gt;5 -->\n",
       "<g id=\"edge5\" class=\"edge\">\n",
       "<title>1&#45;&gt;5</title>\n",
       "<path fill=\"none\" stroke=\"black\" d=\"M458.19,-219.93C458.19,-208.74 458.19,-196.69 458.19,-185.43\"/>\n",
       "<polygon fill=\"black\" stroke=\"black\" points=\"458.54,-185.34 458.19,-184.34 457.84,-185.34 458.54,-185.34\"/>\n",
       "</g>\n",
       "<!-- 3 -->\n",
       "<g id=\"node4\" class=\"node\">\n",
       "<title>3</title>\n",
       "<ellipse fill=\"lightblue\" stroke=\"lightblue\" cx=\"69.19\" cy=\"-29\" rx=\"29\" ry=\"29\"/>\n",
       "<text text-anchor=\"middle\" x=\"69.19\" y=\"-34.4\" font-family=\"Times,serif\" font-size=\"17.00\">pT:8.8</text>\n",
       "<text text-anchor=\"middle\" x=\"69.19\" y=\"-15.4\" font-family=\"Times,serif\" font-size=\"17.00\"> m:3.85 </text>\n",
       "</g>\n",
       "<!-- 2&#45;&gt;3 -->\n",
       "<g id=\"edge3\" class=\"edge\">\n",
       "<title>2&#45;&gt;3</title>\n",
       "<path fill=\"none\" stroke=\"black\" d=\"M174.61,-110.75C149.07,-91.19 115.36,-65.36 93.01,-48.24\"/>\n",
       "<polygon fill=\"black\" stroke=\"black\" points=\"92.96,-47.76 91.95,-47.43 92.53,-48.32 92.96,-47.76\"/>\n",
       "</g>\n",
       "<!-- 4 -->\n",
       "<g id=\"node5\" class=\"node\">\n",
       "<title>4</title>\n",
       "<ellipse fill=\"lightblue\" stroke=\"lightblue\" cx=\"210.19\" cy=\"-29\" rx=\"29\" ry=\"29\"/>\n",
       "<text text-anchor=\"middle\" x=\"210.19\" y=\"-34.4\" font-family=\"Times,serif\" font-size=\"17.00\">pT:30.1</text>\n",
       "<text text-anchor=\"middle\" x=\"210.19\" y=\"-15.4\" font-family=\"Times,serif\" font-size=\"17.00\"> m:1.21 </text>\n",
       "</g>\n",
       "<!-- 2&#45;&gt;4 -->\n",
       "<g id=\"edge4\" class=\"edge\">\n",
       "<title>2&#45;&gt;4</title>\n",
       "<path fill=\"none\" stroke=\"black\" d=\"M210.19,-93.76C210.19,-82.14 210.19,-69.89 210.19,-59.27\"/>\n",
       "<polygon fill=\"black\" stroke=\"black\" points=\"210.54,-59.24 210.19,-58.24 209.84,-59.24 210.54,-59.24\"/>\n",
       "</g>\n",
       "<!-- 3&#45;&gt;4 -->\n",
       "<!-- 6 -->\n",
       "<g id=\"node7\" class=\"node\">\n",
       "<title>6</title>\n",
       "<ellipse fill=\"lightblue\" stroke=\"lightblue\" cx=\"351.19\" cy=\"-29\" rx=\"29\" ry=\"29\"/>\n",
       "<text text-anchor=\"middle\" x=\"351.19\" y=\"-34.4\" font-family=\"Times,serif\" font-size=\"17.00\">pT:2.0</text>\n",
       "<text text-anchor=\"middle\" x=\"351.19\" y=\"-15.4\" font-family=\"Times,serif\" font-size=\"17.00\"> m:2.73 </text>\n",
       "</g>\n",
       "<!-- 4&#45;&gt;6 -->\n",
       "<!-- 5&#45;&gt;6 -->\n",
       "<g id=\"edge6\" class=\"edge\">\n",
       "<title>5&#45;&gt;6</title>\n",
       "<path fill=\"none\" stroke=\"black\" d=\"M426.95,-106.47C409.22,-88.58 387.52,-66.67 371.9,-50.9\"/>\n",
       "<polygon fill=\"black\" stroke=\"black\" points=\"372.11,-50.62 371.16,-50.15 371.61,-51.11 372.11,-50.62\"/>\n",
       "</g>\n",
       "<!-- 7 -->\n",
       "<g id=\"node8\" class=\"node\">\n",
       "<title>7</title>\n",
       "<ellipse fill=\"lightblue\" stroke=\"lightblue\" cx=\"491.19\" cy=\"-29\" rx=\"29\" ry=\"29\"/>\n",
       "<text text-anchor=\"middle\" x=\"491.19\" y=\"-34.4\" font-family=\"Times,serif\" font-size=\"17.00\">pT:8.6</text>\n",
       "<text text-anchor=\"middle\" x=\"491.19\" y=\"-15.4\" font-family=\"Times,serif\" font-size=\"17.00\"> m:2.73 </text>\n",
       "</g>\n",
       "<!-- 5&#45;&gt;7 -->\n",
       "<g id=\"edge7\" class=\"edge\">\n",
       "<title>5&#45;&gt;7</title>\n",
       "<path fill=\"none\" stroke=\"black\" d=\"M471.14,-95.63C474.99,-83.03 479.11,-69.55 482.6,-58.1\"/>\n",
       "<polygon fill=\"black\" stroke=\"black\" points=\"482.98,-58.06 482.94,-57 482.31,-57.86 482.98,-58.06\"/>\n",
       "</g>\n",
       "<!-- 6&#45;&gt;7 -->\n",
       "<!-- 9 -->\n",
       "<g id=\"node10\" class=\"node\">\n",
       "<title>9</title>\n",
       "<ellipse fill=\"lightblue\" stroke=\"lightblue\" cx=\"632.19\" cy=\"-29\" rx=\"29\" ry=\"29\"/>\n",
       "<text text-anchor=\"middle\" x=\"632.19\" y=\"-34.4\" font-family=\"Times,serif\" font-size=\"17.00\">pT:82.2</text>\n",
       "<text text-anchor=\"middle\" x=\"632.19\" y=\"-15.4\" font-family=\"Times,serif\" font-size=\"17.00\"> m:2.98 </text>\n",
       "</g>\n",
       "<!-- 7&#45;&gt;9 -->\n",
       "<!-- 8&#45;&gt;9 -->\n",
       "<g id=\"edge9\" class=\"edge\">\n",
       "<title>8&#45;&gt;9</title>\n",
       "<path fill=\"none\" stroke=\"black\" d=\"M632.19,-345.86C632.19,-271.38 632.19,-122.72 632.19,-59.53\"/>\n",
       "<polygon fill=\"black\" stroke=\"black\" points=\"632.54,-59.42 632.19,-58.42 631.84,-59.42 632.54,-59.42\"/>\n",
       "</g>\n",
       "<!-- 10 -->\n",
       "<g id=\"node11\" class=\"node\">\n",
       "<title>10</title>\n",
       "<ellipse fill=\"wheat\" stroke=\"wheat\" cx=\"816.19\" cy=\"-265\" rx=\"45\" ry=\"45\"/>\n",
       "<text text-anchor=\"middle\" x=\"816.19\" y=\"-271\" font-family=\"Times,serif\" font-size=\"20.00\">pT:198.7</text>\n",
       "<text text-anchor=\"middle\" x=\"816.19\" y=\"-249\" font-family=\"Times,serif\" font-size=\"20.00\"> m:7.57 </text>\n",
       "</g>\n",
       "<!-- 8&#45;&gt;10 -->\n",
       "<g id=\"edge10\" class=\"edge\">\n",
       "<title>8&#45;&gt;10</title>\n",
       "<path fill=\"none\" stroke=\"black\" d=\"M669.43,-364.91C701.08,-343.58 746.33,-313.08 778.2,-291.6\"/>\n",
       "<polygon fill=\"black\" stroke=\"black\" points=\"778.69,-291.69 779.33,-290.84 778.3,-291.11 778.69,-291.69\"/>\n",
       "</g>\n",
       "<!-- 12 -->\n",
       "<g id=\"node13\" class=\"node\">\n",
       "<title>12</title>\n",
       "<ellipse fill=\"lightblue\" stroke=\"lightblue\" cx=\"773.19\" cy=\"-29\" rx=\"29\" ry=\"29\"/>\n",
       "<text text-anchor=\"middle\" x=\"773.19\" y=\"-34.4\" font-family=\"Times,serif\" font-size=\"17.00\">pT:101.3</text>\n",
       "<text text-anchor=\"middle\" x=\"773.19\" y=\"-15.4\" font-family=\"Times,serif\" font-size=\"17.00\"> m:2.36 </text>\n",
       "</g>\n",
       "<!-- 9&#45;&gt;12 -->\n",
       "<!-- 11 -->\n",
       "<g id=\"node12\" class=\"node\">\n",
       "<title>11</title>\n",
       "<ellipse fill=\"wheat\" stroke=\"wheat\" cx=\"816.19\" cy=\"-139\" rx=\"45\" ry=\"45\"/>\n",
       "<text text-anchor=\"middle\" x=\"816.19\" y=\"-145\" font-family=\"Times,serif\" font-size=\"20.00\">pT:169.3</text>\n",
       "<text text-anchor=\"middle\" x=\"816.19\" y=\"-123\" font-family=\"Times,serif\" font-size=\"20.00\"> m:6.74 </text>\n",
       "</g>\n",
       "<!-- 10&#45;&gt;11 -->\n",
       "<g id=\"edge11\" class=\"edge\">\n",
       "<title>10&#45;&gt;11</title>\n",
       "<path fill=\"none\" stroke=\"black\" d=\"M816.19,-219.93C816.19,-208.74 816.19,-196.69 816.19,-185.43\"/>\n",
       "<polygon fill=\"black\" stroke=\"black\" points=\"816.54,-185.34 816.19,-184.34 815.84,-185.34 816.54,-185.34\"/>\n",
       "</g>\n",
       "<!-- 14 -->\n",
       "<g id=\"node15\" class=\"node\">\n",
       "<title>14</title>\n",
       "<ellipse fill=\"lightblue\" stroke=\"lightblue\" cx=\"1055.19\" cy=\"-29\" rx=\"29\" ry=\"29\"/>\n",
       "<text text-anchor=\"middle\" x=\"1055.19\" y=\"-34.4\" font-family=\"Times,serif\" font-size=\"17.00\">pT:29.4</text>\n",
       "<text text-anchor=\"middle\" x=\"1055.19\" y=\"-15.4\" font-family=\"Times,serif\" font-size=\"17.00\"> m:0.27 </text>\n",
       "</g>\n",
       "<!-- 10&#45;&gt;14 -->\n",
       "<g id=\"edge14\" class=\"edge\">\n",
       "<title>10&#45;&gt;14</title>\n",
       "<path fill=\"none\" stroke=\"black\" d=\"M847.93,-232.93C897.44,-184.45 991.75,-92.11 1033.91,-50.84\"/>\n",
       "<polygon fill=\"black\" stroke=\"black\" points=\"1034.42,-50.82 1034.89,-49.87 1033.93,-50.32 1034.42,-50.82\"/>\n",
       "</g>\n",
       "<!-- 11&#45;&gt;12 -->\n",
       "<g id=\"edge12\" class=\"edge\">\n",
       "<title>11&#45;&gt;12</title>\n",
       "<path fill=\"none\" stroke=\"black\" d=\"M799.81,-96.86C794.57,-83.7 788.9,-69.45 784.14,-57.5\"/>\n",
       "<polygon fill=\"black\" stroke=\"black\" points=\"784.38,-57.15 783.68,-56.35 783.73,-57.41 784.38,-57.15\"/>\n",
       "</g>\n",
       "<!-- 13 -->\n",
       "<g id=\"node14\" class=\"node\">\n",
       "<title>13</title>\n",
       "<ellipse fill=\"lightblue\" stroke=\"lightblue\" cx=\"914.19\" cy=\"-29\" rx=\"29\" ry=\"29\"/>\n",
       "<text text-anchor=\"middle\" x=\"914.19\" y=\"-34.4\" font-family=\"Times,serif\" font-size=\"17.00\">pT:68.0</text>\n",
       "<text text-anchor=\"middle\" x=\"914.19\" y=\"-15.4\" font-family=\"Times,serif\" font-size=\"17.00\"> m:3.67 </text>\n",
       "</g>\n",
       "<!-- 11&#45;&gt;13 -->\n",
       "<g id=\"edge13\" class=\"edge\">\n",
       "<title>11&#45;&gt;13</title>\n",
       "<path fill=\"none\" stroke=\"black\" d=\"M846.13,-105.01C861.63,-87.93 880.15,-67.52 893.95,-52.31\"/>\n",
       "<polygon fill=\"black\" stroke=\"black\" points=\"894.52,-52.2 894.94,-51.22 894,-51.73 894.52,-52.2\"/>\n",
       "</g>\n",
       "<!-- 12&#45;&gt;13 -->\n",
       "<!-- 13&#45;&gt;14 -->\n",
       "</g>\n",
       "</svg>\n"
      ],
      "text/plain": [
       "<graphviz.dot.Digraph at 0x7fcfa71d3310>"
      ]
     },
     "metadata": {},
     "output_type": "display_data"
    },
    {
     "name": "stderr",
     "output_type": "stream",
     "text": [
      "Warning: node '5', graph '%3' size too small for label\n"
     ]
    },
    {
     "data": {
      "image/svg+xml": [
       "<?xml version=\"1.0\" encoding=\"UTF-8\" standalone=\"no\"?>\n",
       "<!DOCTYPE svg PUBLIC \"-//W3C//DTD SVG 1.1//EN\"\n",
       " \"http://www.w3.org/Graphics/SVG/1.1/DTD/svg11.dtd\">\n",
       "<!-- Generated by graphviz version 2.44.1 (20200629.0846)\n",
       " -->\n",
       "<!-- Pages: 1 -->\n",
       "<svg width=\"720pt\" height=\"393pt\"\n",
       " viewBox=\"0.00 0.00 720.00 393.07\" xmlns=\"http://www.w3.org/2000/svg\" xmlns:xlink=\"http://www.w3.org/1999/xlink\">\n",
       "<g id=\"graph0\" class=\"graph\" transform=\"scale(0.64 0.64) rotate(0) translate(4 614)\">\n",
       "<polygon fill=\"white\" stroke=\"transparent\" points=\"-4,4 -4,-614 1128,-614 1128,4 -4,4\"/>\n",
       "<text text-anchor=\"middle\" x=\"562\" y=\"-15.2\" font-family=\"Times,serif\" font-size=\"36.00\">MCTS</text>\n",
       "<!-- 14 -->\n",
       "<g id=\"node1\" class=\"node\">\n",
       "<title>14</title>\n",
       "<ellipse fill=\"wheat\" stroke=\"wheat\" cx=\"544.19\" cy=\"-93\" rx=\"45\" ry=\"45\"/>\n",
       "<text text-anchor=\"middle\" x=\"544.19\" y=\"-99\" font-family=\"Times,serif\" font-size=\"20.00\">pT:326.6</text>\n",
       "<text text-anchor=\"middle\" x=\"544.19\" y=\"-77\" font-family=\"Times,serif\" font-size=\"20.00\"> m:80.00 </text>\n",
       "</g>\n",
       "<!-- 13 -->\n",
       "<g id=\"node2\" class=\"node\">\n",
       "<title>13</title>\n",
       "<ellipse fill=\"wheat\" stroke=\"wheat\" cx=\"458.19\" cy=\"-345\" rx=\"45\" ry=\"45\"/>\n",
       "<text text-anchor=\"middle\" x=\"458.19\" y=\"-351\" font-family=\"Times,serif\" font-size=\"20.00\">pT:45.7</text>\n",
       "<text text-anchor=\"middle\" x=\"458.19\" y=\"-329\" font-family=\"Times,serif\" font-size=\"20.00\"> m:27.91 </text>\n",
       "</g>\n",
       "<!-- 14&#45;&gt;13 -->\n",
       "<g id=\"edge1\" class=\"edge\">\n",
       "<title>14&#45;&gt;13</title>\n",
       "<path fill=\"none\" stroke=\"black\" d=\"M529.8,-135.84C514.05,-181.63 488.92,-254.66 473.01,-300.93\"/>\n",
       "<polygon fill=\"black\" stroke=\"black\" points=\"472.63,-300.96 472.63,-302.02 473.29,-301.19 472.63,-300.96\"/>\n",
       "</g>\n",
       "<!-- 10 -->\n",
       "<g id=\"node9\" class=\"node\">\n",
       "<title>10</title>\n",
       "<ellipse fill=\"wheat\" stroke=\"wheat\" cx=\"632.19\" cy=\"-219\" rx=\"45\" ry=\"45\"/>\n",
       "<text text-anchor=\"middle\" x=\"632.19\" y=\"-225\" font-family=\"Times,serif\" font-size=\"20.00\">pT:280.9</text>\n",
       "<text text-anchor=\"middle\" x=\"632.19\" y=\"-203\" font-family=\"Times,serif\" font-size=\"20.00\"> m:10.90 </text>\n",
       "</g>\n",
       "<!-- 14&#45;&gt;10 -->\n",
       "<g id=\"edge8\" class=\"edge\">\n",
       "<title>14&#45;&gt;10</title>\n",
       "<path fill=\"none\" stroke=\"black\" d=\"M569.88,-130.2C581.18,-146.12 594.43,-164.79 605.81,-180.82\"/>\n",
       "<polygon fill=\"black\" stroke=\"black\" points=\"605.76,-181.36 606.62,-181.97 606.33,-180.95 605.76,-181.36\"/>\n",
       "</g>\n",
       "<!-- 12 -->\n",
       "<g id=\"node3\" class=\"node\">\n",
       "<title>12</title>\n",
       "<ellipse fill=\"wheat\" stroke=\"wheat\" cx=\"210.19\" cy=\"-471\" rx=\"45\" ry=\"45\"/>\n",
       "<text text-anchor=\"middle\" x=\"210.19\" y=\"-477\" font-family=\"Times,serif\" font-size=\"20.00\">pT:10.6</text>\n",
       "<text text-anchor=\"middle\" x=\"210.19\" y=\"-455\" font-family=\"Times,serif\" font-size=\"20.00\"> m:7.58 </text>\n",
       "</g>\n",
       "<!-- 13&#45;&gt;12 -->\n",
       "<g id=\"edge2\" class=\"edge\">\n",
       "<title>13&#45;&gt;12</title>\n",
       "<path fill=\"none\" stroke=\"black\" d=\"M418.35,-365.92C372.56,-388.81 297.8,-426.19 251.44,-449.38\"/>\n",
       "<polygon fill=\"black\" stroke=\"black\" points=\"251.09,-449.16 250.35,-449.92 251.4,-449.79 251.09,-449.16\"/>\n",
       "</g>\n",
       "<!-- 11 -->\n",
       "<g id=\"node6\" class=\"node\">\n",
       "<title>11</title>\n",
       "<ellipse fill=\"wheat\" stroke=\"wheat\" cx=\"458.19\" cy=\"-471\" rx=\"45\" ry=\"45\"/>\n",
       "<text text-anchor=\"middle\" x=\"458.19\" y=\"-477\" font-family=\"Times,serif\" font-size=\"20.00\">pT:38.8</text>\n",
       "<text text-anchor=\"middle\" x=\"458.19\" y=\"-455\" font-family=\"Times,serif\" font-size=\"20.00\"> m:8.53 </text>\n",
       "</g>\n",
       "<!-- 13&#45;&gt;11 -->\n",
       "<g id=\"edge5\" class=\"edge\">\n",
       "<title>13&#45;&gt;11</title>\n",
       "<path fill=\"none\" stroke=\"black\" d=\"M458.19,-390.07C458.19,-401.26 458.19,-413.31 458.19,-424.57\"/>\n",
       "<polygon fill=\"black\" stroke=\"black\" points=\"457.84,-424.66 458.19,-425.66 458.54,-424.66 457.84,-424.66\"/>\n",
       "</g>\n",
       "<!-- 2 -->\n",
       "<g id=\"node4\" class=\"node\">\n",
       "<title>2</title>\n",
       "<ellipse fill=\"lightblue\" stroke=\"lightblue\" cx=\"69.19\" cy=\"-581\" rx=\"29\" ry=\"29\"/>\n",
       "<text text-anchor=\"middle\" x=\"69.19\" y=\"-586.4\" font-family=\"Times,serif\" font-size=\"17.00\">pT:2.0</text>\n",
       "<text text-anchor=\"middle\" x=\"69.19\" y=\"-567.4\" font-family=\"Times,serif\" font-size=\"17.00\"> m:2.73 </text>\n",
       "</g>\n",
       "<!-- 12&#45;&gt;2 -->\n",
       "<g id=\"edge3\" class=\"edge\">\n",
       "<title>12&#45;&gt;2</title>\n",
       "<path fill=\"none\" stroke=\"black\" d=\"M174.61,-499.25C149.07,-518.81 115.36,-544.64 93.01,-561.76\"/>\n",
       "<polygon fill=\"black\" stroke=\"black\" points=\"92.53,-561.68 91.95,-562.57 92.96,-562.24 92.53,-561.68\"/>\n",
       "</g>\n",
       "<!-- 3 -->\n",
       "<g id=\"node5\" class=\"node\">\n",
       "<title>3</title>\n",
       "<ellipse fill=\"lightblue\" stroke=\"lightblue\" cx=\"210.19\" cy=\"-581\" rx=\"29\" ry=\"29\"/>\n",
       "<text text-anchor=\"middle\" x=\"210.19\" y=\"-586.4\" font-family=\"Times,serif\" font-size=\"17.00\">pT:8.6</text>\n",
       "<text text-anchor=\"middle\" x=\"210.19\" y=\"-567.4\" font-family=\"Times,serif\" font-size=\"17.00\"> m:2.73 </text>\n",
       "</g>\n",
       "<!-- 12&#45;&gt;3 -->\n",
       "<g id=\"edge4\" class=\"edge\">\n",
       "<title>12&#45;&gt;3</title>\n",
       "<path fill=\"none\" stroke=\"black\" d=\"M210.19,-516.24C210.19,-527.86 210.19,-540.11 210.19,-550.73\"/>\n",
       "<polygon fill=\"black\" stroke=\"black\" points=\"209.84,-550.76 210.19,-551.76 210.54,-550.76 209.84,-550.76\"/>\n",
       "</g>\n",
       "<!-- 2&#45;&gt;3 -->\n",
       "<!-- 0 -->\n",
       "<g id=\"node7\" class=\"node\">\n",
       "<title>0</title>\n",
       "<ellipse fill=\"lightblue\" stroke=\"lightblue\" cx=\"351.19\" cy=\"-581\" rx=\"29\" ry=\"29\"/>\n",
       "<text text-anchor=\"middle\" x=\"351.19\" y=\"-586.4\" font-family=\"Times,serif\" font-size=\"17.00\">pT:8.8</text>\n",
       "<text text-anchor=\"middle\" x=\"351.19\" y=\"-567.4\" font-family=\"Times,serif\" font-size=\"17.00\"> m:3.85 </text>\n",
       "</g>\n",
       "<!-- 3&#45;&gt;0 -->\n",
       "<!-- 11&#45;&gt;0 -->\n",
       "<g id=\"edge6\" class=\"edge\">\n",
       "<title>11&#45;&gt;0</title>\n",
       "<path fill=\"none\" stroke=\"black\" d=\"M426.95,-503.53C409.22,-521.42 387.52,-543.33 371.9,-559.1\"/>\n",
       "<polygon fill=\"black\" stroke=\"black\" points=\"371.61,-558.89 371.16,-559.85 372.11,-559.38 371.61,-558.89\"/>\n",
       "</g>\n",
       "<!-- 1 -->\n",
       "<g id=\"node8\" class=\"node\">\n",
       "<title>1</title>\n",
       "<ellipse fill=\"lightblue\" stroke=\"lightblue\" cx=\"491.19\" cy=\"-581\" rx=\"29\" ry=\"29\"/>\n",
       "<text text-anchor=\"middle\" x=\"491.19\" y=\"-586.4\" font-family=\"Times,serif\" font-size=\"17.00\">pT:30.1</text>\n",
       "<text text-anchor=\"middle\" x=\"491.19\" y=\"-567.4\" font-family=\"Times,serif\" font-size=\"17.00\"> m:1.21 </text>\n",
       "</g>\n",
       "<!-- 11&#45;&gt;1 -->\n",
       "<g id=\"edge7\" class=\"edge\">\n",
       "<title>11&#45;&gt;1</title>\n",
       "<path fill=\"none\" stroke=\"black\" d=\"M471.14,-514.37C474.99,-526.97 479.11,-540.45 482.6,-551.9\"/>\n",
       "<polygon fill=\"black\" stroke=\"black\" points=\"482.31,-552.14 482.94,-553 482.98,-551.94 482.31,-552.14\"/>\n",
       "</g>\n",
       "<!-- 0&#45;&gt;1 -->\n",
       "<!-- 4 -->\n",
       "<g id=\"node10\" class=\"node\">\n",
       "<title>4</title>\n",
       "<ellipse fill=\"lightblue\" stroke=\"lightblue\" cx=\"632.19\" cy=\"-581\" rx=\"29\" ry=\"29\"/>\n",
       "<text text-anchor=\"middle\" x=\"632.19\" y=\"-586.4\" font-family=\"Times,serif\" font-size=\"17.00\">pT:82.2</text>\n",
       "<text text-anchor=\"middle\" x=\"632.19\" y=\"-567.4\" font-family=\"Times,serif\" font-size=\"17.00\"> m:2.98 </text>\n",
       "</g>\n",
       "<!-- 1&#45;&gt;4 -->\n",
       "<!-- 10&#45;&gt;4 -->\n",
       "<g id=\"edge9\" class=\"edge\">\n",
       "<title>10&#45;&gt;4</title>\n",
       "<path fill=\"none\" stroke=\"black\" d=\"M632.19,-264.14C632.19,-338.62 632.19,-487.28 632.19,-550.47\"/>\n",
       "<polygon fill=\"black\" stroke=\"black\" points=\"631.84,-550.58 632.19,-551.58 632.54,-550.58 631.84,-550.58\"/>\n",
       "</g>\n",
       "<!-- 9 -->\n",
       "<g id=\"node11\" class=\"node\">\n",
       "<title>9</title>\n",
       "<ellipse fill=\"wheat\" stroke=\"wheat\" cx=\"816.19\" cy=\"-345\" rx=\"45\" ry=\"45\"/>\n",
       "<text text-anchor=\"middle\" x=\"816.19\" y=\"-351\" font-family=\"Times,serif\" font-size=\"20.00\">pT:198.7</text>\n",
       "<text text-anchor=\"middle\" x=\"816.19\" y=\"-329\" font-family=\"Times,serif\" font-size=\"20.00\"> m:7.57 </text>\n",
       "</g>\n",
       "<!-- 10&#45;&gt;9 -->\n",
       "<g id=\"edge10\" class=\"edge\">\n",
       "<title>10&#45;&gt;9</title>\n",
       "<path fill=\"none\" stroke=\"black\" d=\"M669.43,-245.09C701.08,-266.42 746.33,-296.92 778.2,-318.4\"/>\n",
       "<polygon fill=\"black\" stroke=\"black\" points=\"778.3,-318.89 779.33,-319.16 778.69,-318.31 778.3,-318.89\"/>\n",
       "</g>\n",
       "<!-- 7 -->\n",
       "<g id=\"node13\" class=\"node\">\n",
       "<title>7</title>\n",
       "<ellipse fill=\"lightblue\" stroke=\"lightblue\" cx=\"773.19\" cy=\"-581\" rx=\"29\" ry=\"29\"/>\n",
       "<text text-anchor=\"middle\" x=\"773.19\" y=\"-586.4\" font-family=\"Times,serif\" font-size=\"17.00\">pT:29.4</text>\n",
       "<text text-anchor=\"middle\" x=\"773.19\" y=\"-567.4\" font-family=\"Times,serif\" font-size=\"17.00\"> m:0.27 </text>\n",
       "</g>\n",
       "<!-- 4&#45;&gt;7 -->\n",
       "<!-- 8 -->\n",
       "<g id=\"node12\" class=\"node\">\n",
       "<title>8</title>\n",
       "<ellipse fill=\"wheat\" stroke=\"wheat\" cx=\"816.19\" cy=\"-471\" rx=\"45\" ry=\"45\"/>\n",
       "<text text-anchor=\"middle\" x=\"816.19\" y=\"-477\" font-family=\"Times,serif\" font-size=\"20.00\">pT:97.4</text>\n",
       "<text text-anchor=\"middle\" x=\"816.19\" y=\"-455\" font-family=\"Times,serif\" font-size=\"20.00\"> m:4.53 </text>\n",
       "</g>\n",
       "<!-- 9&#45;&gt;8 -->\n",
       "<g id=\"edge11\" class=\"edge\">\n",
       "<title>9&#45;&gt;8</title>\n",
       "<path fill=\"none\" stroke=\"black\" d=\"M816.19,-390.07C816.19,-401.26 816.19,-413.31 816.19,-424.57\"/>\n",
       "<polygon fill=\"black\" stroke=\"black\" points=\"815.84,-424.66 816.19,-425.66 816.54,-424.66 815.84,-424.66\"/>\n",
       "</g>\n",
       "<!-- 5 -->\n",
       "<g id=\"node15\" class=\"node\">\n",
       "<title>5</title>\n",
       "<ellipse fill=\"lightblue\" stroke=\"lightblue\" cx=\"1055.19\" cy=\"-581\" rx=\"29\" ry=\"29\"/>\n",
       "<text text-anchor=\"middle\" x=\"1055.19\" y=\"-586.4\" font-family=\"Times,serif\" font-size=\"17.00\">pT:101.3</text>\n",
       "<text text-anchor=\"middle\" x=\"1055.19\" y=\"-567.4\" font-family=\"Times,serif\" font-size=\"17.00\"> m:2.36 </text>\n",
       "</g>\n",
       "<!-- 9&#45;&gt;5 -->\n",
       "<g id=\"edge14\" class=\"edge\">\n",
       "<title>9&#45;&gt;5</title>\n",
       "<path fill=\"none\" stroke=\"black\" d=\"M847.93,-377.07C897.44,-425.55 991.75,-517.89 1033.91,-559.16\"/>\n",
       "<polygon fill=\"black\" stroke=\"black\" points=\"1033.93,-559.68 1034.89,-560.13 1034.42,-559.18 1033.93,-559.68\"/>\n",
       "</g>\n",
       "<!-- 8&#45;&gt;7 -->\n",
       "<g id=\"edge12\" class=\"edge\">\n",
       "<title>8&#45;&gt;7</title>\n",
       "<path fill=\"none\" stroke=\"black\" d=\"M799.81,-513.14C794.57,-526.3 788.9,-540.55 784.14,-552.5\"/>\n",
       "<polygon fill=\"black\" stroke=\"black\" points=\"783.73,-552.59 783.68,-553.65 784.38,-552.85 783.73,-552.59\"/>\n",
       "</g>\n",
       "<!-- 6 -->\n",
       "<g id=\"node14\" class=\"node\">\n",
       "<title>6</title>\n",
       "<ellipse fill=\"lightblue\" stroke=\"lightblue\" cx=\"914.19\" cy=\"-581\" rx=\"29\" ry=\"29\"/>\n",
       "<text text-anchor=\"middle\" x=\"914.19\" y=\"-586.4\" font-family=\"Times,serif\" font-size=\"17.00\">pT:68.0</text>\n",
       "<text text-anchor=\"middle\" x=\"914.19\" y=\"-567.4\" font-family=\"Times,serif\" font-size=\"17.00\"> m:3.67 </text>\n",
       "</g>\n",
       "<!-- 8&#45;&gt;6 -->\n",
       "<g id=\"edge13\" class=\"edge\">\n",
       "<title>8&#45;&gt;6</title>\n",
       "<path fill=\"none\" stroke=\"black\" d=\"M846.13,-504.99C861.63,-522.07 880.15,-542.48 893.95,-557.69\"/>\n",
       "<polygon fill=\"black\" stroke=\"black\" points=\"894,-558.27 894.94,-558.78 894.52,-557.8 894,-558.27\"/>\n",
       "</g>\n",
       "<!-- 7&#45;&gt;6 -->\n",
       "<!-- 6&#45;&gt;5 -->\n",
       "</g>\n",
       "</svg>\n"
      ],
      "text/plain": [
       "<graphviz.dot.Digraph at 0x7fcfa5e319d0>"
      ]
     },
     "metadata": {},
     "output_type": "display_data"
    }
   ],
   "source": [
    "visualize(jets[1], clustered_jets[1])"
   ]
  },
  {
   "cell_type": "markdown",
   "metadata": {},
   "source": [
    "Finally, let's compare log likelihood numbers:"
   ]
  },
  {
   "cell_type": "code",
   "execution_count": 10,
   "metadata": {},
   "outputs": [
    {
     "name": "stderr",
     "output_type": "stream",
     "text": [
      "20-12-15 12:58 I: Simulator log likelihood: -112.9, MCTS log likelihood: -107.6\n",
      "20-12-15 12:58 I: Simulator log likelihood: -58.2, MCTS log likelihood: -56.6\n",
      "20-12-15 12:58 I: Simulator log likelihood: -112.6, MCTS log likelihood: -109.7\n"
     ]
    }
   ],
   "source": [
    "for jet, log_likelihood in zip(jets, log_likelihoods):\n",
    "    logger.info(f\"Simulator log likelihood: {sum(jet['logLH']):>5.1f}, MCTS log likelihood: {log_likelihood:>5.1f}\")\n",
    "    "
   ]
  },
  {
   "cell_type": "code",
   "execution_count": null,
   "metadata": {},
   "outputs": [],
   "source": []
  }
 ],
 "metadata": {
  "kernelspec": {
   "display_name": "Python (rl)",
   "language": "python",
   "name": "rl"
  },
  "language_info": {
   "codemirror_mode": {
    "name": "ipython",
    "version": 3
   },
   "file_extension": ".py",
   "mimetype": "text/x-python",
   "name": "python",
   "nbconvert_exporter": "python",
   "pygments_lexer": "ipython3",
   "version": "3.7.7"
  }
 },
 "nbformat": 4,
 "nbformat_minor": 4
}
