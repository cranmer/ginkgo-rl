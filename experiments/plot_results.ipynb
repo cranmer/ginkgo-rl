{
 "cells": [
  {
   "cell_type": "markdown",
   "metadata": {},
   "source": [
    "# Plot experiment results"
   ]
  },
  {
   "cell_type": "code",
   "execution_count": 1,
   "metadata": {},
   "outputs": [],
   "source": [
    "%matplotlib inline\n",
    "from collections import OrderedDict\n",
    "import numpy as np\n",
    "from matplotlib import pyplot as plt\n",
    "from matplotlib.ticker import MultipleLocator, AutoMinorLocator\n"
   ]
  },
  {
   "cell_type": "markdown",
   "metadata": {},
   "source": [
    "## Specify data"
   ]
  },
  {
   "cell_type": "markdown",
   "metadata": {},
   "source": [
    "### Runs"
   ]
  },
  {
   "cell_type": "code",
   "execution_count": 2,
   "metadata": {},
   "outputs": [],
   "source": [
    "runs = OrderedDict()\n",
    "\n",
    "runs[\"truth\"] = [\"truth_20200930_092023_1000\"]\n",
    "runs[\"mle\"] = [\"mle_20200930_092023_1001\"]\n",
    "runs[\"random\"] = [\n",
    "    \"random_20200930_092429_1060\",\n",
    "    \"random_20200930_092430_1061\",\n",
    "    \"random_20200930_092430_1062\",\n",
    "    \"random_20200930_092430_1063\",\n",
    "    \"random_20200930_092430_1064\",\n",
    "]\n",
    "runs[\"greedy\"] = [\"greedy_20200930_092023_1003\"]\n",
    "\n",
    "runs[\"beamsearch_s\"] = [\"beamsearch_s_20200930_092023_1004\"]\n",
    "runs[\"beamsearch_m\"] = [\"beamsearch_m_20200930_092023_1005\"]\n",
    "runs[\"beamsearch_l\"] = [\"beamsearch_l_20200930_092023_1006\"]\n",
    "runs[\"beamsearch_xl\"] = [\"beamsearch_xl_20200930_092023_1007\"]\n"
   ]
  },
  {
   "cell_type": "code",
   "execution_count": 3,
   "metadata": {},
   "outputs": [],
   "source": [
    "runs[\"mcts_xs\"] = [\n",
    "    \"mcts_nn_xs_20200930_092038_1000\",\n",
    "    \"mcts_nn_xs_20200930_092038_1001\",\n",
    "    \"mcts_nn_xs_20200930_092038_1002\",\n",
    "    \"mcts_nn_xs_20200930_092038_1003\",\n",
    "    \"mcts_nn_xs_20200930_092039_1004\",\n",
    "]\n",
    "runs[\"mcts_s\"] = [\n",
    "    \"mcts_nn_s_20200930_092039_1005\",\n",
    "    \"mcts_nn_s_20200930_092039_1006\",\n",
    "    \"mcts_nn_s_20200930_092039_1007\",\n",
    "    \"mcts_nn_s_20200930_092039_1008\",\n",
    "    \"mcts_nn_s_20200930_092039_1009\",\n",
    "]\n",
    "runs[\"mcts_m\"] = [\n",
    "    \"mcts_nn_m_20200930_092039_1010\",\n",
    "    \"mcts_nn_m_20200930_092039_1011\",\n",
    "    \"mcts_nn_m_20200930_092039_1012\",\n",
    "    \"mcts_nn_m_20200930_092039_1013\",\n",
    "    \"mcts_nn_m_20200930_092039_1014\",\n",
    "]\n",
    "runs[\"mcts_l\"] = [\n",
    "    \"mcts_nn_l_20200930_092039_1015\",\n",
    "    \"mcts_nn_l_20200930_092039_1019\",\n",
    "    \"mcts_nn_l_20200930_092040_1016\",\n",
    "    \"mcts_nn_l_20200930_092040_1017\",\n",
    "    \"mcts_nn_l_20200930_092040_1018\",\n",
    "]\n",
    "\n",
    "runs[\"lfd_s\"] = [\n",
    "    \"lfd_s_20200930_092039_1020\",\n",
    "    \"lfd_s_20200930_092039_1021\",\n",
    "    \"lfd_s_20200930_092039_1022\",\n",
    "    \"lfd_s_20200930_092039_1023\",\n",
    "    \"lfd_s_20200930_092039_1024\",\n",
    "]\n",
    "runs[\"lfd-mcts_s\"] = [\n",
    "    \"lfd-mcts_s_20200930_092039_1025\",\n",
    "    \"lfd-mcts_s_20200930_092039_1026\",\n",
    "    \"lfd-mcts_s_20200930_092039_1027\",\n",
    "    \"lfd-mcts_s_20200930_092039_1028\",\n",
    "    \"lfd-mcts_s_20200930_092039_1029\",\n",
    "]\n"
   ]
  },
  {
   "cell_type": "code",
   "execution_count": 4,
   "metadata": {},
   "outputs": [],
   "source": [
    "runs[\"mcts_raw\"] = [\n",
    "    \"mcts_raw_s_20200930_092053_1040\",\n",
    "    \"mcts_raw_s_20200930_092113_1041\",\n",
    "    \"mcts_raw_s_20200930_092225_1042\",\n",
    "    \"mcts_raw_s_20200930_092225_1043\",\n",
    "    \"mcts_raw_s_20200930_092244_1044\",\n",
    "]\n",
    "runs[\"mcts_explore\"] = [\n",
    "    \"mcts_s_explore_20200930_092044_1035\",\n",
    "    \"mcts_s_explore_20200930_092539_1036\",\n",
    "    \"mcts_s_explore_20200930_092540_1037\",\n",
    "    \"mcts_s_explore_20200930_092540_1038\",\n",
    "    \"mcts_s_explore_20200930_092540_1039\",\n",
    "]\n",
    "runs[\"mcts_exploit\"] = [\n",
    "    \"mcts_s_exploit_20200930_092039_1030\",\n",
    "    \"mcts_s_exploit_20200930_092039_1031\",\n",
    "    \"mcts_s_exploit_20200930_092039_1032\",\n",
    "    \"mcts_s_exploit_20200930_092039_1033\",\n",
    "    \"mcts_s_exploit_20200930_092039_1034\",\n",
    "]\n",
    "runs[\"mcts_puctdecisions\"] = [\n",
    "    \"mcts_puct_decisions_s_20200930_092243_1045\",\n",
    "    \"mcts_puct_decisions_s_20200930_092243_1046\",\n",
    "    \"mcts_puct_decisions_s_20200930_092244_1047\",\n",
    "    \"mcts_puct_decisions_s_20200930_092324_1048\",\n",
    "    \"mcts_puct_decisions_s_20200930_092324_1049\",\n",
    "]\n",
    "runs[\"mcts_onlybs\"] = [\"mcts_only_bs_s_20200930_092023_1009\"]\n",
    "runs[\"mcts_nobs\"] = [\n",
    "    \"mcts_nn_no_beamsearch_s_20200930_092324_1050\",\n",
    "    \"mcts_nn_no_beamsearch_s_20200930_092324_1051\",\n",
    "    \"mcts_nn_no_beamsearch_s_20200930_092324_1052\",\n",
    "    \"mcts_nn_no_beamsearch_s_20200930_092324_1053\",\n",
    "    \"mcts_nn_no_beamsearch_s_20200930_092324_1054\",\n",
    "]\n",
    "runs[\"mcts_random\"] = [\n",
    "    \"mcts_random_s_20200930_092324_1055\",\n",
    "    \"mcts_random_s_20200930_092324_1056\",\n",
    "    \"mcts_random_s_20200930_092324_1057\",\n",
    "    \"mcts_random_s_20200930_092324_1058\",\n",
    "    \"mcts_random_s_20200930_092324_1059\",\n",
    "]\n",
    "runs[\"mcts_likelihood\"] = [\"mcts_likelihood_s_20200930_092023_1008\"]\n"
   ]
  },
  {
   "cell_type": "markdown",
   "metadata": {},
   "source": [
    "### Labels and style"
   ]
  },
  {
   "cell_type": "code",
   "execution_count": 5,
   "metadata": {},
   "outputs": [],
   "source": [
    "labels = {}\n",
    "\n",
    "labels[\"truth\"] = \"Truth\"\n",
    "labels[\"mle\"] = \"MLE\"\n",
    "labels[\"random\"] = \"Random\"\n",
    "labels[\"greedy\"] = \"Greedy\"\n",
    "labels[\"beamsearch_s\"] = \"Beam search\"\n",
    "labels[\"beamsearch_m\"] = \"Beam search\"\n",
    "labels[\"beamsearch_l\"] = \"Beam search\"\n",
    "labels[\"beamsearch_xl\"] = \"Beam search\"\n",
    "\n",
    "labels[\"mcts_xs\"] = \"MCTS\"\n",
    "labels[\"mcts_s\"] = \"MCTS\"\n",
    "labels[\"mcts_m\"] = \"MCTS\"\n",
    "labels[\"mcts_l\"] = \"MCTS\"\n",
    "\n",
    "labels[\"lfd_s\"] = \"LfD\"\n",
    "labels[\"lfd-mcts_s\"] = \"LfD-MCTS\"\n"
   ]
  },
  {
   "cell_type": "code",
   "execution_count": 6,
   "metadata": {},
   "outputs": [],
   "source": [
    "colors = {}\n",
    "\n",
    "colors[\"random\"] = \"black\"\n",
    "colors[\"truth\"] = \"black\"\n",
    "colors[\"mle\"] = \"black\"\n",
    "\n",
    "colors[\"greedy\"] =  \"#0A3D5C\"\n",
    "colors[\"beamsearch_s\"] = \"#3D708F\"\n",
    "\n",
    "colors[\"mcts_xs\"] = \"#F57547\"\n",
    "colors[\"lfd_s\"] = \"#F57547\"\n",
    "colors[\"lfd-mcts_s\"] = \"#F57547\"\n",
    "\n",
    "colors[\"beamsearch_m\"] = colors[\"beamsearch_s\"]\n",
    "colors[\"beamsearch_l\"] = colors[\"beamsearch_s\"]\n",
    "colors[\"beamsearch_xl\"] = colors[\"beamsearch_s\"]\n",
    "colors[\"mcts_s\"] = colors[\"mcts_xs\"]\n",
    "colors[\"mcts_m\"] = colors[\"mcts_xs\"]\n",
    "colors[\"mcts_l\"] = colors[\"mcts_xs\"]\n"
   ]
  },
  {
   "cell_type": "code",
   "execution_count": 7,
   "metadata": {},
   "outputs": [],
   "source": [
    "linestyles = {}\n",
    "\n",
    "linestyles[\"truth\"] = \"-.\"\n",
    "linestyles[\"mle\"] = \":\"\n",
    "linestyles[\"random\"] = \":\"\n",
    "\n",
    "linestyles[\"greedy\"] = \"--\"\n",
    "\n",
    "linestyles[\"beamsearch_s\"] = \"-.\"\n",
    "linestyles[\"beamsearch_m\"] = \"-.\"\n",
    "linestyles[\"beamsearch_l\"] = \"-.\"\n",
    "linestyles[\"beamsearch_xl\"] = \"-.\"\n",
    "\n",
    "linestyles[\"mcts_xs\"] = \"-\"\n",
    "linestyles[\"mcts_s\"] = \"-\"\n",
    "linestyles[\"mcts_m\"] = \"-\"\n",
    "linestyles[\"mcts_l\"] = \"-\"\n",
    "\n",
    "linestyles[\"lfd_s\"] = \"-\"\n",
    "linestyles[\"lfd-mcts_s\"] = \"-\"\n"
   ]
  },
  {
   "cell_type": "code",
   "execution_count": 8,
   "metadata": {},
   "outputs": [],
   "source": [
    "markers = {}\n",
    "\n",
    "markers[\"beamsearch_s\"] = \"^\"\n",
    "markers[\"greedy\"] = \"<\"\n",
    "markers[\"mcts_xs\"] = \"o\"\n",
    "markers[\"lfd_s\"] = \"s\"\n",
    "markers[\"lfd-mcts_s\"] = \"D\"\n"
   ]
  },
  {
   "cell_type": "markdown",
   "metadata": {},
   "source": [
    "## Load results"
   ]
  },
  {
   "cell_type": "code",
   "execution_count": 9,
   "metadata": {},
   "outputs": [],
   "source": [
    "n_jets = 500\n",
    "run_dir = \"./data/runs\"\n",
    "\n",
    "jet_sizes = np.nan * np.ones(n_jets)\n",
    "log_likelihoods = {}\n",
    "costs = {}\n",
    "\n",
    "for key, run_list in runs.items():\n",
    "    log_likelihoods[key] = []\n",
    "    costs[key] = []\n",
    "    \n",
    "    for run in run_list:\n",
    "        try:\n",
    "            jet_sizes = np.load(f\"{run_dir}/{run}/eval_jet_sizes.npy\")\n",
    "        except Exception as e:\n",
    "            pass\n",
    "            # print(e)\n",
    "        \n",
    "        try:\n",
    "            log_likelihoods[key].append(\n",
    "                np.load(f\"{run_dir}/{run}/eval_log_likelihood.npy\").flatten()\n",
    "            )\n",
    "        except Exception as e:\n",
    "            # print(e)\n",
    "            log_likelihoods[key].append(np.nan * np.ones(n_jets))\n",
    "\n",
    "        try:\n",
    "            costs[key].append(\n",
    "                np.load(f\"{run_dir}/{run}/eval_likelihood_evaluations.npy\").flatten()\n",
    "            )\n",
    "        except Exception as e:\n",
    "            # print(e)\n",
    "            costs[key].append(np.nan * np.ones(n_jets))\n"
   ]
  },
  {
   "cell_type": "markdown",
   "metadata": {},
   "source": [
    "## Process results"
   ]
  },
  {
   "cell_type": "markdown",
   "metadata": {},
   "source": [
    "### Normalize wrt baseline"
   ]
  },
  {
   "cell_type": "code",
   "execution_count": 10,
   "metadata": {},
   "outputs": [],
   "source": [
    "norm_key = \"greedy\"\n",
    "rel_log_likelihoods = {}\n",
    "norm_log_likelihoods = np.mean(log_likelihoods[norm_key], axis=0)\n",
    "\n",
    "for key, vals in log_likelihoods.items():\n",
    "    rel_log_likelihoods[key] = [val - norm_log_likelihoods for val in vals]\n"
   ]
  },
  {
   "cell_type": "markdown",
   "metadata": {},
   "source": [
    "### Compute means and standard deviations"
   ]
  },
  {
   "cell_type": "code",
   "execution_count": 11,
   "metadata": {},
   "outputs": [
    {
     "name": "stderr",
     "output_type": "stream",
     "text": [
      "/Users/johannbrehmer/anaconda3/envs/rl/lib/python3.7/site-packages/ipykernel_launcher.py:2: RuntimeWarning: Mean of empty slice\n",
      "  \n",
      "/Users/johannbrehmer/anaconda3/envs/rl/lib/python3.7/site-packages/numpy/lib/nanfunctions.py:1667: RuntimeWarning: Degrees of freedom <= 0 for slice.\n",
      "  keepdims=keepdims)\n"
     ]
    }
   ],
   "source": [
    "def compute_means_stds(inputs):\n",
    "    means = {key: np.nanmean(val, axis=0) for key, val in inputs.items()}\n",
    "    stds = {key: np.nanstd(val, axis=0) for key, val in inputs.items()}\n",
    "    return means, stds\n",
    "\n",
    "\n",
    "log_likelihood_means, log_likelihood_stds = compute_means_stds(log_likelihoods)\n",
    "rel_log_likelihood_means, rel_log_likelihood_stds = compute_means_stds(rel_log_likelihoods)\n",
    "cost_means, cost_stds = compute_means_stds(costs)\n",
    "cost_stds = {}\n"
   ]
  },
  {
   "cell_type": "markdown",
   "metadata": {},
   "source": [
    "### Bin results in number of jets"
   ]
  },
  {
   "cell_type": "code",
   "execution_count": 12,
   "metadata": {},
   "outputs": [],
   "source": [
    "# n_bins = 5\n",
    "# bin_boundaries = np.percentile(jet_sizes, np.linspace(0., 100., n_bins + 1)).astype(np.float)\n",
    "# bin_boundaries[0] -= 0.01\n",
    "# bin_boundaries[-1] += 0.01\n",
    "bin_boundaries = [1.5] + list(np.arange(7.5, 17, 2)) + [20.5]\n"
   ]
  },
  {
   "cell_type": "code",
   "execution_count": 13,
   "metadata": {},
   "outputs": [],
   "source": [
    "bin_jet_size = {}\n",
    "bin_log_likelihood = {}\n",
    "bin_log_likelihood_err = {}\n",
    "\n",
    "for key in runs.keys():\n",
    "    bin_jet_size_ = []\n",
    "    bin_log_likelihood_ = []\n",
    "    bin_log_likelihood_err_ = []\n",
    "    \n",
    "    for bin_min, bin_max in zip(bin_boundaries[:-1], bin_boundaries[1:]):\n",
    "        x = jet_sizes[(jet_sizes >= bin_min) * (jet_sizes < bin_max)]\n",
    "        y = rel_log_likelihood_means[key][(jet_sizes >= bin_min) * (jet_sizes < bin_max)]\n",
    "        dy = rel_log_likelihood_stds[key][(jet_sizes >= bin_min) * (jet_sizes < bin_max)]\n",
    "        \n",
    "        bin_jet_size_.append(np.mean(x))\n",
    "        bin_log_likelihood_.append(np.mean(y))\n",
    "        # bin_log_likelihood_err_.append(np.std(y) / (len(x)**0.5 + 1.e-9))\n",
    "        bin_log_likelihood_err_.append(np.mean(dy))\n",
    "        \n",
    "    bin_jet_size[key] = np.asarray(bin_jet_size_)\n",
    "    bin_log_likelihood[key] = np.asarray(bin_log_likelihood_)\n",
    "    bin_log_likelihood_err[key] = np.asarray(bin_log_likelihood_err_)\n"
   ]
  },
  {
   "cell_type": "markdown",
   "metadata": {},
   "source": [
    "## Plots"
   ]
  },
  {
   "cell_type": "markdown",
   "metadata": {},
   "source": [
    "### Performance vs cost"
   ]
  },
  {
   "cell_type": "code",
   "execution_count": 14,
   "metadata": {},
   "outputs": [
    {
     "data": {
      "image/png": "[encoded data removed]",
      "text/plain": [
       "<Figure size 259.2x259.2 with 1 Axes>"
      ]
     },
     "metadata": {
      "needs_background": "light"
     },
     "output_type": "display_data"
    }
   ],
   "source": [
    "plot = [\n",
    "    [\"greedy\"],\n",
    "    [\"beamsearch_s\", \"beamsearch_m\", \"beamsearch_l\", \"beamsearch_xl\"],\n",
    "    [\"mcts_xs\", \"mcts_s\", \"mcts_m\", \"mcts_l\"],\n",
    "    [\"lfd_s\"],\n",
    "    [\"lfd-mcts_s\"],\n",
    "]\n",
    "\n",
    "fig = plt.figure(figsize=(3.6,3.6))\n",
    "ax = plt.gca()\n",
    "    \n",
    "for keys in plot:\n",
    "    xs = np.asarray([np.mean(cost_means[key]) for key in keys])\n",
    "    ys = np.asarray([np.mean(log_likelihood_means[key]) for key in keys])\n",
    "    dys = np.asarray([np.mean(log_likelihood_stds[key]) for key in keys])\n",
    "    c, m, ms, lbl = colors[keys[0]], markers[keys[0]], 6., labels[keys[0]]\n",
    "    ls =  linestyles[keys[0]] if len(xs) > 1 else \" \"\n",
    "    \n",
    "    # Include greedy in beam search\n",
    "    if keys[0] == \"beamsearch_s\":\n",
    "        x0 = np.mean(cost_means[\"greedy\"])\n",
    "        y0 = np.mean(log_likelihood_means[\"greedy\"])\n",
    "        dy0 = np.mean(log_likelihood_stds[\"greedy\"])\n",
    "        plt.fill_between(\n",
    "            [x0, xs[0]], [y0 - dy0, ys[0] - dys[0]], [y0 + dy0, ys[0] + dys[0]],\n",
    "            color=c, alpha=0.1\n",
    "        )\n",
    "        plt.plot(\n",
    "            [x0, xs[0]], [y0, ys[0]],\n",
    "            c=c, lw=1.5, ls=ls, zorder=-1\n",
    "        )\n",
    "\n",
    "    plt.fill_between(xs, ys - dys, ys + dys, color=c, alpha=0.1)\n",
    "    plt.plot(xs, ys, c=c, lw=1.5, ls=ls, marker=m, markersize=ms, label=lbl)\n",
    "\n",
    "plt.legend(loc=\"lower right\", frameon=False)\n",
    "\n",
    "plt.xscale(\"log\")\n",
    "ax.yaxis.set_major_locator(MultipleLocator(1.))\n",
    "ax.yaxis.set_minor_locator(MultipleLocator(0.2))\n",
    "plt.xlabel(\"Cost (splitting likelihood evaluations)\")\n",
    "plt.ylabel(f\"Tree log likelihood\", labelpad=0)\n",
    "ax.xaxis.set_label_coords(0.5, -0.1)\n",
    "ax.yaxis.set_label_coords(-0.12, 0.5)\n",
    "\n",
    "plt.subplots_adjust(left=0.15, bottom=0.15, right=0.99, top=0.99, wspace=0, hspace=0)\n",
    "plt.savefig(\"figures/rl_ginkgo_log_likelihood_vs_cost.pdf\")\n"
   ]
  },
  {
   "cell_type": "markdown",
   "metadata": {},
   "source": [
    "### Performance vs # leaves"
   ]
  },
  {
   "cell_type": "code",
   "execution_count": 17,
   "metadata": {},
   "outputs": [
    {
     "data": {
      "image/png": "[encoded data removed]",
      "text/plain": [
       "<Figure size 259.2x259.2 with 1 Axes>"
      ]
     },
     "metadata": {
      "needs_background": "light"
     },
     "output_type": "display_data"
    }
   ],
   "source": [
    "plot = [\"mle\", \"greedy\", \"beamsearch_xl\", \"mcts_l\", \"lfd_s\", \"lfd-mcts_s\"]\n",
    "\n",
    "fig = plt.figure(figsize=(3.6,3.6))\n",
    "ax = plt.gca()\n",
    "    \n",
    "for key in plot:\n",
    "    x, y, dy = bin_jet_size[key], bin_log_likelihood[key], bin_log_likelihood_err[key]\n",
    "    c, ls, lbl = colors[key], linestyles[key], labels[key]\n",
    "\n",
    "    plt.fill_between(x, y-dy, y+dy, color=c, alpha=0.1)\n",
    "    plt.plot(x, y, c=c, lw=1.5, ls=ls, label=lbl)\n",
    "\n",
    "plt.legend(loc=\"upper left\", frameon=False)\n",
    "\n",
    "ax.yaxis.set_major_locator(MultipleLocator(1.))\n",
    "ax.yaxis.set_minor_locator(MultipleLocator(0.5))\n",
    "ax.xaxis.set_major_locator(MultipleLocator(5.))\n",
    "ax.xaxis.set_minor_locator(MultipleLocator(1.))\n",
    "plt.xlabel(\"Number of leaves\")\n",
    "plt.ylabel(f\"Tree log likelihood relative to {norm_key}\")\n",
    "ax.xaxis.set_label_coords(0.5, -0.1)\n",
    "ax.yaxis.set_label_coords(-0.12, 0.5)\n",
    "\n",
    "plt.subplots_adjust(left=0.15, bottom=0.15, right=0.99, top=0.99, wspace=0, hspace=0)\n",
    "plt.savefig(\"figures/rl_ginkgo_log_likelihood_vs_leaves.pdf\")\n"
   ]
  },
  {
   "cell_type": "markdown",
   "metadata": {},
   "source": [
    "## Print results"
   ]
  },
  {
   "cell_type": "code",
   "execution_count": 18,
   "metadata": {},
   "outputs": [
    {
     "name": "stdout",
     "output_type": "stream",
     "text": [
      "               truth: $ -99.3 \\textcolor{dark-grey}{\\pm  0.0}$ &      0\n",
      "                 mle: $   nan \\textcolor{dark-grey}{\\pm  nan}$ &    nan\n",
      "              random: $-198.3 \\textcolor{dark-grey}{\\pm 53.3}$ &      0\n",
      "              greedy: $ -96.0 \\textcolor{dark-grey}{\\pm  0.0}$ &    452\n",
      "        beamsearch_s: $ -94.1 \\textcolor{dark-grey}{\\pm  0.0}$ &   1914\n",
      "        beamsearch_m: $ -93.5 \\textcolor{dark-grey}{\\pm  0.0}$ &   7397\n",
      "        beamsearch_l: $ -93.3 \\textcolor{dark-grey}{\\pm  0.0}$ &  36641\n",
      "       beamsearch_xl: $ -93.3 \\textcolor{dark-grey}{\\pm  0.0}$ & 365634\n",
      "             mcts_xs: $   nan \\textcolor{dark-grey}{\\pm  nan}$ &    nan\n",
      "              mcts_s: $   nan \\textcolor{dark-grey}{\\pm  nan}$ &    nan\n",
      "              mcts_m: $   nan \\textcolor{dark-grey}{\\pm  nan}$ &    nan\n",
      "              mcts_l: $   nan \\textcolor{dark-grey}{\\pm  nan}$ &    nan\n",
      "               lfd_s: $   nan \\textcolor{dark-grey}{\\pm  nan}$ &    nan\n",
      "          lfd-mcts_s: $   nan \\textcolor{dark-grey}{\\pm  nan}$ &    nan\n",
      "            mcts_raw: $   nan \\textcolor{dark-grey}{\\pm  nan}$ &    nan\n",
      "        mcts_explore: $   nan \\textcolor{dark-grey}{\\pm  nan}$ &    nan\n",
      "        mcts_exploit: $   nan \\textcolor{dark-grey}{\\pm  nan}$ &    nan\n",
      "  mcts_puctdecisions: $   nan \\textcolor{dark-grey}{\\pm  nan}$ &    nan\n",
      "         mcts_onlybs: $   nan \\textcolor{dark-grey}{\\pm  nan}$ &    nan\n",
      "           mcts_nobs: $   nan \\textcolor{dark-grey}{\\pm  nan}$ &    nan\n",
      "         mcts_random: $   nan \\textcolor{dark-grey}{\\pm  nan}$ &    nan\n",
      "     mcts_likelihood: $   nan \\textcolor{dark-grey}{\\pm  nan}$ &    nan\n"
     ]
    }
   ],
   "source": [
    "for key in runs.keys():\n",
    "    mean = np.mean(log_likelihood_means[key])\n",
    "    err = np.mean(log_likelihood_stds[key])\n",
    "    cost = np.mean(cost_means[key])\n",
    "    print(\n",
    "        f\"{key:>20.20}: ${mean:6.1f}\"\n",
    "        + f\" \\\\textcolor{{dark-grey}}{{\\pm {err:4.1f}}}$\"\n",
    "        + f\" & {cost:6.0f}\"\n",
    "    )\n",
    "          "
   ]
  },
  {
   "cell_type": "code",
   "execution_count": null,
   "metadata": {},
   "outputs": [],
   "source": []
  }
 ],
 "metadata": {
  "kernelspec": {
   "display_name": "Python (rl)",
   "language": "python",
   "name": "rl"
  },
  "language_info": {
   "codemirror_mode": {
    "name": "ipython",
    "version": 3
   },
   "file_extension": ".py",
   "mimetype": "text/x-python",
   "name": "python",
   "nbconvert_exporter": "python",
   "pygments_lexer": "ipython3",
   "version": "3.7.7"
  }
 },
 "nbformat": 4,
 "nbformat_minor": 4
}
