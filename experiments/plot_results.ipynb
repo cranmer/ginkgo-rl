{
 "cells": [
  {
   "cell_type": "markdown",
   "metadata": {},
   "source": [
    "## Plot experiment results"
   ]
  },
  {
   "cell_type": "code",
   "execution_count": 1,
   "metadata": {},
   "outputs": [],
   "source": [
    "%matplotlib inline\n",
    "from collections import OrderedDict\n",
    "import numpy as np\n",
    "from matplotlib import pyplot as plt\n",
    "from matplotlib.ticker import MultipleLocator, AutoMinorLocator\n"
   ]
  },
  {
   "cell_type": "markdown",
   "metadata": {},
   "source": [
    "## Methods and filenames"
   ]
  },
  {
   "cell_type": "code",
   "execution_count": 2,
   "metadata": {},
   "outputs": [],
   "source": [
    "runs = OrderedDict()\n",
    "\n",
    "runs[\"truth\"] = \"truth_20200911_091636\"\n",
    "runs[\"mle\"] = \"mle_20200911_092100\"\n",
    "runs[\"random\"] = \"random_20200911_092105\"\n",
    "runs[\"greedy\"] = \"greedy_20200914_102725\"\n",
    "runs[\"beamsearch_s\"] = \"beamsearch_s_20200911_173430\"\n",
    "runs[\"beamsearch_m\"] = \"beamsearch_m_20200911_173434\"\n",
    "runs[\"beamsearch_l\"] = \"beamsearch_l_20200911_173439\"\n",
    "runs[\"beamsearch_xl\"] = \"beamsearch_xl_20200911_173443\"\n",
    "runs[\"mcts_xs\"] = \"mcts_nn_xs_20200914_110435\"\n",
    "runs[\"mcts_s\"] = \"mcts_nn_s_20200911_170739\"\n",
    "runs[\"mcts_m\"] = \"mcts_nn_m_20200911_172132\"\n",
    "runs[\"mcts_l\"] = \"mcts_nn_l_20200911_172057\"\n",
    "\n",
    "runs[\"mcts_raw\"] = \"mcts_raw_s_20200911_173335\"\n",
    "runs[\"mcts_onlybs\"] = \"mcts_only_bs_s_20200911_171817\"\n",
    "runs[\"mcts_nobs\"] = \"mcts_nn_no_beamsearch_s_20200911_170827\"\n",
    "runs[\"mcts_random\"] = \"mcts_random_s_20200911_173342\"\n",
    "runs[\"mcts_likelihood\"] = \"mcts_likelihood_s_20200911_170510\"\n"
   ]
  },
  {
   "cell_type": "code",
   "execution_count": 3,
   "metadata": {},
   "outputs": [],
   "source": [
    "labels = {}\n",
    "\n",
    "labels[\"truth\"] = \"Truth\"\n",
    "labels[\"mle\"] = \"MLE\"\n",
    "labels[\"random\"] = \"Random\"\n",
    "labels[\"greedy\"] = \"Greedy\"\n",
    "labels[\"beamsearch_s\"] = None\n",
    "labels[\"beamsearch_m\"] = None\n",
    "labels[\"beamsearch_l\"] = None\n",
    "labels[\"beamsearch_xl\"] = \"Beam search\"\n",
    "labels[\"mcts_xs\"] = None\n",
    "labels[\"mcts_s\"] = None\n",
    "labels[\"mcts_m\"] = None\n",
    "labels[\"mcts_l\"] = \"MCTS\"\n"
   ]
  },
  {
   "cell_type": "code",
   "execution_count": 4,
   "metadata": {},
   "outputs": [],
   "source": [
    "cost_labels = {}\n",
    "\n",
    "cost_labels[\"beamsearch_s\"] = \"Beam search\"\n",
    "cost_labels[\"random\"] = \"Random\"\n",
    "cost_labels[\"greedy\"] = \"Greedy\"\n",
    "cost_labels[\"mcts_xs\"] = \"MCTS\""
   ]
  },
  {
   "cell_type": "code",
   "execution_count": 5,
   "metadata": {},
   "outputs": [],
   "source": [
    "colors = {}\n",
    "\n",
    "colors[\"random\"] = \"black\"\n",
    "colors[\"truth\"] = \"black\"\n",
    "colors[\"mle\"] = \"black\"\n",
    "\n",
    "colors[\"greedy\"] =  \"#0A3D5C\"\n",
    "colors[\"beamsearch_s\"] = \"#3D708F\"\n",
    "colors[\"mcts_xs\"] = \"#F57547\"\n",
    "\n",
    "colors[\"beamsearch_m\"] = colors[\"beamsearch_s\"]\n",
    "colors[\"beamsearch_l\"] = colors[\"beamsearch_s\"]\n",
    "colors[\"beamsearch_xl\"] = colors[\"beamsearch_s\"]\n",
    "colors[\"mcts_s\"] = colors[\"mcts_xs\"]\n",
    "colors[\"mcts_m\"] = colors[\"mcts_xs\"]\n",
    "colors[\"mcts_l\"] = colors[\"mcts_xs\"]\n"
   ]
  },
  {
   "cell_type": "code",
   "execution_count": 6,
   "metadata": {},
   "outputs": [],
   "source": [
    "linestyles = {}\n",
    "\n",
    "linestyles[\"truth\"] = \"-.\"\n",
    "linestyles[\"mle\"] = \":\"\n",
    "linestyles[\"random\"] = \":\"\n",
    "\n",
    "linestyles[\"greedy\"] = \"--\"\n",
    "\n",
    "linestyles[\"beamsearch_s\"] = \"-.\"\n",
    "linestyles[\"beamsearch_m\"] = \"-.\"\n",
    "linestyles[\"beamsearch_l\"] = \"-.\"\n",
    "linestyles[\"beamsearch_xl\"] = \"-.\"\n",
    "\n",
    "linestyles[\"mcts_xs\"] = \"-\"\n",
    "linestyles[\"mcts_s\"] = \"-\"\n",
    "linestyles[\"mcts_m\"] = \"-\"\n",
    "linestyles[\"mcts_l\"] = \"-\"\n"
   ]
  },
  {
   "cell_type": "code",
   "execution_count": 7,
   "metadata": {},
   "outputs": [],
   "source": [
    "markers = {}\n",
    "\n",
    "markers[\"beamsearch_s\"] = \"^\"\n",
    "markers[\"greedy\"] = \"s\"\n",
    "markers[\"mcts_xs\"] = \"o\"\n"
   ]
  },
  {
   "cell_type": "markdown",
   "metadata": {},
   "source": [
    "## Load results"
   ]
  },
  {
   "cell_type": "code",
   "execution_count": 8,
   "metadata": {},
   "outputs": [
    {
     "name": "stdout",
     "output_type": "stream",
     "text": [
      "[Errno 2] No such file or directory: './data/runs/truth_20200911_091636/eval_likelihood_evaluations.npy'\n",
      "[Errno 2] No such file or directory: './data/runs/mle_20200911_092100/eval_likelihood_evaluations.npy'\n",
      "[Errno 2] No such file or directory: './data/runs/random_20200911_092105/eval_likelihood_evaluations.npy'\n"
     ]
    }
   ],
   "source": [
    "n_jets = 500\n",
    "run_dir = \"./data/runs\"\n",
    "\n",
    "jet_sizes = np.nan * np.ones(n_jets)\n",
    "log_likelihoods = {}\n",
    "costs = {}\n",
    "\n",
    "for key, run in runs.items():\n",
    "    try:\n",
    "        log_likelihoods[key] = np.load(f\"{run_dir}/{run}/eval_log_likelihood.npy\").flatten()\n",
    "        jet_sizes = np.load(f\"{run_dir}/{run}/eval_jet_sizes.npy\")\n",
    "    except Exception as e:\n",
    "        print(e)\n",
    "        log_likelihoods[key] = np.nan * np.ones(n_jets)\n",
    "    \n",
    "    try:\n",
    "        costs[key] = np.load(f\"{run_dir}/{run}/eval_likelihood_evaluations.npy\").flatten()\n",
    "    except Exception as e:\n",
    "        print(e)\n",
    "        costs[key] = np.nan * np.ones(n_jets)\n"
   ]
  },
  {
   "cell_type": "markdown",
   "metadata": {},
   "source": [
    "## Normalize results"
   ]
  },
  {
   "cell_type": "code",
   "execution_count": 9,
   "metadata": {},
   "outputs": [],
   "source": [
    "norm_key = \"greedy\"\n",
    "rel_log_likelihoods = {}\n",
    "\n",
    "for key, val in log_likelihoods.items():\n",
    "    rel_log_likelihoods[key] = val - log_likelihoods[norm_key]\n"
   ]
  },
  {
   "cell_type": "markdown",
   "metadata": {},
   "source": [
    "## Bin results"
   ]
  },
  {
   "cell_type": "code",
   "execution_count": 10,
   "metadata": {},
   "outputs": [],
   "source": [
    "# n_bins = 5\n",
    "# bin_boundaries = np.percentile(jet_sizes, np.linspace(0., 100., n_bins + 1)).astype(np.float)\n",
    "# bin_boundaries[0] -= 0.01\n",
    "# bin_boundaries[-1] += 0.01\n",
    "bin_boundaries = [1.5] + list(np.arange(7.5, 17, 2)) + [20.5]\n"
   ]
  },
  {
   "cell_type": "code",
   "execution_count": 11,
   "metadata": {},
   "outputs": [],
   "source": [
    "bin_jet_size = {}\n",
    "bin_log_likelihood = {}\n",
    "bin_log_likelihood_err = {}\n",
    "\n",
    "for key in runs.keys():\n",
    "    bin_jet_size_ = []\n",
    "    bin_log_likelihood_ = []\n",
    "    bin_log_likelihood_err_ = []\n",
    "    \n",
    "    for bin_min, bin_max in zip(bin_boundaries[:-1], bin_boundaries[1:]):\n",
    "        x = jet_sizes[(jet_sizes >= bin_min) * (jet_sizes < bin_max)]\n",
    "        y = rel_log_likelihoods[key][(jet_sizes >= bin_min) * (jet_sizes < bin_max)]\n",
    "        bin_jet_size_.append(np.mean(x))\n",
    "        bin_log_likelihood_.append(np.mean(y))\n",
    "        bin_log_likelihood_err_.append(np.std(y) / (len(x)**0.5 + 1.e-9))\n",
    "        \n",
    "    bin_jet_size[key] = np.asarray(bin_jet_size_)\n",
    "    bin_log_likelihood[key] = np.asarray(bin_log_likelihood_)\n",
    "    bin_log_likelihood_err[key] = np.asarray(bin_log_likelihood_err_)\n"
   ]
  },
  {
   "cell_type": "markdown",
   "metadata": {},
   "source": [
    "## Plots"
   ]
  },
  {
   "cell_type": "code",
   "execution_count": 24,
   "metadata": {},
   "outputs": [
    {
     "data": {
      "image/png": "[encoded data removed]",
      "text/plain": [
       "<Figure size 259.2x259.2 with 1 Axes>"
      ]
     },
     "metadata": {
      "needs_background": "light"
     },
     "output_type": "display_data"
    }
   ],
   "source": [
    "plot = [\n",
    "    [\"greedy\"],\n",
    "    [\"beamsearch_s\", \"beamsearch_m\", \"beamsearch_l\", \"beamsearch_xl\"],\n",
    "    [\"mcts_xs\", \"mcts_s\", \"mcts_m\", \"mcts_l\"]\n",
    "]\n",
    "\n",
    "fig = plt.figure(figsize=(3.6,3.6))\n",
    "ax = plt.gca()\n",
    "    \n",
    "for keys in plot:\n",
    "    xs = [np.mean(costs[key]) for key in keys]\n",
    "    ys = [np.mean(log_likelihoods[key]) for key in keys]\n",
    "    c, m, ms, lbl = colors[keys[0]], markers[keys[0]], 6., cost_labels[keys[0]]\n",
    "    ls =  linestyles[keys[0]] if len(xs) > 1 else \" \"\n",
    "    \n",
    "    # Include greedy in beam search\n",
    "    if keys[0] == \"beamsearch_s\":\n",
    "        plt.plot(\n",
    "            [np.mean(costs[\"greedy\"]), xs[0]],\n",
    "            [np.mean(log_likelihoods[\"greedy\"]), ys[0]],\n",
    "            c=c, lw=1.5, ls=ls, zorder=-1\n",
    "        )\n",
    "\n",
    "    plt.plot(xs, ys, c=c, lw=1.5, ls=ls, marker=m, markersize=ms, label=lbl)\n",
    "\n",
    "plt.legend(loc=\"lower right\", frameon=False)\n",
    "\n",
    "plt.xscale(\"log\")\n",
    "ax.yaxis.set_major_locator(MultipleLocator(1.))\n",
    "ax.yaxis.set_minor_locator(MultipleLocator(0.2))\n",
    "plt.xlabel(\"Cost (splitting likelihood evaluations)\")\n",
    "plt.ylabel(f\"Tree log likelihood\", labelpad=0)\n",
    "ax.xaxis.set_label_coords(0.5, -0.1)\n",
    "ax.yaxis.set_label_coords(-0.12, 0.5)\n",
    "\n",
    "plt.subplots_adjust(left=0.15, bottom=0.15, right=0.99, top=0.99, wspace=0, hspace=0)\n",
    "plt.savefig(\"figures/rl_ginkgo_log_likelihood_vs_cost.pdf\")\n"
   ]
  },
  {
   "cell_type": "code",
   "execution_count": 25,
   "metadata": {},
   "outputs": [
    {
     "data": {
      "image/png": "[encoded data removed]",
      "text/plain": [
       "<Figure size 259.2x259.2 with 1 Axes>"
      ]
     },
     "metadata": {
      "needs_background": "light"
     },
     "output_type": "display_data"
    }
   ],
   "source": [
    "plot = [\"mle\", \"greedy\", \"beamsearch_xl\", \"mcts_l\"]\n",
    "\n",
    "fig = plt.figure(figsize=(3.6,3.6))\n",
    "ax = plt.gca()\n",
    "    \n",
    "for key in plot:\n",
    "    x, y, dy = bin_jet_size[key], bin_log_likelihood[key], bin_log_likelihood_err[key]\n",
    "    c, ls, lbl = colors[key], linestyles[key], labels[key]\n",
    "\n",
    "    plt.fill_between(x, y-dy, y+dy, color=c, alpha=0.1)\n",
    "    plt.plot(x, y, c=c, lw=1.5, ls=ls, label=lbl)\n",
    "\n",
    "plt.legend(loc=\"upper left\", frameon=False)\n",
    "\n",
    "ax.yaxis.set_major_locator(MultipleLocator(1.))\n",
    "ax.yaxis.set_minor_locator(MultipleLocator(0.5))\n",
    "ax.xaxis.set_major_locator(MultipleLocator(5.))\n",
    "ax.xaxis.set_minor_locator(MultipleLocator(1.))\n",
    "plt.xlabel(\"Number of leaves\")\n",
    "plt.ylabel(f\"Tree log likelihood relative to {norm_key}\")\n",
    "ax.xaxis.set_label_coords(0.5, -0.1)\n",
    "ax.yaxis.set_label_coords(-0.12, 0.5)\n",
    "\n",
    "plt.subplots_adjust(left=0.15, bottom=0.15, right=0.99, top=0.99, wspace=0, hspace=0)\n",
    "plt.savefig(\"figures/rl_ginkgo_log_likelihood_vs_leaves.pdf\")\n"
   ]
  },
  {
   "cell_type": "markdown",
   "metadata": {},
   "source": [
    "## All results"
   ]
  },
  {
   "cell_type": "code",
   "execution_count": 14,
   "metadata": {},
   "outputs": [
    {
     "name": "stdout",
     "output_type": "stream",
     "text": [
      "               truth: $ -99.26 \\textcolor{dark-grey}{\\pm 1.12}$\n",
      "                 mle: $    nan \\textcolor{dark-grey}{\\pm  nan}$\n",
      "              random: $-202.23 \\textcolor{dark-grey}{\\pm 4.95}$\n",
      "              greedy: $ -95.96 \\textcolor{dark-grey}{\\pm 1.06}$\n",
      "        beamsearch_s: $ -94.07 \\textcolor{dark-grey}{\\pm 1.04}$\n",
      "        beamsearch_m: $ -93.49 \\textcolor{dark-grey}{\\pm 1.03}$\n",
      "        beamsearch_l: $ -93.30 \\textcolor{dark-grey}{\\pm 1.02}$\n",
      "       beamsearch_xl: $ -93.28 \\textcolor{dark-grey}{\\pm 1.02}$\n",
      "             mcts_xs: $ -93.44 \\textcolor{dark-grey}{\\pm 1.02}$\n",
      "              mcts_s: $ -93.25 \\textcolor{dark-grey}{\\pm 1.02}$\n",
      "              mcts_m: $ -93.01 \\textcolor{dark-grey}{\\pm 1.02}$\n",
      "              mcts_l: $ -92.79 \\textcolor{dark-grey}{\\pm 1.02}$\n",
      "            mcts_raw: $ -93.76 \\textcolor{dark-grey}{\\pm 1.04}$\n",
      "         mcts_onlybs: $ -93.85 \\textcolor{dark-grey}{\\pm 1.04}$\n",
      "           mcts_nobs: $ -95.20 \\textcolor{dark-grey}{\\pm 1.07}$\n",
      "         mcts_random: $ -93.85 \\textcolor{dark-grey}{\\pm 1.04}$\n",
      "     mcts_likelihood: $ -93.47 \\textcolor{dark-grey}{\\pm 1.02}$\n"
     ]
    }
   ],
   "source": [
    "for key, val in log_likelihoods.items():\n",
    "    mean = np.mean(val)\n",
    "    err = np.std(val)/len(val)**0.5\n",
    "    print(\n",
    "        f\"{key:>20.20}: ${mean:7.2f} \"\n",
    "        + f\"\\\\textcolor{{dark-grey}}{{\\pm {err:4.2f}}}$\"\n",
    "    )\n",
    "          "
   ]
  },
  {
   "cell_type": "code",
   "execution_count": null,
   "metadata": {},
   "outputs": [],
   "source": []
  }
 ],
 "metadata": {
  "kernelspec": {
   "display_name": "Python (rl)",
   "language": "python",
   "name": "rl"
  },
  "language_info": {
   "codemirror_mode": {
    "name": "ipython",
    "version": 3
   },
   "file_extension": ".py",
   "mimetype": "text/x-python",
   "name": "python",
   "nbconvert_exporter": "python",
   "pygments_lexer": "ipython3",
   "version": "3.7.7"
  }
 },
 "nbformat": 4,
 "nbformat_minor": 4
}
