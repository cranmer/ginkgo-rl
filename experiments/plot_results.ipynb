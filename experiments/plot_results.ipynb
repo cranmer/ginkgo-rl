{
 "cells": [
  {
   "cell_type": "markdown",
   "metadata": {},
   "source": [
    "## Plot experiment results"
   ]
  },
  {
   "cell_type": "code",
   "execution_count": 1,
   "metadata": {},
   "outputs": [],
   "source": [
    "%matplotlib inline\n",
    "from collections import OrderedDict\n",
    "import numpy as np\n",
    "from matplotlib import pyplot as plt\n"
   ]
  },
  {
   "cell_type": "markdown",
   "metadata": {},
   "source": [
    "## Methods and filenames"
   ]
  },
  {
   "cell_type": "code",
   "execution_count": 2,
   "metadata": {},
   "outputs": [],
   "source": [
    "runs = OrderedDict()\n",
    "runs[\"truth\"] = \"truth_20200906_144303\"\n",
    "runs[\"mle\"] = \"mle_20200906_144343\"\n",
    "runs[\"random\"] = \"random_20200906_144459\"\n",
    "runs[\"greedy\"] = \"greedy_20200906_144345\"\n",
    "runs[\"beamsearch_s\"] = \"beamsearch_s_20200906_144347\"\n",
    "runs[\"beamsearch_m\"] = \"beamsearch_m_20200906_144350\"\n",
    "runs[\"beamsearch_l\"] = \"beamsearch_l_20200906_144353\"\n",
    "runs[\"mcbs_s\"] = \"mcbs_s_20200906_144407\"\n",
    "runs[\"mcbs_m\"] = \"mcbs_m_20200906_144419\"\n",
    "runs[\"mcbs_l\"] = \"mcbs_l_20200906_144432\"\n"
   ]
  },
  {
   "cell_type": "code",
   "execution_count": 3,
   "metadata": {},
   "outputs": [],
   "source": [
    "labels = {}\n",
    "labels[\"truth\"] = \"Truth\"\n",
    "labels[\"mle\"] = \"MLE\"\n",
    "labels[\"random\"] = \"Random\"\n",
    "labels[\"greedy\"] = \"Greedy\"\n",
    "labels[\"beamsearch_s\"] = \"Beam search S\"\n",
    "labels[\"beamsearch_m\"] = \"Beam search M\"\n",
    "labels[\"beamsearch_l\"] = \"Beam search L\"\n",
    "labels[\"mcbs_s\"] = \"MCTS S\"\n",
    "labels[\"mcbs_m\"] = \"MCTS M\"\n",
    "labels[\"mcbs_l\"] = \"MCTS L\"\n"
   ]
  },
  {
   "cell_type": "code",
   "execution_count": 4,
   "metadata": {},
   "outputs": [],
   "source": [
    "colors = {}\n",
    "colors[\"truth\"] = \"black\"\n",
    "colors[\"mle\"] = \"C1\"\n",
    "colors[\"random\"] = \"0.65\"\n",
    "colors[\"greedy\"] = \"C0\"\n",
    "colors[\"beamsearch_s\"] = \"C2\"\n",
    "colors[\"beamsearch_m\"] = \"C2\"\n",
    "colors[\"beamsearch_l\"] = \"C2\"\n",
    "colors[\"mcbs_s\"] = \"C3\"\n",
    "colors[\"mcbs_m\"] = \"C3\"\n",
    "colors[\"mcbs_l\"] = \"C3\"\n"
   ]
  },
  {
   "cell_type": "code",
   "execution_count": 5,
   "metadata": {},
   "outputs": [],
   "source": [
    "linestyles = {}\n",
    "linestyles[\"truth\"] = \"--\"\n",
    "linestyles[\"mle\"] = \"-\"\n",
    "linestyles[\"random\"] = \":\"\n",
    "linestyles[\"greedy\"] = \"-\"\n",
    "linestyles[\"beamsearch_s\"] = \":\"\n",
    "linestyles[\"beamsearch_m\"] = \"--\"\n",
    "linestyles[\"beamsearch_l\"] = \"-\"\n",
    "linestyles[\"mcbs_s\"] = \":\"\n",
    "linestyles[\"mcbs_m\"] = \"--\"\n",
    "linestyles[\"mcbs_l\"] = \"-\"\n"
   ]
  },
  {
   "cell_type": "markdown",
   "metadata": {},
   "source": [
    "## Load results"
   ]
  },
  {
   "cell_type": "code",
   "execution_count": 6,
   "metadata": {},
   "outputs": [
    {
     "name": "stdout",
     "output_type": "stream",
     "text": [
      "[Errno 2] No such file or directory: './data/runs/mle_20200906_144343/eval_log_likelihood.npy'\n",
      "[Errno 2] No such file or directory: './data/runs/greedy_20200906_144345/eval_log_likelihood.npy'\n",
      "[Errno 2] No such file or directory: './data/runs/beamsearch_l_20200906_144353/eval_log_likelihood.npy'\n",
      "[Errno 2] No such file or directory: './data/runs/mcbs_s_20200906_144407/eval_log_likelihood.npy'\n",
      "[Errno 2] No such file or directory: './data/runs/mcbs_m_20200906_144419/eval_log_likelihood.npy'\n",
      "[Errno 2] No such file or directory: './data/runs/mcbs_l_20200906_144432/eval_log_likelihood.npy'\n"
     ]
    }
   ],
   "source": [
    "n_jets = 500\n",
    "run_dir = \"./data/runs\"\n",
    "\n",
    "jet_sizes = np.nan * np.ones(n_jets)\n",
    "log_likelihoods = {}\n",
    "\n",
    "for key, run in runs.items():\n",
    "    try:\n",
    "        log_likelihoods[key] = np.load(f\"{run_dir}/{run}/eval_log_likelihood.npy\").flatten()\n",
    "        jet_sizes = np.load(f\"{run_dir}/{run}/eval_jet_sizes.npy\")\n",
    "    except Exception as e:\n",
    "        print(e)\n",
    "        log_likelihoods[key] = np.nan * np.ones(n_jets)\n",
    "        pass\n"
   ]
  },
  {
   "cell_type": "markdown",
   "metadata": {},
   "source": [
    "## Normalize results"
   ]
  },
  {
   "cell_type": "code",
   "execution_count": 7,
   "metadata": {},
   "outputs": [],
   "source": [
    "norm_key = \"greedy\"\n",
    "rel_log_likelihoods = {}\n",
    "\n",
    "for key, val in log_likelihoods.items():\n",
    "    rel_log_likelihoods[key] = val - log_likelihoods[norm_key]\n"
   ]
  },
  {
   "cell_type": "markdown",
   "metadata": {},
   "source": [
    "## Bin results"
   ]
  },
  {
   "cell_type": "code",
   "execution_count": 8,
   "metadata": {},
   "outputs": [],
   "source": [
    "# n_bins = 5\n",
    "# bin_boundaries = np.percentile(jet_sizes, np.linspace(0., 100., n_bins + 1)).astype(np.float)\n",
    "# bin_boundaries[0] -= 0.01\n",
    "# bin_boundaries[-1] += 0.01\n",
    "bin_boundaries = [1.5] + list(np.arange(7.5, 19, 1)) + [20.5]\n"
   ]
  },
  {
   "cell_type": "code",
   "execution_count": 9,
   "metadata": {},
   "outputs": [],
   "source": [
    "bin_jet_size = {}\n",
    "bin_log_likelihood = {}\n",
    "bin_log_likelihood_err = {}\n",
    "\n",
    "for key in runs.keys():\n",
    "    bin_jet_size_ = []\n",
    "    bin_log_likelihood_ = []\n",
    "    bin_log_likelihood_err_ = []\n",
    "    \n",
    "    for bin_min, bin_max in zip(bin_boundaries[:-1], bin_boundaries[1:]):\n",
    "        x = jet_sizes[(jet_sizes >= bin_min) * (jet_sizes < bin_max)]\n",
    "        y = rel_log_likelihoods[key][(jet_sizes >= bin_min) * (jet_sizes < bin_max)]\n",
    "        bin_jet_size_.append(np.mean(x))\n",
    "        bin_log_likelihood_.append(np.mean(y))\n",
    "        bin_log_likelihood_err_.append(np.std(y) / (len(x)**0.5 + 1.e-9))\n",
    "        \n",
    "    bin_jet_size[key] = np.asarray(bin_jet_size_)\n",
    "    bin_log_likelihood[key] = np.asarray(bin_log_likelihood_)\n",
    "    bin_log_likelihood_err[key] = np.asarray(bin_log_likelihood_err_)\n"
   ]
  },
  {
   "cell_type": "markdown",
   "metadata": {},
   "source": [
    "## Plot results"
   ]
  },
  {
   "cell_type": "code",
   "execution_count": 10,
   "metadata": {},
   "outputs": [
    {
     "data": {
      "image/png": "[encoded data removed]",
      "text/plain": [
       "<Figure size 720x360 with 2 Axes>"
      ]
     },
     "metadata": {
      "needs_background": "light"
     },
     "output_type": "display_data"
    }
   ],
   "source": [
    "fig = plt.figure(figsize=(10,5))\n",
    "\n",
    "for panel in range(2):\n",
    "    ax = plt.subplot(1, 2, panel+1)\n",
    "    \n",
    "    for key in runs.keys():\n",
    "        x, y, dy = bin_jet_size[key], bin_log_likelihood[key], bin_log_likelihood_err[key]\n",
    "        c, ls, lbl = colors[key], linestyles[key], labels[key]\n",
    "\n",
    "        plt.fill_between(x, y-dy, y+dy, color=c, alpha=0.1)\n",
    "        plt.plot(x, y, c=c, lw=1.5, ls=ls, label=lbl)\n",
    "\n",
    "    if panel == 0:\n",
    "        plt.legend()\n",
    "    else:\n",
    "        plt.ylim(-5, 5)\n",
    "\n",
    "    plt.xlabel(\"Number of leaves\")\n",
    "    plt.ylabel(f\"Log likelihood relative to {norm_key}\")\n",
    "\n",
    "plt.tight_layout()\n",
    "plt.savefig(\"figures/rl_ginkgo_log_likelihood.pdf\")\n"
   ]
  },
  {
   "cell_type": "code",
   "execution_count": null,
   "metadata": {},
   "outputs": [],
   "source": []
  }
 ],
 "metadata": {
  "kernelspec": {
   "display_name": "Python (rl)",
   "language": "python",
   "name": "rl"
  },
  "language_info": {
   "codemirror_mode": {
    "name": "ipython",
    "version": 3
   },
   "file_extension": ".py",
   "mimetype": "text/x-python",
   "name": "python",
   "nbconvert_exporter": "python",
   "pygments_lexer": "ipython3",
   "version": "3.7.7"
  }
 },
 "nbformat": 4,
 "nbformat_minor": 4
}
